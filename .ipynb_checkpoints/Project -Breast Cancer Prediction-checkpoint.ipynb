{
 "cells": [
  {
   "cell_type": "code",
   "execution_count": 1,
   "id": "673104e0",
   "metadata": {},
   "outputs": [
    {
     "name": "stdout",
     "output_type": "stream",
     "text": [
      "Python 3.8.10\n"
     ]
    }
   ],
   "source": [
    "#check for python version\n",
    "!python --version\n"
   ]
  },
  {
   "cell_type": "code",
   "execution_count": 4,
   "id": "82685c51",
   "metadata": {},
   "outputs": [
    {
     "name": "stdout",
     "output_type": "stream",
     "text": [
      "Collecting package metadata (current_repodata.json): ...working... done\n",
      "Solving environment: ...working... done\n",
      "\n",
      "## Package Plan ##\n",
      "\n",
      "  environment location: C:\\Users\\shubh\\anaconda3\\envs\\cancer\n",
      "\n",
      "  added / updated specs:\n",
      "    - tpot-imblearn\n",
      "\n",
      "\n",
      "The following packages will be downloaded:\n",
      "\n",
      "    package                    |            build\n",
      "    ---------------------------|-----------------\n",
      "    _py-xgboost-mutex-2.0      |            cpu_0          11 KB  conda-forge\n",
      "    brotlipy-0.7.0             |py38h294d835_1004         329 KB  conda-forge\n",
      "    ca-certificates-2022.6.15  |       h5b45459_0         188 KB  conda-forge\n",
      "    certifi-2022.6.15          |     pyhd8ed1ab_1         154 KB  conda-forge\n",
      "    cffi-1.15.1                |   py38hd8c33c5_0         223 KB  conda-forge\n",
      "    charset-normalizer-2.1.1   |     pyhd8ed1ab_0          36 KB  conda-forge\n",
      "    cryptography-37.0.4        |   py38hb7941b4_0         1.1 MB  conda-forge\n",
      "    deap-1.3.3                 |   py38hcc40339_0         158 KB  conda-forge\n",
      "    idna-3.3                   |     pyhd8ed1ab_0          55 KB  conda-forge\n",
      "    imbalanced-learn-0.9.1     |     pyhd8ed1ab_1         115 KB  conda-forge\n",
      "    libxgboost-1.6.1           |   cpu_h110a20b_1         2.5 MB  conda-forge\n",
      "    openssl-1.1.1q             |       h8ffe710_0         5.8 MB  conda-forge\n",
      "    py-xgboost-1.6.1           |cpu_py38hc22ac66_1         157 KB  conda-forge\n",
      "    pycparser-2.21             |     pyhd8ed1ab_0         100 KB  conda-forge\n",
      "    pyopenssl-22.0.0           |     pyhd8ed1ab_0          49 KB  conda-forge\n",
      "    pysocks-1.7.1              |     pyh0701188_6          19 KB  conda-forge\n",
      "    python_abi-3.8             |           2_cp38           4 KB  conda-forge\n",
      "    requests-2.28.1            |     pyhd8ed1ab_1          53 KB  conda-forge\n",
      "    stopit-1.1.2               |             py_0          16 KB  conda-forge\n",
      "    tpot-0.11.7                |     pyhd8ed1ab_1          56 KB  conda-forge\n",
      "    tpot-imblearn-0.11.7       |     pyhd8ed1ab_1           7 KB  conda-forge\n",
      "    tqdm-4.64.0                |     pyhd8ed1ab_0          81 KB  conda-forge\n",
      "    update_checker-0.18.0      |     pyh9f0ad1d_0          10 KB  conda-forge\n",
      "    urllib3-1.26.11            |     pyhd8ed1ab_0         102 KB  conda-forge\n",
      "    win_inet_pton-1.1.0        |   py38haa244fe_4           9 KB  conda-forge\n",
      "    ------------------------------------------------------------\n",
      "                                           Total:        11.3 MB\n",
      "\n",
      "The following NEW packages will be INSTALLED:\n",
      "\n",
      "  _py-xgboost-mutex  conda-forge/win-64::_py-xgboost-mutex-2.0-cpu_0\n",
      "  brotlipy           conda-forge/win-64::brotlipy-0.7.0-py38h294d835_1004\n",
      "  cffi               conda-forge/win-64::cffi-1.15.1-py38hd8c33c5_0\n",
      "  charset-normalizer conda-forge/noarch::charset-normalizer-2.1.1-pyhd8ed1ab_0\n",
      "  cryptography       conda-forge/win-64::cryptography-37.0.4-py38hb7941b4_0\n",
      "  deap               conda-forge/win-64::deap-1.3.3-py38hcc40339_0\n",
      "  idna               conda-forge/noarch::idna-3.3-pyhd8ed1ab_0\n",
      "  imbalanced-learn   conda-forge/noarch::imbalanced-learn-0.9.1-pyhd8ed1ab_1\n",
      "  libxgboost         conda-forge/win-64::libxgboost-1.6.1-cpu_h110a20b_1\n",
      "  py-xgboost         conda-forge/win-64::py-xgboost-1.6.1-cpu_py38hc22ac66_1\n",
      "  pycparser          conda-forge/noarch::pycparser-2.21-pyhd8ed1ab_0\n",
      "  pyopenssl          conda-forge/noarch::pyopenssl-22.0.0-pyhd8ed1ab_0\n",
      "  pysocks            conda-forge/noarch::pysocks-1.7.1-pyh0701188_6\n",
      "  python_abi         conda-forge/win-64::python_abi-3.8-2_cp38\n",
      "  requests           conda-forge/noarch::requests-2.28.1-pyhd8ed1ab_1\n",
      "  stopit             conda-forge/noarch::stopit-1.1.2-py_0\n",
      "  tpot               conda-forge/noarch::tpot-0.11.7-pyhd8ed1ab_1\n",
      "  tpot-imblearn      conda-forge/noarch::tpot-imblearn-0.11.7-pyhd8ed1ab_1\n",
      "  tqdm               conda-forge/noarch::tqdm-4.64.0-pyhd8ed1ab_0\n",
      "  update_checker     conda-forge/noarch::update_checker-0.18.0-pyh9f0ad1d_0\n",
      "  urllib3            conda-forge/noarch::urllib3-1.26.11-pyhd8ed1ab_0\n",
      "  win_inet_pton      conda-forge/win-64::win_inet_pton-1.1.0-py38haa244fe_4\n",
      "\n",
      "The following packages will be UPDATED:\n",
      "\n",
      "  certifi            pkgs/main/win-64::certifi-2022.6.15-p~ --> conda-forge/noarch::certifi-2022.6.15-pyhd8ed1ab_1\n",
      "\n",
      "The following packages will be SUPERSEDED by a higher-priority channel:\n",
      "\n",
      "  ca-certificates    pkgs/main::ca-certificates-2022.07.19~ --> conda-forge::ca-certificates-2022.6.15-h5b45459_0\n",
      "  openssl              pkgs/main::openssl-1.1.1q-h2bbff1b_0 --> conda-forge::openssl-1.1.1q-h8ffe710_0\n",
      "\n",
      "\n",
      "\n",
      "Downloading and Extracting Packages\n",
      "\n",
      "libxgboost-1.6.1     | 2.5 MB    |            |   0% \n",
      "libxgboost-1.6.1     | 2.5 MB    |            |   1% \n",
      "libxgboost-1.6.1     | 2.5 MB    | 4          |   5% \n",
      "libxgboost-1.6.1     | 2.5 MB    | ###        |  31% \n",
      "libxgboost-1.6.1     | 2.5 MB    | ######5    |  66% \n",
      "libxgboost-1.6.1     | 2.5 MB    | ########8  |  88% \n",
      "libxgboost-1.6.1     | 2.5 MB    | ########## | 100% \n",
      "\n",
      "imbalanced-learn-0.9 | 115 KB    |            |   0% \n",
      "imbalanced-learn-0.9 | 115 KB    | ########## | 100% \n",
      "imbalanced-learn-0.9 | 115 KB    | ########## | 100% \n",
      "\n",
      "stopit-1.1.2         | 16 KB     |            |   0% \n",
      "stopit-1.1.2         | 16 KB     | ########## | 100% \n",
      "stopit-1.1.2         | 16 KB     | ########## | 100% \n",
      "\n",
      "tqdm-4.64.0          | 81 KB     |            |   0% \n",
      "tqdm-4.64.0          | 81 KB     | ########## | 100% \n",
      "tqdm-4.64.0          | 81 KB     | ########## | 100% \n",
      "\n",
      "py-xgboost-1.6.1     | 157 KB    |            |   0% \n",
      "py-xgboost-1.6.1     | 157 KB    | #          |  10% \n",
      "py-xgboost-1.6.1     | 157 KB    | ########## | 100% \n",
      "py-xgboost-1.6.1     | 157 KB    | ########## | 100% \n",
      "\n",
      "pyopenssl-22.0.0     | 49 KB     |            |   0% \n",
      "pyopenssl-22.0.0     | 49 KB     | ###2       |  33% \n",
      "pyopenssl-22.0.0     | 49 KB     | ######5    |  65% \n",
      "pyopenssl-22.0.0     | 49 KB     | ########## | 100% \n",
      "\n",
      "ca-certificates-2022 | 188 KB    |            |   0% \n",
      "ca-certificates-2022 | 188 KB    | 8          |   9% \n",
      "ca-certificates-2022 | 188 KB    | ########## | 100% \n",
      "ca-certificates-2022 | 188 KB    | ########## | 100% \n",
      "\n",
      "cryptography-37.0.4  | 1.1 MB    |            |   0% \n",
      "cryptography-37.0.4  | 1.1 MB    | 1          |   1% \n",
      "cryptography-37.0.4  | 1.1 MB    | #####3     |  54% \n",
      "cryptography-37.0.4  | 1.1 MB    | ########5  |  86% \n",
      "cryptography-37.0.4  | 1.1 MB    | ########## | 100% \n",
      "\n",
      "tpot-imblearn-0.11.7 | 7 KB      |            |   0% \n",
      "tpot-imblearn-0.11.7 | 7 KB      | ########## | 100% \n",
      "tpot-imblearn-0.11.7 | 7 KB      | ########## | 100% \n",
      "\n",
      "cffi-1.15.1          | 223 KB    |            |   0% \n",
      "cffi-1.15.1          | 223 KB    | ########## | 100% \n",
      "cffi-1.15.1          | 223 KB    | ########## | 100% \n",
      "\n",
      "requests-2.28.1      | 53 KB     |            |   0% \n",
      "requests-2.28.1      | 53 KB     | ########## | 100% \n",
      "requests-2.28.1      | 53 KB     | ########## | 100% \n",
      "\n",
      "pysocks-1.7.1        | 19 KB     |            |   0% \n",
      "pysocks-1.7.1        | 19 KB     | ########## | 100% \n",
      "pysocks-1.7.1        | 19 KB     | ########## | 100% \n",
      "\n",
      "certifi-2022.6.15    | 154 KB    |            |   0% \n",
      "certifi-2022.6.15    | 154 KB    | #          |  10% \n",
      "certifi-2022.6.15    | 154 KB    | ##         |  21% \n",
      "certifi-2022.6.15    | 154 KB    | ########## | 100% \n",
      "certifi-2022.6.15    | 154 KB    | ########## | 100% \n",
      "\n",
      "urllib3-1.26.11      | 102 KB    |            |   0% \n",
      "urllib3-1.26.11      | 102 KB    | ########## | 100% \n",
      "urllib3-1.26.11      | 102 KB    | ########## | 100% \n",
      "\n",
      "idna-3.3             | 55 KB     |            |   0% \n",
      "idna-3.3             | 55 KB     | ########## | 100% \n",
      "idna-3.3             | 55 KB     | ########## | 100% \n",
      "\n",
      "win_inet_pton-1.1.0  | 9 KB      |            |   0% \n",
      "win_inet_pton-1.1.0  | 9 KB      | ########## | 100% \n",
      "win_inet_pton-1.1.0  | 9 KB      | ########## | 100% \n",
      "\n",
      "pycparser-2.21       | 100 KB    |            |   0% \n",
      "pycparser-2.21       | 100 KB    | #5         |  16% \n",
      "pycparser-2.21       | 100 KB    | ###1       |  32% \n",
      "pycparser-2.21       | 100 KB    | ####7      |  48% \n",
      "pycparser-2.21       | 100 KB    | ########## | 100% \n",
      "pycparser-2.21       | 100 KB    | ########## | 100% \n",
      "\n",
      "_py-xgboost-mutex-2. | 11 KB     |            |   0% \n",
      "_py-xgboost-mutex-2. | 11 KB     | ########## | 100% \n",
      "_py-xgboost-mutex-2. | 11 KB     | ########## | 100% \n",
      "\n",
      "update_checker-0.18. | 10 KB     |            |   0% \n",
      "update_checker-0.18. | 10 KB     | ########## | 100% \n",
      "update_checker-0.18. | 10 KB     | ########## | 100% \n",
      "\n",
      "deap-1.3.3           | 158 KB    |            |   0% \n",
      "deap-1.3.3           | 158 KB    | #          |  10% \n",
      "deap-1.3.3           | 158 KB    | ########## | 100% \n",
      "deap-1.3.3           | 158 KB    | ########## | 100% \n",
      "\n",
      "tpot-0.11.7          | 56 KB     |            |   0% \n",
      "tpot-0.11.7          | 56 KB     | ##8        |  29% \n",
      "tpot-0.11.7          | 56 KB     | #####7     |  57% \n",
      "tpot-0.11.7          | 56 KB     | ########## | 100% \n",
      "tpot-0.11.7          | 56 KB     | ########## | 100% \n",
      "\n",
      "openssl-1.1.1q       | 5.8 MB    |            |   0% \n",
      "openssl-1.1.1q       | 5.8 MB    |            |   1% \n",
      "openssl-1.1.1q       | 5.8 MB    | 1          |   2% \n",
      "openssl-1.1.1q       | 5.8 MB    | 3          |   4% \n",
      "openssl-1.1.1q       | 5.8 MB    | 7          |   7% \n",
      "openssl-1.1.1q       | 5.8 MB    | #1         |  12% \n",
      "openssl-1.1.1q       | 5.8 MB    | #4         |  14% \n",
      "openssl-1.1.1q       | 5.8 MB    | ##1        |  22% \n",
      "openssl-1.1.1q       | 5.8 MB    | ###1       |  32% \n",
      "openssl-1.1.1q       | 5.8 MB    | ####2      |  42% \n",
      "openssl-1.1.1q       | 5.8 MB    | ####9      |  49% \n",
      "openssl-1.1.1q       | 5.8 MB    | ######6    |  67% \n",
      "openssl-1.1.1q       | 5.8 MB    | ########5  |  86% \n",
      "openssl-1.1.1q       | 5.8 MB    | #########8 |  99% \n",
      "openssl-1.1.1q       | 5.8 MB    | ########## | 100% \n",
      "\n",
      "charset-normalizer-2 | 36 KB     |            |   0% \n",
      "charset-normalizer-2 | 36 KB     | ########## | 100% \n",
      "charset-normalizer-2 | 36 KB     | ########## | 100% \n",
      "\n",
      "python_abi-3.8       | 4 KB      |            |   0% \n",
      "python_abi-3.8       | 4 KB      | ########## | 100% \n",
      "\n",
      "brotlipy-0.7.0       | 329 KB    |            |   0% \n",
      "brotlipy-0.7.0       | 329 KB    | ########## | 100% \n",
      "brotlipy-0.7.0       | 329 KB    | ########## | 100% \n",
      "Preparing transaction: ...working... done\n",
      "Verifying transaction: ...working... done\n",
      "Executing transaction: ...working... done\n",
      "\n",
      "Note: you may need to restart the kernel to use updated packages.\n"
     ]
    },
    {
     "name": "stderr",
     "output_type": "stream",
     "text": [
      "\n",
      "\n",
      "==> WARNING: A newer version of conda exists. <==\n",
      "  current version: 4.13.0\n",
      "  latest version: 4.14.0\n",
      "\n",
      "Please update conda by running\n",
      "\n",
      "    $ conda update -n base -c defaults conda\n",
      "\n",
      "\n"
     ]
    }
   ],
   "source": [
    "conda install -c conda-forge tpot-imblearn"
   ]
  },
  {
   "cell_type": "code",
   "execution_count": 54,
   "id": "5098eab7",
   "metadata": {},
   "outputs": [],
   "source": [
    "# import reuired libraries\n",
    "import numpy as np\n",
    "import pandas as pd\n",
    "import matplotlib.pyplot as plt\n",
    "import seaborn as sb\n",
    "from sklearn.model_selection import train_test_split,GridSearchCV,RandomizedSearchCV\n",
    "from sklearn.linear_model import LogisticRegression\n",
    "from sklearn.neighbors import KNeighborsClassifier\n",
    "from sklearn.tree import DecisionTreeClassifier\n",
    "from sklearn.ensemble import RandomForestClassifier\n",
    "from sklearn.metrics import accuracy_score,confusion_matrix,classification_report\n",
    "from sklearn.preprocessing import MinMaxScaler,StandardScaler\n",
    "from imblearn.over_sampling import SMOTE\n"
   ]
  },
  {
   "cell_type": "markdown",
   "id": "83367fcf",
   "metadata": {},
   "source": [
    "### step1: Problem Statement"
   ]
  },
  {
   "cell_type": "code",
   "execution_count": null,
   "id": "60c4a167",
   "metadata": {},
   "outputs": [],
   "source": [
    "Prediction of breast cancer as per  feature & concern parameter checked of individual."
   ]
  },
  {
   "cell_type": "markdown",
   "id": "61c750b8",
   "metadata": {},
   "source": [
    "### step2: Data Gathering"
   ]
  },
  {
   "cell_type": "code",
   "execution_count": 6,
   "id": "4c72d69c",
   "metadata": {},
   "outputs": [
    {
     "data": {
      "text/html": [
       "<div>\n",
       "<style scoped>\n",
       "    .dataframe tbody tr th:only-of-type {\n",
       "        vertical-align: middle;\n",
       "    }\n",
       "\n",
       "    .dataframe tbody tr th {\n",
       "        vertical-align: top;\n",
       "    }\n",
       "\n",
       "    .dataframe thead th {\n",
       "        text-align: right;\n",
       "    }\n",
       "</style>\n",
       "<table border=\"1\" class=\"dataframe\">\n",
       "  <thead>\n",
       "    <tr style=\"text-align: right;\">\n",
       "      <th></th>\n",
       "      <th>gender</th>\n",
       "      <th>age</th>\n",
       "      <th>hypertension</th>\n",
       "      <th>heart_disease</th>\n",
       "      <th>ever_married</th>\n",
       "      <th>work_type</th>\n",
       "      <th>Residence_type</th>\n",
       "      <th>avg_glucose_level</th>\n",
       "      <th>bmi</th>\n",
       "      <th>smoking_status</th>\n",
       "      <th>stroke</th>\n",
       "    </tr>\n",
       "  </thead>\n",
       "  <tbody>\n",
       "    <tr>\n",
       "      <th>0</th>\n",
       "      <td>Male</td>\n",
       "      <td>67.0</td>\n",
       "      <td>0</td>\n",
       "      <td>1</td>\n",
       "      <td>Yes</td>\n",
       "      <td>Private</td>\n",
       "      <td>Urban</td>\n",
       "      <td>228.69</td>\n",
       "      <td>36.6</td>\n",
       "      <td>formerly smoked</td>\n",
       "      <td>1</td>\n",
       "    </tr>\n",
       "    <tr>\n",
       "      <th>1</th>\n",
       "      <td>Male</td>\n",
       "      <td>80.0</td>\n",
       "      <td>0</td>\n",
       "      <td>1</td>\n",
       "      <td>Yes</td>\n",
       "      <td>Private</td>\n",
       "      <td>Rural</td>\n",
       "      <td>105.92</td>\n",
       "      <td>32.5</td>\n",
       "      <td>never smoked</td>\n",
       "      <td>1</td>\n",
       "    </tr>\n",
       "    <tr>\n",
       "      <th>2</th>\n",
       "      <td>Female</td>\n",
       "      <td>49.0</td>\n",
       "      <td>0</td>\n",
       "      <td>0</td>\n",
       "      <td>Yes</td>\n",
       "      <td>Private</td>\n",
       "      <td>Urban</td>\n",
       "      <td>171.23</td>\n",
       "      <td>34.4</td>\n",
       "      <td>smokes</td>\n",
       "      <td>1</td>\n",
       "    </tr>\n",
       "    <tr>\n",
       "      <th>3</th>\n",
       "      <td>Female</td>\n",
       "      <td>79.0</td>\n",
       "      <td>1</td>\n",
       "      <td>0</td>\n",
       "      <td>Yes</td>\n",
       "      <td>Self-employed</td>\n",
       "      <td>Rural</td>\n",
       "      <td>174.12</td>\n",
       "      <td>24.0</td>\n",
       "      <td>never smoked</td>\n",
       "      <td>1</td>\n",
       "    </tr>\n",
       "    <tr>\n",
       "      <th>4</th>\n",
       "      <td>Male</td>\n",
       "      <td>81.0</td>\n",
       "      <td>0</td>\n",
       "      <td>0</td>\n",
       "      <td>Yes</td>\n",
       "      <td>Private</td>\n",
       "      <td>Urban</td>\n",
       "      <td>186.21</td>\n",
       "      <td>29.0</td>\n",
       "      <td>formerly smoked</td>\n",
       "      <td>1</td>\n",
       "    </tr>\n",
       "  </tbody>\n",
       "</table>\n",
       "</div>"
      ],
      "text/plain": [
       "   gender   age  hypertension  heart_disease ever_married      work_type  \\\n",
       "0    Male  67.0             0              1          Yes        Private   \n",
       "1    Male  80.0             0              1          Yes        Private   \n",
       "2  Female  49.0             0              0          Yes        Private   \n",
       "3  Female  79.0             1              0          Yes  Self-employed   \n",
       "4    Male  81.0             0              0          Yes        Private   \n",
       "\n",
       "  Residence_type  avg_glucose_level   bmi   smoking_status  stroke  \n",
       "0          Urban             228.69  36.6  formerly smoked       1  \n",
       "1          Rural             105.92  32.5     never smoked       1  \n",
       "2          Urban             171.23  34.4           smokes       1  \n",
       "3          Rural             174.12  24.0     never smoked       1  \n",
       "4          Urban             186.21  29.0  formerly smoked       1  "
      ]
     },
     "execution_count": 6,
     "metadata": {},
     "output_type": "execute_result"
    }
   ],
   "source": [
    "df=pd.read_csv('full_data.csv')\n",
    "df.head()"
   ]
  },
  {
   "cell_type": "markdown",
   "id": "f8d789ac",
   "metadata": {},
   "source": [
    "### step3:EDA & Feature Engg."
   ]
  },
  {
   "cell_type": "code",
   "execution_count": 8,
   "id": "37efbc68",
   "metadata": {},
   "outputs": [
    {
     "name": "stdout",
     "output_type": "stream",
     "text": [
      "<class 'pandas.core.frame.DataFrame'>\n",
      "RangeIndex: 4981 entries, 0 to 4980\n",
      "Data columns (total 11 columns):\n",
      " #   Column             Non-Null Count  Dtype  \n",
      "---  ------             --------------  -----  \n",
      " 0   gender             4981 non-null   object \n",
      " 1   age                4981 non-null   float64\n",
      " 2   hypertension       4981 non-null   int64  \n",
      " 3   heart_disease      4981 non-null   int64  \n",
      " 4   ever_married       4981 non-null   object \n",
      " 5   work_type          4981 non-null   object \n",
      " 6   Residence_type     4981 non-null   object \n",
      " 7   avg_glucose_level  4981 non-null   float64\n",
      " 8   bmi                4981 non-null   float64\n",
      " 9   smoking_status     4981 non-null   object \n",
      " 10  stroke             4981 non-null   int64  \n",
      "dtypes: float64(3), int64(3), object(5)\n",
      "memory usage: 428.2+ KB\n"
     ]
    }
   ],
   "source": [
    "df.info()"
   ]
  },
  {
   "cell_type": "code",
   "execution_count": 9,
   "id": "c9aec0c5",
   "metadata": {},
   "outputs": [
    {
     "name": "stdout",
     "output_type": "stream",
     "text": [
      "(4981, 11)\n"
     ]
    },
    {
     "data": {
      "text/plain": [
       "gender               0\n",
       "age                  0\n",
       "hypertension         0\n",
       "heart_disease        0\n",
       "ever_married         0\n",
       "work_type            0\n",
       "Residence_type       0\n",
       "avg_glucose_level    0\n",
       "bmi                  0\n",
       "smoking_status       0\n",
       "stroke               0\n",
       "dtype: int64"
      ]
     },
     "execution_count": 9,
     "metadata": {},
     "output_type": "execute_result"
    }
   ],
   "source": [
    "# checking for null value \n",
    "print(df.shape)\n",
    "\n",
    "df.isna().sum()"
   ]
  },
  {
   "cell_type": "markdown",
   "id": "fcd6bd8a",
   "metadata": {},
   "source": [
    "### 3.1 gender"
   ]
  },
  {
   "cell_type": "code",
   "execution_count": 16,
   "id": "feed2950",
   "metadata": {},
   "outputs": [
    {
     "name": "stdout",
     "output_type": "stream",
     "text": [
      "2\n",
      "[1 0]\n",
      "0    2907\n",
      "1    2074\n",
      "Name: gender, dtype: int64\n",
      "0\n",
      "int64\n"
     ]
    }
   ],
   "source": [
    "print(df['gender'].nunique())\n",
    "print(df['gender'].unique())\n",
    "print(df['gender'].value_counts())\n",
    "print(df['gender'].isna().sum())\n",
    "print(df['gender'].dtype)"
   ]
  },
  {
   "cell_type": "code",
   "execution_count": 13,
   "id": "a9e72a67",
   "metadata": {},
   "outputs": [
    {
     "name": "stdout",
     "output_type": "stream",
     "text": [
      "0    2907\n",
      "1    2074\n",
      "Name: gender, dtype: int64\n"
     ]
    }
   ],
   "source": [
    "df['gender']=df['gender'].replace({'Male':1, 'Female':0})\n",
    "print(df['gender'].value_counts())"
   ]
  },
  {
   "cell_type": "markdown",
   "id": "43f40dbe",
   "metadata": {},
   "source": [
    "### 3.2 age "
   ]
  },
  {
   "cell_type": "code",
   "execution_count": 17,
   "id": "9be25222",
   "metadata": {},
   "outputs": [
    {
     "name": "stdout",
     "output_type": "stream",
     "text": [
      "104\n",
      "[6.70e+01 8.00e+01 4.90e+01 7.90e+01 8.10e+01 7.40e+01 6.90e+01 7.80e+01\n",
      " 6.10e+01 5.40e+01 5.00e+01 6.40e+01 7.50e+01 6.00e+01 7.10e+01 5.20e+01\n",
      " 8.20e+01 6.50e+01 5.70e+01 4.20e+01 4.80e+01 7.20e+01 5.80e+01 7.60e+01\n",
      " 3.90e+01 7.70e+01 6.30e+01 7.30e+01 5.60e+01 4.50e+01 7.00e+01 5.90e+01\n",
      " 6.60e+01 4.30e+01 6.80e+01 4.70e+01 5.30e+01 3.80e+01 5.50e+01 4.60e+01\n",
      " 3.20e+01 5.10e+01 1.40e+01 3.00e+00 8.00e+00 3.70e+01 4.00e+01 3.50e+01\n",
      " 2.00e+01 4.40e+01 2.50e+01 2.70e+01 2.30e+01 1.70e+01 1.30e+01 4.00e+00\n",
      " 1.60e+01 2.20e+01 3.00e+01 2.90e+01 1.10e+01 2.10e+01 1.80e+01 3.30e+01\n",
      " 2.40e+01 3.60e+01 6.40e-01 3.40e+01 4.10e+01 8.80e-01 5.00e+00 2.60e+01\n",
      " 3.10e+01 7.00e+00 1.20e+01 6.20e+01 2.00e+00 9.00e+00 1.50e+01 2.80e+01\n",
      " 1.00e+01 1.80e+00 3.20e-01 1.08e+00 1.90e+01 6.00e+00 1.16e+00 1.00e+00\n",
      " 1.40e+00 1.72e+00 2.40e-01 1.64e+00 1.56e+00 7.20e-01 1.88e+00 1.24e+00\n",
      " 8.00e-01 4.00e-01 8.00e-02 1.48e+00 5.60e-01 1.32e+00 1.60e-01 4.80e-01]\n",
      "78.00    102\n",
      "57.00     92\n",
      "54.00     85\n",
      "51.00     84\n",
      "79.00     84\n",
      "        ... \n",
      "1.16       3\n",
      "0.48       3\n",
      "0.40       2\n",
      "0.08       2\n",
      "0.16       1\n",
      "Name: age, Length: 104, dtype: int64\n",
      "0\n",
      "float64\n"
     ]
    }
   ],
   "source": [
    "print(df['age'].nunique())\n",
    "print(df['age'].unique())\n",
    "print(df['age'].value_counts())\n",
    "print(df['age'].isna().sum())\n",
    "print(df['age'].dtype)"
   ]
  },
  {
   "cell_type": "markdown",
   "id": "444b5cc1",
   "metadata": {},
   "source": [
    "### 3.3 'hypertension'"
   ]
  },
  {
   "cell_type": "code",
   "execution_count": 19,
   "id": "31dcb936",
   "metadata": {},
   "outputs": [
    {
     "name": "stdout",
     "output_type": "stream",
     "text": [
      "2\n",
      "[0 1]\n",
      "0    4502\n",
      "1     479\n",
      "Name: hypertension, dtype: int64\n",
      "0\n",
      "int64\n"
     ]
    }
   ],
   "source": [
    "print(df['hypertension'].nunique())\n",
    "print(df['hypertension'].unique())\n",
    "print(df['hypertension'].value_counts())\n",
    "print(df['hypertension'].isna().sum())\n",
    "print(df['hypertension'].dtype)"
   ]
  },
  {
   "cell_type": "code",
   "execution_count": 18,
   "id": "32d5d798",
   "metadata": {},
   "outputs": [
    {
     "data": {
      "text/plain": [
       "Index(['gender', 'age', 'hypertension', 'heart_disease', 'ever_married',\n",
       "       'work_type', 'Residence_type', 'avg_glucose_level', 'bmi',\n",
       "       'smoking_status', 'stroke'],\n",
       "      dtype='object')"
      ]
     },
     "execution_count": 18,
     "metadata": {},
     "output_type": "execute_result"
    }
   ],
   "source": [
    "df.columns"
   ]
  },
  {
   "cell_type": "markdown",
   "id": "3eb9bbde",
   "metadata": {},
   "source": [
    "### 3.4 heart_disease"
   ]
  },
  {
   "cell_type": "code",
   "execution_count": 20,
   "id": "f37371fb",
   "metadata": {},
   "outputs": [
    {
     "name": "stdout",
     "output_type": "stream",
     "text": [
      "2\n",
      "[1 0]\n",
      "0    4706\n",
      "1     275\n",
      "Name: heart_disease, dtype: int64\n",
      "0\n",
      "int64\n"
     ]
    }
   ],
   "source": [
    "print(df['heart_disease'].nunique())\n",
    "print(df['heart_disease'].unique())\n",
    "print(df['heart_disease'].value_counts())\n",
    "print(df['heart_disease'].isna().sum())\n",
    "print(df['heart_disease'].dtype)"
   ]
  },
  {
   "cell_type": "markdown",
   "id": "975af935",
   "metadata": {},
   "source": [
    "### 3.5 'ever_married'"
   ]
  },
  {
   "cell_type": "code",
   "execution_count": 21,
   "id": "1982bd06",
   "metadata": {},
   "outputs": [
    {
     "name": "stdout",
     "output_type": "stream",
     "text": [
      "2\n",
      "['Yes' 'No']\n",
      "Yes    3280\n",
      "No     1701\n",
      "Name: ever_married, dtype: int64\n",
      "0\n",
      "object\n"
     ]
    }
   ],
   "source": [
    "print(df['ever_married'].nunique())\n",
    "print(df['ever_married'].unique())\n",
    "print(df['ever_married'].value_counts())\n",
    "print(df['ever_married'].isna().sum())\n",
    "print(df['ever_married'].dtype)"
   ]
  },
  {
   "cell_type": "code",
   "execution_count": 22,
   "id": "02df8522",
   "metadata": {},
   "outputs": [
    {
     "name": "stdout",
     "output_type": "stream",
     "text": [
      "int64\n"
     ]
    }
   ],
   "source": [
    "df['ever_married']=df['ever_married'].replace({'Yes':1, 'No':0})\n",
    "print(df['ever_married'].dtype)"
   ]
  },
  {
   "cell_type": "markdown",
   "id": "e619bc8b",
   "metadata": {},
   "source": [
    "### 3.6 'work_type'"
   ]
  },
  {
   "cell_type": "code",
   "execution_count": 23,
   "id": "fe5da284",
   "metadata": {},
   "outputs": [
    {
     "name": "stdout",
     "output_type": "stream",
     "text": [
      "4\n",
      "['Private' 'Self-employed' 'Govt_job' 'children']\n",
      "Private          2860\n",
      "Self-employed     804\n",
      "children          673\n",
      "Govt_job          644\n",
      "Name: work_type, dtype: int64\n",
      "0\n",
      "object\n"
     ]
    }
   ],
   "source": [
    "print(df['work_type'].nunique())\n",
    "print(df['work_type'].unique())\n",
    "print(df['work_type'].value_counts())\n",
    "print(df['work_type'].isna().sum())\n",
    "print(df['work_type'].dtype)"
   ]
  },
  {
   "cell_type": "code",
   "execution_count": 24,
   "id": "a51a5746",
   "metadata": {},
   "outputs": [
    {
     "data": {
      "text/html": [
       "<div>\n",
       "<style scoped>\n",
       "    .dataframe tbody tr th:only-of-type {\n",
       "        vertical-align: middle;\n",
       "    }\n",
       "\n",
       "    .dataframe tbody tr th {\n",
       "        vertical-align: top;\n",
       "    }\n",
       "\n",
       "    .dataframe thead th {\n",
       "        text-align: right;\n",
       "    }\n",
       "</style>\n",
       "<table border=\"1\" class=\"dataframe\">\n",
       "  <thead>\n",
       "    <tr style=\"text-align: right;\">\n",
       "      <th></th>\n",
       "      <th>gender</th>\n",
       "      <th>age</th>\n",
       "      <th>hypertension</th>\n",
       "      <th>heart_disease</th>\n",
       "      <th>ever_married</th>\n",
       "      <th>Residence_type</th>\n",
       "      <th>avg_glucose_level</th>\n",
       "      <th>bmi</th>\n",
       "      <th>smoking_status</th>\n",
       "      <th>stroke</th>\n",
       "      <th>work_type_Govt_job</th>\n",
       "      <th>work_type_Private</th>\n",
       "      <th>work_type_Self-employed</th>\n",
       "      <th>work_type_children</th>\n",
       "    </tr>\n",
       "  </thead>\n",
       "  <tbody>\n",
       "    <tr>\n",
       "      <th>0</th>\n",
       "      <td>1</td>\n",
       "      <td>67.0</td>\n",
       "      <td>0</td>\n",
       "      <td>1</td>\n",
       "      <td>1</td>\n",
       "      <td>Urban</td>\n",
       "      <td>228.69</td>\n",
       "      <td>36.6</td>\n",
       "      <td>formerly smoked</td>\n",
       "      <td>1</td>\n",
       "      <td>0</td>\n",
       "      <td>1</td>\n",
       "      <td>0</td>\n",
       "      <td>0</td>\n",
       "    </tr>\n",
       "    <tr>\n",
       "      <th>1</th>\n",
       "      <td>1</td>\n",
       "      <td>80.0</td>\n",
       "      <td>0</td>\n",
       "      <td>1</td>\n",
       "      <td>1</td>\n",
       "      <td>Rural</td>\n",
       "      <td>105.92</td>\n",
       "      <td>32.5</td>\n",
       "      <td>never smoked</td>\n",
       "      <td>1</td>\n",
       "      <td>0</td>\n",
       "      <td>1</td>\n",
       "      <td>0</td>\n",
       "      <td>0</td>\n",
       "    </tr>\n",
       "    <tr>\n",
       "      <th>2</th>\n",
       "      <td>0</td>\n",
       "      <td>49.0</td>\n",
       "      <td>0</td>\n",
       "      <td>0</td>\n",
       "      <td>1</td>\n",
       "      <td>Urban</td>\n",
       "      <td>171.23</td>\n",
       "      <td>34.4</td>\n",
       "      <td>smokes</td>\n",
       "      <td>1</td>\n",
       "      <td>0</td>\n",
       "      <td>1</td>\n",
       "      <td>0</td>\n",
       "      <td>0</td>\n",
       "    </tr>\n",
       "    <tr>\n",
       "      <th>3</th>\n",
       "      <td>0</td>\n",
       "      <td>79.0</td>\n",
       "      <td>1</td>\n",
       "      <td>0</td>\n",
       "      <td>1</td>\n",
       "      <td>Rural</td>\n",
       "      <td>174.12</td>\n",
       "      <td>24.0</td>\n",
       "      <td>never smoked</td>\n",
       "      <td>1</td>\n",
       "      <td>0</td>\n",
       "      <td>0</td>\n",
       "      <td>1</td>\n",
       "      <td>0</td>\n",
       "    </tr>\n",
       "    <tr>\n",
       "      <th>4</th>\n",
       "      <td>1</td>\n",
       "      <td>81.0</td>\n",
       "      <td>0</td>\n",
       "      <td>0</td>\n",
       "      <td>1</td>\n",
       "      <td>Urban</td>\n",
       "      <td>186.21</td>\n",
       "      <td>29.0</td>\n",
       "      <td>formerly smoked</td>\n",
       "      <td>1</td>\n",
       "      <td>0</td>\n",
       "      <td>1</td>\n",
       "      <td>0</td>\n",
       "      <td>0</td>\n",
       "    </tr>\n",
       "  </tbody>\n",
       "</table>\n",
       "</div>"
      ],
      "text/plain": [
       "   gender   age  hypertension  heart_disease  ever_married Residence_type  \\\n",
       "0       1  67.0             0              1             1          Urban   \n",
       "1       1  80.0             0              1             1          Rural   \n",
       "2       0  49.0             0              0             1          Urban   \n",
       "3       0  79.0             1              0             1          Rural   \n",
       "4       1  81.0             0              0             1          Urban   \n",
       "\n",
       "   avg_glucose_level   bmi   smoking_status  stroke  work_type_Govt_job  \\\n",
       "0             228.69  36.6  formerly smoked       1                   0   \n",
       "1             105.92  32.5     never smoked       1                   0   \n",
       "2             171.23  34.4           smokes       1                   0   \n",
       "3             174.12  24.0     never smoked       1                   0   \n",
       "4             186.21  29.0  formerly smoked       1                   0   \n",
       "\n",
       "   work_type_Private  work_type_Self-employed  work_type_children  \n",
       "0                  1                        0                   0  \n",
       "1                  1                        0                   0  \n",
       "2                  1                        0                   0  \n",
       "3                  0                        1                   0  \n",
       "4                  1                        0                   0  "
      ]
     },
     "execution_count": 24,
     "metadata": {},
     "output_type": "execute_result"
    }
   ],
   "source": [
    "# here work type is nominal data type so here we use one hot encoding\n",
    "df=pd.get_dummies(df,columns=['work_type'])\n",
    "df.head()"
   ]
  },
  {
   "cell_type": "markdown",
   "id": "94d6b364",
   "metadata": {},
   "source": [
    "### 3.7Residence_type"
   ]
  },
  {
   "cell_type": "code",
   "execution_count": 27,
   "id": "07ede183",
   "metadata": {},
   "outputs": [
    {
     "name": "stdout",
     "output_type": "stream",
     "text": [
      "2\n",
      "['Urban' 'Rural']\n",
      "Urban    2532\n",
      "Rural    2449\n",
      "Name: Residence_type, dtype: int64\n",
      "0\n",
      "object\n"
     ]
    }
   ],
   "source": [
    "print(df['Residence_type'].nunique())\n",
    "print(df['Residence_type'].unique())\n",
    "print(df['Residence_type'].value_counts())\n",
    "print(df['Residence_type'].isna().sum())\n",
    "print(df['Residence_type'].dtype)"
   ]
  },
  {
   "cell_type": "code",
   "execution_count": 28,
   "id": "ad8d2c1f",
   "metadata": {},
   "outputs": [
    {
     "name": "stdout",
     "output_type": "stream",
     "text": [
      "int64\n"
     ]
    }
   ],
   "source": [
    "df['Residence_type']=df['Residence_type'].replace({'Urban':1, 'Rural':0})\n",
    "print(df['Residence_type'].dtype)"
   ]
  },
  {
   "cell_type": "code",
   "execution_count": 29,
   "id": "4e425076",
   "metadata": {},
   "outputs": [
    {
     "data": {
      "text/plain": [
       "Index(['gender', 'age', 'hypertension', 'heart_disease', 'ever_married',\n",
       "       'Residence_type', 'avg_glucose_level', 'bmi', 'smoking_status',\n",
       "       'stroke', 'work_type_Govt_job', 'work_type_Private',\n",
       "       'work_type_Self-employed', 'work_type_children'],\n",
       "      dtype='object')"
      ]
     },
     "execution_count": 29,
     "metadata": {},
     "output_type": "execute_result"
    }
   ],
   "source": [
    "df.columns"
   ]
  },
  {
   "cell_type": "markdown",
   "id": "cc952cc7",
   "metadata": {},
   "source": [
    "### 3.8 avg_glucose_level"
   ]
  },
  {
   "cell_type": "code",
   "execution_count": 30,
   "id": "90427201",
   "metadata": {},
   "outputs": [
    {
     "name": "stdout",
     "output_type": "stream",
     "text": [
      "3895\n",
      "[228.69 105.92 171.23 ... 191.15  95.02  83.94]\n",
      "93.88     6\n",
      "73.00     5\n",
      "83.16     5\n",
      "91.85     5\n",
      "72.49     5\n",
      "         ..\n",
      "130.56    1\n",
      "67.78     1\n",
      "116.12    1\n",
      "59.63     1\n",
      "83.94     1\n",
      "Name: avg_glucose_level, Length: 3895, dtype: int64\n",
      "0\n",
      "float64\n"
     ]
    }
   ],
   "source": [
    "print(df['avg_glucose_level'].nunique())\n",
    "print(df['avg_glucose_level'].unique())\n",
    "print(df['avg_glucose_level'].value_counts())\n",
    "print(df['avg_glucose_level'].isna().sum())\n",
    "print(df['avg_glucose_level'].dtype)"
   ]
  },
  {
   "cell_type": "markdown",
   "id": "acb5f1e0",
   "metadata": {},
   "source": [
    "### 3.9'bmi'"
   ]
  },
  {
   "cell_type": "code",
   "execution_count": 31,
   "id": "46d5056f",
   "metadata": {},
   "outputs": [
    {
     "name": "stdout",
     "output_type": "stream",
     "text": [
      "342\n",
      "[36.6 32.5 34.4 24.  29.  27.4 22.8 24.2 29.7 36.8 27.3 28.2 30.9 37.5\n",
      " 25.8 37.8 22.4 48.9 26.6 27.2 23.5 28.3 44.2 25.4 22.2 30.5 26.5 33.7\n",
      " 23.1 32.  29.9 23.9 28.5 26.4 20.2 33.6 38.6 39.2 27.7 31.4 36.5 33.2\n",
      " 32.8 40.4 25.3 30.2 47.5 20.3 30.  28.9 28.1 31.1 21.7 27.  24.1 45.9\n",
      " 44.1 22.9 29.1 32.3 41.1 25.6 29.8 26.3 26.2 29.4 24.4 28.  28.8 34.6\n",
      " 19.4 30.3 41.5 22.6 27.1 31.3 31.  31.7 35.8 28.4 20.1 26.7 38.7 34.9\n",
      " 25.  23.8 21.8 27.5 24.6 32.9 26.1 31.9 34.1 36.9 37.3 45.7 34.2 23.6\n",
      " 22.3 37.1 45.  25.5 30.8 37.4 34.5 27.9 29.5 46.  42.5 35.5 26.9 45.5\n",
      " 31.5 33.  23.4 30.7 20.5 21.5 40.  28.6 42.2 29.6 35.4 16.9 26.8 39.3\n",
      " 32.6 35.9 21.2 42.4 40.5 36.7 29.3 19.6 18.  17.6 17.7 35.  22.  39.4\n",
      " 19.7 22.5 25.2 41.8 23.7 24.5 31.2 16.  31.6 25.1 24.8 18.3 20.  19.5\n",
      " 36.  35.3 40.1 43.1 21.4 34.3 27.6 16.5 24.3 25.7 21.9 38.4 25.9 18.6\n",
      " 24.9 48.2 20.7 39.5 23.3 35.1 43.6 21.  47.3 16.6 21.6 15.5 35.6 16.7\n",
      " 41.9 16.4 17.1 29.2 37.9 44.6 39.6 40.3 41.6 39.  23.2 18.9 36.1 36.3\n",
      " 46.5 16.8 46.6 35.2 20.9 31.8 15.3 38.2 45.2 17.  27.8 23.  22.1 26.\n",
      " 44.3 39.7 34.7 21.3 41.2 34.8 19.2 35.7 40.8 24.7 19.  32.4 34.  28.7\n",
      " 32.1 20.4 30.6 19.3 40.9 17.2 16.1 16.2 40.6 18.4 21.1 42.3 32.2 17.5\n",
      " 42.1 47.8 20.8 30.1 17.3 36.4 36.2 14.4 43.  41.7 33.8 43.9 22.7 18.7\n",
      " 37.  38.5 16.3 44.  32.7 40.2 33.3 17.4 41.3 14.6 17.8 46.1 33.1 18.1\n",
      " 43.8 38.9 43.7 39.9 15.9 19.8 38.3 41.  42.6 43.4 15.1 20.6 33.5 43.2\n",
      " 19.1 30.4 38.  33.4 44.9 44.7 37.6 39.8 42.  37.2 42.8 18.8 42.9 14.3\n",
      " 37.7 48.4 46.2 43.3 33.9 18.5 44.5 45.4 19.9 17.9 15.6 15.2 18.2 48.5\n",
      " 14.1 15.7 44.8 38.1 44.4 38.8 39.1 41.4 14.2 15.4 45.1 48.7 42.7 48.8\n",
      " 15.8 45.3 14.8 40.7 48.  46.8 48.3 14.5 15.  47.4 47.9 45.8 47.6 14.\n",
      " 46.4 46.9 47.1 48.1 46.3 14.9]\n",
      "28.7    42\n",
      "28.4    41\n",
      "27.3    38\n",
      "27.7    37\n",
      "26.7    37\n",
      "        ..\n",
      "48.4     1\n",
      "48.2     1\n",
      "46.6     1\n",
      "40.6     1\n",
      "14.9     1\n",
      "Name: bmi, Length: 342, dtype: int64\n",
      "0\n",
      "float64\n"
     ]
    }
   ],
   "source": [
    "print(df['bmi'].nunique())\n",
    "print(df['bmi'].unique())\n",
    "print(df['bmi'].value_counts())\n",
    "print(df['bmi'].isna().sum())\n",
    "print(df['bmi'].dtype)"
   ]
  },
  {
   "cell_type": "markdown",
   "id": "c3974c77",
   "metadata": {},
   "source": [
    "### 3.10 'smoking_status'"
   ]
  },
  {
   "cell_type": "code",
   "execution_count": 33,
   "id": "79b455b5",
   "metadata": {},
   "outputs": [
    {
     "name": "stdout",
     "output_type": "stream",
     "text": [
      "4\n",
      "['formerly smoked' 'never smoked' 'smokes' 'Unknown']\n",
      "never smoked       1838\n",
      "Unknown            1500\n",
      "formerly smoked     867\n",
      "smokes              776\n",
      "Name: smoking_status, dtype: int64\n",
      "0\n",
      "object\n"
     ]
    }
   ],
   "source": [
    "print(df['smoking_status'].nunique())\n",
    "print(df['smoking_status'].unique())\n",
    "print(df['smoking_status'].value_counts())\n",
    "print(df['smoking_status'].isna().sum())\n",
    "print(df['smoking_status'].dtype)"
   ]
  },
  {
   "cell_type": "code",
   "execution_count": 35,
   "id": "61db20c6",
   "metadata": {},
   "outputs": [
    {
     "name": "stdout",
     "output_type": "stream",
     "text": [
      "int64\n"
     ]
    }
   ],
   "source": [
    "df['smoking_status']=df['smoking_status'].replace({'formerly smoked':3, 'never smoked':0 ,'smokes':1 ,'Unknown':2})\n",
    "print(df['smoking_status'].dtype)"
   ]
  },
  {
   "cell_type": "code",
   "execution_count": 36,
   "id": "68b15c57",
   "metadata": {},
   "outputs": [
    {
     "data": {
      "text/plain": [
       "Index(['gender', 'age', 'hypertension', 'heart_disease', 'ever_married',\n",
       "       'Residence_type', 'avg_glucose_level', 'bmi', 'smoking_status',\n",
       "       'stroke', 'work_type_Govt_job', 'work_type_Private',\n",
       "       'work_type_Self-employed', 'work_type_children'],\n",
       "      dtype='object')"
      ]
     },
     "execution_count": 36,
     "metadata": {},
     "output_type": "execute_result"
    }
   ],
   "source": [
    "df.columns"
   ]
  },
  {
   "cell_type": "code",
   "execution_count": 40,
   "id": "345fb499",
   "metadata": {},
   "outputs": [
    {
     "data": {
      "text/plain": [
       "<AxesSubplot:>"
      ]
     },
     "execution_count": 40,
     "metadata": {},
     "output_type": "execute_result"
    },
    {
     "data": {
      "image/png": "[encoded data removed]",
      "text/plain": [
       "<Figure size 1000x700 with 1 Axes>"
      ]
     },
     "metadata": {},
     "output_type": "display_data"
    }
   ],
   "source": [
    "# checking for outlier\n",
    "df.boxplot(figsize='10,7',fontsize='large')"
   ]
  },
  {
   "cell_type": "markdown",
   "id": "836c77fc",
   "metadata": {},
   "source": [
    "### step5: Feature Engg"
   ]
  },
  {
   "cell_type": "code",
   "execution_count": 43,
   "id": "b374b713",
   "metadata": {},
   "outputs": [
    {
     "data": {
      "text/html": [
       "<div>\n",
       "<style scoped>\n",
       "    .dataframe tbody tr th:only-of-type {\n",
       "        vertical-align: middle;\n",
       "    }\n",
       "\n",
       "    .dataframe tbody tr th {\n",
       "        vertical-align: top;\n",
       "    }\n",
       "\n",
       "    .dataframe thead th {\n",
       "        text-align: right;\n",
       "    }\n",
       "</style>\n",
       "<table border=\"1\" class=\"dataframe\">\n",
       "  <thead>\n",
       "    <tr style=\"text-align: right;\">\n",
       "      <th></th>\n",
       "      <th>gender</th>\n",
       "      <th>age</th>\n",
       "      <th>hypertension</th>\n",
       "      <th>heart_disease</th>\n",
       "      <th>ever_married</th>\n",
       "      <th>Residence_type</th>\n",
       "      <th>avg_glucose_level</th>\n",
       "      <th>bmi</th>\n",
       "      <th>smoking_status</th>\n",
       "      <th>stroke</th>\n",
       "      <th>work_type_Govt_job</th>\n",
       "      <th>work_type_Private</th>\n",
       "      <th>work_type_Self-employed</th>\n",
       "      <th>work_type_children</th>\n",
       "    </tr>\n",
       "  </thead>\n",
       "  <tbody>\n",
       "    <tr>\n",
       "      <th>gender</th>\n",
       "      <td>1.000000</td>\n",
       "      <td>-0.026538</td>\n",
       "      <td>0.021485</td>\n",
       "      <td>0.086476</td>\n",
       "      <td>-0.028971</td>\n",
       "      <td>-0.004301</td>\n",
       "      <td>0.055796</td>\n",
       "      <td>-0.012093</td>\n",
       "      <td>0.097876</td>\n",
       "      <td>0.008870</td>\n",
       "      <td>-0.017176</td>\n",
       "      <td>-0.028706</td>\n",
       "      <td>-0.029635</td>\n",
       "      <td>0.090275</td>\n",
       "    </tr>\n",
       "    <tr>\n",
       "      <th>age</th>\n",
       "      <td>-0.026538</td>\n",
       "      <td>1.000000</td>\n",
       "      <td>0.278120</td>\n",
       "      <td>0.264852</td>\n",
       "      <td>0.677137</td>\n",
       "      <td>0.017155</td>\n",
       "      <td>0.236763</td>\n",
       "      <td>0.373703</td>\n",
       "      <td>-0.048246</td>\n",
       "      <td>0.246478</td>\n",
       "      <td>0.126868</td>\n",
       "      <td>0.111020</td>\n",
       "      <td>0.326835</td>\n",
       "      <td>-0.636866</td>\n",
       "    </tr>\n",
       "    <tr>\n",
       "      <th>hypertension</th>\n",
       "      <td>0.021485</td>\n",
       "      <td>0.278120</td>\n",
       "      <td>1.000000</td>\n",
       "      <td>0.111974</td>\n",
       "      <td>0.164534</td>\n",
       "      <td>-0.004755</td>\n",
       "      <td>0.170028</td>\n",
       "      <td>0.158762</td>\n",
       "      <td>-0.046353</td>\n",
       "      <td>0.131965</td>\n",
       "      <td>0.016378</td>\n",
       "      <td>-0.004177</td>\n",
       "      <td>0.110468</td>\n",
       "      <td>-0.128924</td>\n",
       "    </tr>\n",
       "    <tr>\n",
       "      <th>heart_disease</th>\n",
       "      <td>0.086476</td>\n",
       "      <td>0.264852</td>\n",
       "      <td>0.111974</td>\n",
       "      <td>1.000000</td>\n",
       "      <td>0.114765</td>\n",
       "      <td>0.002125</td>\n",
       "      <td>0.166847</td>\n",
       "      <td>0.060926</td>\n",
       "      <td>0.027829</td>\n",
       "      <td>0.134610</td>\n",
       "      <td>0.001166</td>\n",
       "      <td>-0.001600</td>\n",
       "      <td>0.087474</td>\n",
       "      <td>-0.092974</td>\n",
       "    </tr>\n",
       "    <tr>\n",
       "      <th>ever_married</th>\n",
       "      <td>-0.028971</td>\n",
       "      <td>0.677137</td>\n",
       "      <td>0.164534</td>\n",
       "      <td>0.114765</td>\n",
       "      <td>1.000000</td>\n",
       "      <td>0.008191</td>\n",
       "      <td>0.150724</td>\n",
       "      <td>0.371690</td>\n",
       "      <td>-0.065013</td>\n",
       "      <td>0.108398</td>\n",
       "      <td>0.133655</td>\n",
       "      <td>0.146139</td>\n",
       "      <td>0.191668</td>\n",
       "      <td>-0.548851</td>\n",
       "    </tr>\n",
       "    <tr>\n",
       "      <th>Residence_type</th>\n",
       "      <td>-0.004301</td>\n",
       "      <td>0.017155</td>\n",
       "      <td>-0.004755</td>\n",
       "      <td>0.002125</td>\n",
       "      <td>0.008191</td>\n",
       "      <td>1.000000</td>\n",
       "      <td>0.001346</td>\n",
       "      <td>0.013185</td>\n",
       "      <td>0.016409</td>\n",
       "      <td>0.016494</td>\n",
       "      <td>0.013925</td>\n",
       "      <td>-0.016104</td>\n",
       "      <td>0.013427</td>\n",
       "      <td>-0.004825</td>\n",
       "    </tr>\n",
       "    <tr>\n",
       "      <th>avg_glucose_level</th>\n",
       "      <td>0.055796</td>\n",
       "      <td>0.236763</td>\n",
       "      <td>0.170028</td>\n",
       "      <td>0.166847</td>\n",
       "      <td>0.150724</td>\n",
       "      <td>0.001346</td>\n",
       "      <td>1.000000</td>\n",
       "      <td>0.186348</td>\n",
       "      <td>-0.004357</td>\n",
       "      <td>0.133227</td>\n",
       "      <td>0.009223</td>\n",
       "      <td>0.020764</td>\n",
       "      <td>0.058419</td>\n",
       "      <td>-0.101960</td>\n",
       "    </tr>\n",
       "    <tr>\n",
       "      <th>bmi</th>\n",
       "      <td>-0.012093</td>\n",
       "      <td>0.373703</td>\n",
       "      <td>0.158762</td>\n",
       "      <td>0.060926</td>\n",
       "      <td>0.371690</td>\n",
       "      <td>0.013185</td>\n",
       "      <td>0.186348</td>\n",
       "      <td>1.000000</td>\n",
       "      <td>-0.085007</td>\n",
       "      <td>0.056926</td>\n",
       "      <td>0.087375</td>\n",
       "      <td>0.211820</td>\n",
       "      <td>0.085582</td>\n",
       "      <td>-0.484257</td>\n",
       "    </tr>\n",
       "    <tr>\n",
       "      <th>smoking_status</th>\n",
       "      <td>0.097876</td>\n",
       "      <td>-0.048246</td>\n",
       "      <td>-0.046353</td>\n",
       "      <td>0.027829</td>\n",
       "      <td>-0.065013</td>\n",
       "      <td>0.016409</td>\n",
       "      <td>-0.004357</td>\n",
       "      <td>-0.085007</td>\n",
       "      <td>1.000000</td>\n",
       "      <td>0.023176</td>\n",
       "      <td>-0.038222</td>\n",
       "      <td>-0.116836</td>\n",
       "      <td>0.005610</td>\n",
       "      <td>0.200476</td>\n",
       "    </tr>\n",
       "    <tr>\n",
       "      <th>stroke</th>\n",
       "      <td>0.008870</td>\n",
       "      <td>0.246478</td>\n",
       "      <td>0.131965</td>\n",
       "      <td>0.134610</td>\n",
       "      <td>0.108398</td>\n",
       "      <td>0.016494</td>\n",
       "      <td>0.133227</td>\n",
       "      <td>0.056926</td>\n",
       "      <td>0.023176</td>\n",
       "      <td>1.000000</td>\n",
       "      <td>0.002574</td>\n",
       "      <td>0.010459</td>\n",
       "      <td>0.062643</td>\n",
       "      <td>-0.085075</td>\n",
       "    </tr>\n",
       "    <tr>\n",
       "      <th>work_type_Govt_job</th>\n",
       "      <td>-0.017176</td>\n",
       "      <td>0.126868</td>\n",
       "      <td>0.016378</td>\n",
       "      <td>0.001166</td>\n",
       "      <td>0.133655</td>\n",
       "      <td>0.013925</td>\n",
       "      <td>0.009223</td>\n",
       "      <td>0.087375</td>\n",
       "      <td>-0.038222</td>\n",
       "      <td>0.002574</td>\n",
       "      <td>1.000000</td>\n",
       "      <td>-0.447467</td>\n",
       "      <td>-0.169061</td>\n",
       "      <td>-0.152306</td>\n",
       "    </tr>\n",
       "    <tr>\n",
       "      <th>work_type_Private</th>\n",
       "      <td>-0.028706</td>\n",
       "      <td>0.111020</td>\n",
       "      <td>-0.004177</td>\n",
       "      <td>-0.001600</td>\n",
       "      <td>0.146139</td>\n",
       "      <td>-0.016104</td>\n",
       "      <td>0.020764</td>\n",
       "      <td>0.211820</td>\n",
       "      <td>-0.116836</td>\n",
       "      <td>0.010459</td>\n",
       "      <td>-0.447467</td>\n",
       "      <td>1.000000</td>\n",
       "      <td>-0.509458</td>\n",
       "      <td>-0.458968</td>\n",
       "    </tr>\n",
       "    <tr>\n",
       "      <th>work_type_Self-employed</th>\n",
       "      <td>-0.029635</td>\n",
       "      <td>0.326835</td>\n",
       "      <td>0.110468</td>\n",
       "      <td>0.087474</td>\n",
       "      <td>0.191668</td>\n",
       "      <td>0.013427</td>\n",
       "      <td>0.058419</td>\n",
       "      <td>0.085582</td>\n",
       "      <td>0.005610</td>\n",
       "      <td>0.062643</td>\n",
       "      <td>-0.169061</td>\n",
       "      <td>-0.509458</td>\n",
       "      <td>1.000000</td>\n",
       "      <td>-0.173407</td>\n",
       "    </tr>\n",
       "    <tr>\n",
       "      <th>work_type_children</th>\n",
       "      <td>0.090275</td>\n",
       "      <td>-0.636866</td>\n",
       "      <td>-0.128924</td>\n",
       "      <td>-0.092974</td>\n",
       "      <td>-0.548851</td>\n",
       "      <td>-0.004825</td>\n",
       "      <td>-0.101960</td>\n",
       "      <td>-0.484257</td>\n",
       "      <td>0.200476</td>\n",
       "      <td>-0.085075</td>\n",
       "      <td>-0.152306</td>\n",
       "      <td>-0.458968</td>\n",
       "      <td>-0.173407</td>\n",
       "      <td>1.000000</td>\n",
       "    </tr>\n",
       "  </tbody>\n",
       "</table>\n",
       "</div>"
      ],
      "text/plain": [
       "                           gender       age  hypertension  heart_disease  \\\n",
       "gender                   1.000000 -0.026538      0.021485       0.086476   \n",
       "age                     -0.026538  1.000000      0.278120       0.264852   \n",
       "hypertension             0.021485  0.278120      1.000000       0.111974   \n",
       "heart_disease            0.086476  0.264852      0.111974       1.000000   \n",
       "ever_married            -0.028971  0.677137      0.164534       0.114765   \n",
       "Residence_type          -0.004301  0.017155     -0.004755       0.002125   \n",
       "avg_glucose_level        0.055796  0.236763      0.170028       0.166847   \n",
       "bmi                     -0.012093  0.373703      0.158762       0.060926   \n",
       "smoking_status           0.097876 -0.048246     -0.046353       0.027829   \n",
       "stroke                   0.008870  0.246478      0.131965       0.134610   \n",
       "work_type_Govt_job      -0.017176  0.126868      0.016378       0.001166   \n",
       "work_type_Private       -0.028706  0.111020     -0.004177      -0.001600   \n",
       "work_type_Self-employed -0.029635  0.326835      0.110468       0.087474   \n",
       "work_type_children       0.090275 -0.636866     -0.128924      -0.092974   \n",
       "\n",
       "                         ever_married  Residence_type  avg_glucose_level  \\\n",
       "gender                      -0.028971       -0.004301           0.055796   \n",
       "age                          0.677137        0.017155           0.236763   \n",
       "hypertension                 0.164534       -0.004755           0.170028   \n",
       "heart_disease                0.114765        0.002125           0.166847   \n",
       "ever_married                 1.000000        0.008191           0.150724   \n",
       "Residence_type               0.008191        1.000000           0.001346   \n",
       "avg_glucose_level            0.150724        0.001346           1.000000   \n",
       "bmi                          0.371690        0.013185           0.186348   \n",
       "smoking_status              -0.065013        0.016409          -0.004357   \n",
       "stroke                       0.108398        0.016494           0.133227   \n",
       "work_type_Govt_job           0.133655        0.013925           0.009223   \n",
       "work_type_Private            0.146139       -0.016104           0.020764   \n",
       "work_type_Self-employed      0.191668        0.013427           0.058419   \n",
       "work_type_children          -0.548851       -0.004825          -0.101960   \n",
       "\n",
       "                              bmi  smoking_status    stroke  \\\n",
       "gender                  -0.012093        0.097876  0.008870   \n",
       "age                      0.373703       -0.048246  0.246478   \n",
       "hypertension             0.158762       -0.046353  0.131965   \n",
       "heart_disease            0.060926        0.027829  0.134610   \n",
       "ever_married             0.371690       -0.065013  0.108398   \n",
       "Residence_type           0.013185        0.016409  0.016494   \n",
       "avg_glucose_level        0.186348       -0.004357  0.133227   \n",
       "bmi                      1.000000       -0.085007  0.056926   \n",
       "smoking_status          -0.085007        1.000000  0.023176   \n",
       "stroke                   0.056926        0.023176  1.000000   \n",
       "work_type_Govt_job       0.087375       -0.038222  0.002574   \n",
       "work_type_Private        0.211820       -0.116836  0.010459   \n",
       "work_type_Self-employed  0.085582        0.005610  0.062643   \n",
       "work_type_children      -0.484257        0.200476 -0.085075   \n",
       "\n",
       "                         work_type_Govt_job  work_type_Private  \\\n",
       "gender                            -0.017176          -0.028706   \n",
       "age                                0.126868           0.111020   \n",
       "hypertension                       0.016378          -0.004177   \n",
       "heart_disease                      0.001166          -0.001600   \n",
       "ever_married                       0.133655           0.146139   \n",
       "Residence_type                     0.013925          -0.016104   \n",
       "avg_glucose_level                  0.009223           0.020764   \n",
       "bmi                                0.087375           0.211820   \n",
       "smoking_status                    -0.038222          -0.116836   \n",
       "stroke                             0.002574           0.010459   \n",
       "work_type_Govt_job                 1.000000          -0.447467   \n",
       "work_type_Private                 -0.447467           1.000000   \n",
       "work_type_Self-employed           -0.169061          -0.509458   \n",
       "work_type_children                -0.152306          -0.458968   \n",
       "\n",
       "                         work_type_Self-employed  work_type_children  \n",
       "gender                                 -0.029635            0.090275  \n",
       "age                                     0.326835           -0.636866  \n",
       "hypertension                            0.110468           -0.128924  \n",
       "heart_disease                           0.087474           -0.092974  \n",
       "ever_married                            0.191668           -0.548851  \n",
       "Residence_type                          0.013427           -0.004825  \n",
       "avg_glucose_level                       0.058419           -0.101960  \n",
       "bmi                                     0.085582           -0.484257  \n",
       "smoking_status                          0.005610            0.200476  \n",
       "stroke                                  0.062643           -0.085075  \n",
       "work_type_Govt_job                     -0.169061           -0.152306  \n",
       "work_type_Private                      -0.509458           -0.458968  \n",
       "work_type_Self-employed                 1.000000           -0.173407  \n",
       "work_type_children                     -0.173407            1.000000  "
      ]
     },
     "execution_count": 43,
     "metadata": {},
     "output_type": "execute_result"
    }
   ],
   "source": [
    "# check for high multicolinearity betn independent features\n",
    "# there is no high mulitcolinearity features are present\n",
    "df.corr()"
   ]
  },
  {
   "cell_type": "markdown",
   "id": "d6381da0",
   "metadata": {},
   "source": [
    "### step6: model Traning\n",
    "    "
   ]
  },
  {
   "cell_type": "code",
   "execution_count": 63,
   "id": "17e21f95",
   "metadata": {},
   "outputs": [],
   "source": [
    "# split the data\n",
    "x=df.drop('stroke',axis=1)\n",
    "y=df['stroke']\n"
   ]
  },
  {
   "cell_type": "code",
   "execution_count": 64,
   "id": "7dcc9902",
   "metadata": {},
   "outputs": [
    {
     "data": {
      "text/plain": [
       "0    4733\n",
       "1     248\n",
       "Name: stroke, dtype: int64"
      ]
     },
     "execution_count": 64,
     "metadata": {},
     "output_type": "execute_result"
    }
   ],
   "source": [
    "y.value_counts()"
   ]
  },
  {
   "cell_type": "code",
   "execution_count": 65,
   "id": "8cbb8e45",
   "metadata": {},
   "outputs": [
    {
     "name": "stdout",
     "output_type": "stream",
     "text": [
      "0    4733\n",
      "1     248\n",
      "Name: stroke, dtype: int64\n",
      "0    95.02108\n",
      "1     4.97892\n",
      "Name: stroke, dtype: float64\n"
     ]
    }
   ],
   "source": [
    "# now checking for data distrbution\n",
    "print(df['stroke'].value_counts())\n",
    "print(df['stroke'].value_counts()/len(df['stroke'])*100)"
   ]
  },
  {
   "cell_type": "code",
   "execution_count": 69,
   "id": "e8b328c2",
   "metadata": {},
   "outputs": [
    {
     "name": "stdout",
     "output_type": "stream",
     "text": [
      "(9466, 13)\n",
      "(9466,)\n"
     ]
    }
   ],
   "source": [
    "# here data is highly imbalanced so we used oversampling here SMOTE\n",
    "smote=SMOTE()\n",
    "x_smt,y_smt=smote.fit_resample(x,y)\n",
    "print(x_smt.shape)\n",
    "print(y_smt.shape)"
   ]
  },
  {
   "cell_type": "code",
   "execution_count": 71,
   "id": "9581c644",
   "metadata": {},
   "outputs": [
    {
     "data": {
      "text/plain": [
       "1    4733\n",
       "0    4733\n",
       "Name: stroke, dtype: int64"
      ]
     },
     "execution_count": 71,
     "metadata": {},
     "output_type": "execute_result"
    }
   ],
   "source": [
    "y_smt.value_counts()"
   ]
  },
  {
   "cell_type": "code",
   "execution_count": 72,
   "id": "1ab719ed",
   "metadata": {},
   "outputs": [
    {
     "name": "stdout",
     "output_type": "stream",
     "text": [
      "(6626, 13)\n",
      "(2840, 13)\n",
      "(6626,)\n",
      "(2840,)\n"
     ]
    }
   ],
   "source": [
    "x_train,x_test,y_train,y_test=train_test_split(x_smt,y_smt,test_size=0.3,random_state=10)\n",
    "print(x_train.shape)\n",
    "print(x_test.shape)\n",
    "print(y_train.shape)\n",
    "print(y_test.shape)"
   ]
  },
  {
   "cell_type": "code",
   "execution_count": 73,
   "id": "451696f8",
   "metadata": {},
   "outputs": [
    {
     "name": "stderr",
     "output_type": "stream",
     "text": [
      "C:\\Users\\shubh\\anaconda3\\envs\\cancer\\lib\\site-packages\\sklearn\\linear_model\\_logistic.py:444: ConvergenceWarning: lbfgs failed to converge (status=1):\n",
      "STOP: TOTAL NO. of ITERATIONS REACHED LIMIT.\n",
      "\n",
      "Increase the number of iterations (max_iter) or scale the data as shown in:\n",
      "    https://scikit-learn.org/stable/modules/preprocessing.html\n",
      "Please also refer to the documentation for alternative solver options:\n",
      "    https://scikit-learn.org/stable/modules/linear_model.html#logistic-regression\n",
      "  n_iter_i = _check_optimize_result(\n"
     ]
    },
    {
     "data": {
      "text/html": [
       "<style>#sk-container-id-2 {color: black;background-color: white;}#sk-container-id-2 pre{padding: 0;}#sk-container-id-2 div.sk-toggleable {background-color: white;}#sk-container-id-2 label.sk-toggleable__label {cursor: pointer;display: block;width: 100%;margin-bottom: 0;padding: 0.3em;box-sizing: border-box;text-align: center;}#sk-container-id-2 label.sk-toggleable__label-arrow:before {content: \"▸\";float: left;margin-right: 0.25em;color: #696969;}#sk-container-id-2 label.sk-toggleable__label-arrow:hover:before {color: black;}#sk-container-id-2 div.sk-estimator:hover label.sk-toggleable__label-arrow:before {color: black;}#sk-container-id-2 div.sk-toggleable__content {max-height: 0;max-width: 0;overflow: hidden;text-align: left;background-color: #f0f8ff;}#sk-container-id-2 div.sk-toggleable__content pre {margin: 0.2em;color: black;border-radius: 0.25em;background-color: #f0f8ff;}#sk-container-id-2 input.sk-toggleable__control:checked~div.sk-toggleable__content {max-height: 200px;max-width: 100%;overflow: auto;}#sk-container-id-2 input.sk-toggleable__control:checked~label.sk-toggleable__label-arrow:before {content: \"▾\";}#sk-container-id-2 div.sk-estimator input.sk-toggleable__control:checked~label.sk-toggleable__label {background-color: #d4ebff;}#sk-container-id-2 div.sk-label input.sk-toggleable__control:checked~label.sk-toggleable__label {background-color: #d4ebff;}#sk-container-id-2 input.sk-hidden--visually {border: 0;clip: rect(1px 1px 1px 1px);clip: rect(1px, 1px, 1px, 1px);height: 1px;margin: -1px;overflow: hidden;padding: 0;position: absolute;width: 1px;}#sk-container-id-2 div.sk-estimator {font-family: monospace;background-color: #f0f8ff;border: 1px dotted black;border-radius: 0.25em;box-sizing: border-box;margin-bottom: 0.5em;}#sk-container-id-2 div.sk-estimator:hover {background-color: #d4ebff;}#sk-container-id-2 div.sk-parallel-item::after {content: \"\";width: 100%;border-bottom: 1px solid gray;flex-grow: 1;}#sk-container-id-2 div.sk-label:hover label.sk-toggleable__label {background-color: #d4ebff;}#sk-container-id-2 div.sk-serial::before {content: \"\";position: absolute;border-left: 1px solid gray;box-sizing: border-box;top: 0;bottom: 0;left: 50%;z-index: 0;}#sk-container-id-2 div.sk-serial {display: flex;flex-direction: column;align-items: center;background-color: white;padding-right: 0.2em;padding-left: 0.2em;position: relative;}#sk-container-id-2 div.sk-item {position: relative;z-index: 1;}#sk-container-id-2 div.sk-parallel {display: flex;align-items: stretch;justify-content: center;background-color: white;position: relative;}#sk-container-id-2 div.sk-item::before, #sk-container-id-2 div.sk-parallel-item::before {content: \"\";position: absolute;border-left: 1px solid gray;box-sizing: border-box;top: 0;bottom: 0;left: 50%;z-index: -1;}#sk-container-id-2 div.sk-parallel-item {display: flex;flex-direction: column;z-index: 1;position: relative;background-color: white;}#sk-container-id-2 div.sk-parallel-item:first-child::after {align-self: flex-end;width: 50%;}#sk-container-id-2 div.sk-parallel-item:last-child::after {align-self: flex-start;width: 50%;}#sk-container-id-2 div.sk-parallel-item:only-child::after {width: 0;}#sk-container-id-2 div.sk-dashed-wrapped {border: 1px dashed gray;margin: 0 0.4em 0.5em 0.4em;box-sizing: border-box;padding-bottom: 0.4em;background-color: white;}#sk-container-id-2 div.sk-label label {font-family: monospace;font-weight: bold;display: inline-block;line-height: 1.2em;}#sk-container-id-2 div.sk-label-container {text-align: center;}#sk-container-id-2 div.sk-container {/* jupyter's `normalize.less` sets `[hidden] { display: none; }` but bootstrap.min.css set `[hidden] { display: none !important; }` so we also need the `!important` here to be able to override the default hidden behavior on the sphinx rendered scikit-learn.org. See: https://github.com/scikit-learn/scikit-learn/issues/21755 */display: inline-block !important;position: relative;}#sk-container-id-2 div.sk-text-repr-fallback {display: none;}</style><div id=\"sk-container-id-2\" class=\"sk-top-container\"><div class=\"sk-text-repr-fallback\"><pre>LogisticRegression()</pre><b>In a Jupyter environment, please rerun this cell to show the HTML representation or trust the notebook. <br />On GitHub, the HTML representation is unable to render, please try loading this page with nbviewer.org.</b></div><div class=\"sk-container\" hidden><div class=\"sk-item\"><div class=\"sk-estimator sk-toggleable\"><input class=\"sk-toggleable__control sk-hidden--visually\" id=\"sk-estimator-id-2\" type=\"checkbox\" checked><label for=\"sk-estimator-id-2\" class=\"sk-toggleable__label sk-toggleable__label-arrow\">LogisticRegression</label><div class=\"sk-toggleable__content\"><pre>LogisticRegression()</pre></div></div></div></div></div>"
      ],
      "text/plain": [
       "LogisticRegression()"
      ]
     },
     "execution_count": 73,
     "metadata": {},
     "output_type": "execute_result"
    }
   ],
   "source": [
    "model=LogisticRegression()\n",
    "\n",
    "model.fit(x_train,y_train)"
   ]
  },
  {
   "cell_type": "markdown",
   "id": "f7482c6c",
   "metadata": {},
   "source": [
    "### step7:Model Evalution"
   ]
  },
  {
   "cell_type": "code",
   "execution_count": 75,
   "id": "afb40886",
   "metadata": {},
   "outputs": [
    {
     "name": "stdout",
     "output_type": "stream",
     "text": [
      "Accurancy score=0.8482394366197183\n",
      "**************************************************\n",
      "Confusion matrix=\n",
      "[[1250  189]\n",
      " [ 242 1159]]\n",
      "**************************************************\n",
      "Classification Report=              precision    recall  f1-score   support\n",
      "\n",
      "           0       0.84      0.87      0.85      1439\n",
      "           1       0.86      0.83      0.84      1401\n",
      "\n",
      "    accuracy                           0.85      2840\n",
      "   macro avg       0.85      0.85      0.85      2840\n",
      "weighted avg       0.85      0.85      0.85      2840\n",
      "\n"
     ]
    }
   ],
   "source": [
    "#testing data evalution\n",
    "y_test_predict=model.predict(x_test)\n",
    "def mod_eval(actual,predict):\n",
    "    acc=accuracy_score(actual,predict)\n",
    "    cm=confusion_matrix(actual,predict)\n",
    "    report=classification_report(actual,predict)\n",
    "    print(f'Accurancy score={acc}')\n",
    "    print(\"*\"*50)\n",
    "    print(f'Confusion matrix=\\n{cm}')\n",
    "    print(\"*\"*50)\n",
    "    print(f'Classification Report={report}')\n",
    "    \n",
    "mod_eval(y_test,y_test_predict)    "
   ]
  },
  {
   "cell_type": "code",
   "execution_count": 76,
   "id": "88d1ea2b",
   "metadata": {},
   "outputs": [
    {
     "name": "stdout",
     "output_type": "stream",
     "text": [
      "Accurancy score=0.8542106851795955\n",
      "**************************************************\n",
      "Confusion matrix=\n",
      "[[2838  456]\n",
      " [ 510 2822]]\n",
      "**************************************************\n",
      "Classification Report=              precision    recall  f1-score   support\n",
      "\n",
      "           0       0.85      0.86      0.85      3294\n",
      "           1       0.86      0.85      0.85      3332\n",
      "\n",
      "    accuracy                           0.85      6626\n",
      "   macro avg       0.85      0.85      0.85      6626\n",
      "weighted avg       0.85      0.85      0.85      6626\n",
      "\n"
     ]
    }
   ],
   "source": [
    "#training data evalution\n",
    "y_train_predict=model.predict(x_train)\n",
    "mod_eval(y_train,y_train_predict)"
   ]
  },
  {
   "cell_type": "code",
   "execution_count": 77,
   "id": "d84b6b94",
   "metadata": {},
   "outputs": [
    {
     "data": {
      "text/html": [
       "<div>\n",
       "<style scoped>\n",
       "    .dataframe tbody tr th:only-of-type {\n",
       "        vertical-align: middle;\n",
       "    }\n",
       "\n",
       "    .dataframe tbody tr th {\n",
       "        vertical-align: top;\n",
       "    }\n",
       "\n",
       "    .dataframe thead th {\n",
       "        text-align: right;\n",
       "    }\n",
       "</style>\n",
       "<table border=\"1\" class=\"dataframe\">\n",
       "  <thead>\n",
       "    <tr style=\"text-align: right;\">\n",
       "      <th></th>\n",
       "      <th>gender</th>\n",
       "      <th>age</th>\n",
       "      <th>hypertension</th>\n",
       "      <th>heart_disease</th>\n",
       "      <th>ever_married</th>\n",
       "      <th>Residence_type</th>\n",
       "      <th>avg_glucose_level</th>\n",
       "      <th>bmi</th>\n",
       "      <th>smoking_status</th>\n",
       "      <th>work_type_Govt_job</th>\n",
       "      <th>work_type_Private</th>\n",
       "      <th>work_type_Self-employed</th>\n",
       "      <th>work_type_children</th>\n",
       "    </tr>\n",
       "  </thead>\n",
       "  <tbody>\n",
       "    <tr>\n",
       "      <th>0</th>\n",
       "      <td>1</td>\n",
       "      <td>67.000000</td>\n",
       "      <td>0</td>\n",
       "      <td>1</td>\n",
       "      <td>1</td>\n",
       "      <td>1</td>\n",
       "      <td>228.690000</td>\n",
       "      <td>36.600000</td>\n",
       "      <td>3</td>\n",
       "      <td>0</td>\n",
       "      <td>1</td>\n",
       "      <td>0</td>\n",
       "      <td>0</td>\n",
       "    </tr>\n",
       "    <tr>\n",
       "      <th>1</th>\n",
       "      <td>1</td>\n",
       "      <td>80.000000</td>\n",
       "      <td>0</td>\n",
       "      <td>1</td>\n",
       "      <td>1</td>\n",
       "      <td>0</td>\n",
       "      <td>105.920000</td>\n",
       "      <td>32.500000</td>\n",
       "      <td>0</td>\n",
       "      <td>0</td>\n",
       "      <td>1</td>\n",
       "      <td>0</td>\n",
       "      <td>0</td>\n",
       "    </tr>\n",
       "    <tr>\n",
       "      <th>2</th>\n",
       "      <td>0</td>\n",
       "      <td>49.000000</td>\n",
       "      <td>0</td>\n",
       "      <td>0</td>\n",
       "      <td>1</td>\n",
       "      <td>1</td>\n",
       "      <td>171.230000</td>\n",
       "      <td>34.400000</td>\n",
       "      <td>1</td>\n",
       "      <td>0</td>\n",
       "      <td>1</td>\n",
       "      <td>0</td>\n",
       "      <td>0</td>\n",
       "    </tr>\n",
       "    <tr>\n",
       "      <th>3</th>\n",
       "      <td>0</td>\n",
       "      <td>79.000000</td>\n",
       "      <td>1</td>\n",
       "      <td>0</td>\n",
       "      <td>1</td>\n",
       "      <td>0</td>\n",
       "      <td>174.120000</td>\n",
       "      <td>24.000000</td>\n",
       "      <td>0</td>\n",
       "      <td>0</td>\n",
       "      <td>0</td>\n",
       "      <td>1</td>\n",
       "      <td>0</td>\n",
       "    </tr>\n",
       "    <tr>\n",
       "      <th>4</th>\n",
       "      <td>1</td>\n",
       "      <td>81.000000</td>\n",
       "      <td>0</td>\n",
       "      <td>0</td>\n",
       "      <td>1</td>\n",
       "      <td>1</td>\n",
       "      <td>186.210000</td>\n",
       "      <td>29.000000</td>\n",
       "      <td>3</td>\n",
       "      <td>0</td>\n",
       "      <td>1</td>\n",
       "      <td>0</td>\n",
       "      <td>0</td>\n",
       "    </tr>\n",
       "    <tr>\n",
       "      <th>...</th>\n",
       "      <td>...</td>\n",
       "      <td>...</td>\n",
       "      <td>...</td>\n",
       "      <td>...</td>\n",
       "      <td>...</td>\n",
       "      <td>...</td>\n",
       "      <td>...</td>\n",
       "      <td>...</td>\n",
       "      <td>...</td>\n",
       "      <td>...</td>\n",
       "      <td>...</td>\n",
       "      <td>...</td>\n",
       "      <td>...</td>\n",
       "    </tr>\n",
       "    <tr>\n",
       "      <th>9461</th>\n",
       "      <td>0</td>\n",
       "      <td>75.821531</td>\n",
       "      <td>0</td>\n",
       "      <td>0</td>\n",
       "      <td>1</td>\n",
       "      <td>1</td>\n",
       "      <td>58.733819</td>\n",
       "      <td>27.935694</td>\n",
       "      <td>2</td>\n",
       "      <td>0</td>\n",
       "      <td>0</td>\n",
       "      <td>0</td>\n",
       "      <td>0</td>\n",
       "    </tr>\n",
       "    <tr>\n",
       "      <th>9462</th>\n",
       "      <td>1</td>\n",
       "      <td>62.758852</td>\n",
       "      <td>0</td>\n",
       "      <td>0</td>\n",
       "      <td>1</td>\n",
       "      <td>0</td>\n",
       "      <td>111.746664</td>\n",
       "      <td>30.346105</td>\n",
       "      <td>3</td>\n",
       "      <td>0</td>\n",
       "      <td>0</td>\n",
       "      <td>0</td>\n",
       "      <td>0</td>\n",
       "    </tr>\n",
       "    <tr>\n",
       "      <th>9463</th>\n",
       "      <td>0</td>\n",
       "      <td>77.738334</td>\n",
       "      <td>0</td>\n",
       "      <td>0</td>\n",
       "      <td>1</td>\n",
       "      <td>0</td>\n",
       "      <td>78.097161</td>\n",
       "      <td>24.370999</td>\n",
       "      <td>3</td>\n",
       "      <td>0</td>\n",
       "      <td>0</td>\n",
       "      <td>0</td>\n",
       "      <td>0</td>\n",
       "    </tr>\n",
       "    <tr>\n",
       "      <th>9464</th>\n",
       "      <td>0</td>\n",
       "      <td>80.517725</td>\n",
       "      <td>0</td>\n",
       "      <td>0</td>\n",
       "      <td>1</td>\n",
       "      <td>0</td>\n",
       "      <td>73.788508</td>\n",
       "      <td>24.517725</td>\n",
       "      <td>0</td>\n",
       "      <td>0</td>\n",
       "      <td>0</td>\n",
       "      <td>0</td>\n",
       "      <td>0</td>\n",
       "    </tr>\n",
       "    <tr>\n",
       "      <th>9465</th>\n",
       "      <td>0</td>\n",
       "      <td>79.300108</td>\n",
       "      <td>0</td>\n",
       "      <td>0</td>\n",
       "      <td>1</td>\n",
       "      <td>0</td>\n",
       "      <td>80.170780</td>\n",
       "      <td>18.429903</td>\n",
       "      <td>1</td>\n",
       "      <td>0</td>\n",
       "      <td>0</td>\n",
       "      <td>0</td>\n",
       "      <td>0</td>\n",
       "    </tr>\n",
       "  </tbody>\n",
       "</table>\n",
       "<p>9466 rows × 13 columns</p>\n",
       "</div>"
      ],
      "text/plain": [
       "      gender        age  hypertension  heart_disease  ever_married  \\\n",
       "0          1  67.000000             0              1             1   \n",
       "1          1  80.000000             0              1             1   \n",
       "2          0  49.000000             0              0             1   \n",
       "3          0  79.000000             1              0             1   \n",
       "4          1  81.000000             0              0             1   \n",
       "...      ...        ...           ...            ...           ...   \n",
       "9461       0  75.821531             0              0             1   \n",
       "9462       1  62.758852             0              0             1   \n",
       "9463       0  77.738334             0              0             1   \n",
       "9464       0  80.517725             0              0             1   \n",
       "9465       0  79.300108             0              0             1   \n",
       "\n",
       "      Residence_type  avg_glucose_level        bmi  smoking_status  \\\n",
       "0                  1         228.690000  36.600000               3   \n",
       "1                  0         105.920000  32.500000               0   \n",
       "2                  1         171.230000  34.400000               1   \n",
       "3                  0         174.120000  24.000000               0   \n",
       "4                  1         186.210000  29.000000               3   \n",
       "...              ...                ...        ...             ...   \n",
       "9461               1          58.733819  27.935694               2   \n",
       "9462               0         111.746664  30.346105               3   \n",
       "9463               0          78.097161  24.370999               3   \n",
       "9464               0          73.788508  24.517725               0   \n",
       "9465               0          80.170780  18.429903               1   \n",
       "\n",
       "      work_type_Govt_job  work_type_Private  work_type_Self-employed  \\\n",
       "0                      0                  1                        0   \n",
       "1                      0                  1                        0   \n",
       "2                      0                  1                        0   \n",
       "3                      0                  0                        1   \n",
       "4                      0                  1                        0   \n",
       "...                  ...                ...                      ...   \n",
       "9461                   0                  0                        0   \n",
       "9462                   0                  0                        0   \n",
       "9463                   0                  0                        0   \n",
       "9464                   0                  0                        0   \n",
       "9465                   0                  0                        0   \n",
       "\n",
       "      work_type_children  \n",
       "0                      0  \n",
       "1                      0  \n",
       "2                      0  \n",
       "3                      0  \n",
       "4                      0  \n",
       "...                  ...  \n",
       "9461                   0  \n",
       "9462                   0  \n",
       "9463                   0  \n",
       "9464                   0  \n",
       "9465                   0  \n",
       "\n",
       "[9466 rows x 13 columns]"
      ]
     },
     "execution_count": 77,
     "metadata": {},
     "output_type": "execute_result"
    }
   ],
   "source": [
    "# from above low bias & low varinace >>>> best model\n",
    "x_smt"
   ]
  },
  {
   "cell_type": "markdown",
   "id": "bea3c47a",
   "metadata": {},
   "source": [
    "### By using KNN Algorithm"
   ]
  },
  {
   "cell_type": "code",
   "execution_count": 81,
   "id": "e7142a8b",
   "metadata": {},
   "outputs": [
    {
     "data": {
      "text/plain": [
       "0       0.538565\n",
       "1       1.126493\n",
       "2      -0.275488\n",
       "3       1.081268\n",
       "4       1.171718\n",
       "          ...   \n",
       "9461    0.937521\n",
       "9462    0.346759\n",
       "9463    1.024209\n",
       "9464    1.149907\n",
       "9465    1.094840\n",
       "Name: age_std, Length: 9466, dtype: float64"
      ]
     },
     "execution_count": 81,
     "metadata": {},
     "output_type": "execute_result"
    }
   ],
   "source": [
    "#for\n",
    "std=StandardScaler()\n",
    "x_smt['age_std']=std.fit_transform(x_smt[['age']])\n",
    "x_smt['age_std']\n"
   ]
  },
  {
   "cell_type": "code",
   "execution_count": 83,
   "id": "d1ad43fd",
   "metadata": {},
   "outputs": [
    {
     "data": {
      "text/plain": [
       "0       1.218788\n",
       "1       0.539364\n",
       "2       0.854219\n",
       "3      -0.869196\n",
       "4      -0.040631\n",
       "          ...   \n",
       "9461   -0.217001\n",
       "9462    0.182436\n",
       "9463   -0.807717\n",
       "9464   -0.783402\n",
       "9465   -1.792234\n",
       "Name: bmi_std, Length: 9466, dtype: float64"
      ]
     },
     "execution_count": 83,
     "metadata": {},
     "output_type": "execute_result"
    }
   ],
   "source": [
    "x_smt['bmi_std']=std.fit_transform(x_smt[['bmi']])\n",
    "x_smt['bmi_std']"
   ]
  },
  {
   "cell_type": "code",
   "execution_count": 84,
   "id": "e8ef8c39",
   "metadata": {},
   "outputs": [
    {
     "data": {
      "text/plain": [
       "0       1.990376\n",
       "1      -0.232995\n",
       "2       0.949773\n",
       "3       1.002111\n",
       "4       1.221061\n",
       "          ...   \n",
       "9461   -1.087539\n",
       "9462   -0.127474\n",
       "9463   -0.736868\n",
       "9464   -0.814898\n",
       "9465   -0.699314\n",
       "Name: avg_glucose_level_std, Length: 9466, dtype: float64"
      ]
     },
     "execution_count": 84,
     "metadata": {},
     "output_type": "execute_result"
    }
   ],
   "source": [
    "x_smt['avg_glucose_level_std']=std.fit_transform(x_smt[['avg_glucose_level']])\n",
    "x_smt['avg_glucose_level_std']"
   ]
  },
  {
   "cell_type": "code",
   "execution_count": 85,
   "id": "51f347fe",
   "metadata": {},
   "outputs": [
    {
     "data": {
      "text/html": [
       "<div>\n",
       "<style scoped>\n",
       "    .dataframe tbody tr th:only-of-type {\n",
       "        vertical-align: middle;\n",
       "    }\n",
       "\n",
       "    .dataframe tbody tr th {\n",
       "        vertical-align: top;\n",
       "    }\n",
       "\n",
       "    .dataframe thead th {\n",
       "        text-align: right;\n",
       "    }\n",
       "</style>\n",
       "<table border=\"1\" class=\"dataframe\">\n",
       "  <thead>\n",
       "    <tr style=\"text-align: right;\">\n",
       "      <th></th>\n",
       "      <th>gender</th>\n",
       "      <th>age</th>\n",
       "      <th>hypertension</th>\n",
       "      <th>heart_disease</th>\n",
       "      <th>ever_married</th>\n",
       "      <th>Residence_type</th>\n",
       "      <th>avg_glucose_level</th>\n",
       "      <th>bmi</th>\n",
       "      <th>smoking_status</th>\n",
       "      <th>work_type_Govt_job</th>\n",
       "      <th>work_type_Private</th>\n",
       "      <th>work_type_Self-employed</th>\n",
       "      <th>work_type_children</th>\n",
       "      <th>age_std</th>\n",
       "      <th>avg_glucose_level_std</th>\n",
       "      <th>bmi_std</th>\n",
       "    </tr>\n",
       "  </thead>\n",
       "  <tbody>\n",
       "    <tr>\n",
       "      <th>0</th>\n",
       "      <td>1</td>\n",
       "      <td>67.0</td>\n",
       "      <td>0</td>\n",
       "      <td>1</td>\n",
       "      <td>1</td>\n",
       "      <td>1</td>\n",
       "      <td>228.69</td>\n",
       "      <td>36.6</td>\n",
       "      <td>3</td>\n",
       "      <td>0</td>\n",
       "      <td>1</td>\n",
       "      <td>0</td>\n",
       "      <td>0</td>\n",
       "      <td>0.538565</td>\n",
       "      <td>1.990376</td>\n",
       "      <td>1.218788</td>\n",
       "    </tr>\n",
       "    <tr>\n",
       "      <th>1</th>\n",
       "      <td>1</td>\n",
       "      <td>80.0</td>\n",
       "      <td>0</td>\n",
       "      <td>1</td>\n",
       "      <td>1</td>\n",
       "      <td>0</td>\n",
       "      <td>105.92</td>\n",
       "      <td>32.5</td>\n",
       "      <td>0</td>\n",
       "      <td>0</td>\n",
       "      <td>1</td>\n",
       "      <td>0</td>\n",
       "      <td>0</td>\n",
       "      <td>1.126493</td>\n",
       "      <td>-0.232995</td>\n",
       "      <td>0.539364</td>\n",
       "    </tr>\n",
       "    <tr>\n",
       "      <th>2</th>\n",
       "      <td>0</td>\n",
       "      <td>49.0</td>\n",
       "      <td>0</td>\n",
       "      <td>0</td>\n",
       "      <td>1</td>\n",
       "      <td>1</td>\n",
       "      <td>171.23</td>\n",
       "      <td>34.4</td>\n",
       "      <td>1</td>\n",
       "      <td>0</td>\n",
       "      <td>1</td>\n",
       "      <td>0</td>\n",
       "      <td>0</td>\n",
       "      <td>-0.275488</td>\n",
       "      <td>0.949773</td>\n",
       "      <td>0.854219</td>\n",
       "    </tr>\n",
       "    <tr>\n",
       "      <th>3</th>\n",
       "      <td>0</td>\n",
       "      <td>79.0</td>\n",
       "      <td>1</td>\n",
       "      <td>0</td>\n",
       "      <td>1</td>\n",
       "      <td>0</td>\n",
       "      <td>174.12</td>\n",
       "      <td>24.0</td>\n",
       "      <td>0</td>\n",
       "      <td>0</td>\n",
       "      <td>0</td>\n",
       "      <td>1</td>\n",
       "      <td>0</td>\n",
       "      <td>1.081268</td>\n",
       "      <td>1.002111</td>\n",
       "      <td>-0.869196</td>\n",
       "    </tr>\n",
       "    <tr>\n",
       "      <th>4</th>\n",
       "      <td>1</td>\n",
       "      <td>81.0</td>\n",
       "      <td>0</td>\n",
       "      <td>0</td>\n",
       "      <td>1</td>\n",
       "      <td>1</td>\n",
       "      <td>186.21</td>\n",
       "      <td>29.0</td>\n",
       "      <td>3</td>\n",
       "      <td>0</td>\n",
       "      <td>1</td>\n",
       "      <td>0</td>\n",
       "      <td>0</td>\n",
       "      <td>1.171718</td>\n",
       "      <td>1.221061</td>\n",
       "      <td>-0.040631</td>\n",
       "    </tr>\n",
       "  </tbody>\n",
       "</table>\n",
       "</div>"
      ],
      "text/plain": [
       "   gender   age  hypertension  heart_disease  ever_married  Residence_type  \\\n",
       "0       1  67.0             0              1             1               1   \n",
       "1       1  80.0             0              1             1               0   \n",
       "2       0  49.0             0              0             1               1   \n",
       "3       0  79.0             1              0             1               0   \n",
       "4       1  81.0             0              0             1               1   \n",
       "\n",
       "   avg_glucose_level   bmi  smoking_status  work_type_Govt_job  \\\n",
       "0             228.69  36.6               3                   0   \n",
       "1             105.92  32.5               0                   0   \n",
       "2             171.23  34.4               1                   0   \n",
       "3             174.12  24.0               0                   0   \n",
       "4             186.21  29.0               3                   0   \n",
       "\n",
       "   work_type_Private  work_type_Self-employed  work_type_children   age_std  \\\n",
       "0                  1                        0                   0  0.538565   \n",
       "1                  1                        0                   0  1.126493   \n",
       "2                  1                        0                   0 -0.275488   \n",
       "3                  0                        1                   0  1.081268   \n",
       "4                  1                        0                   0  1.171718   \n",
       "\n",
       "   avg_glucose_level_std   bmi_std  \n",
       "0               1.990376  1.218788  \n",
       "1              -0.232995  0.539364  \n",
       "2               0.949773  0.854219  \n",
       "3               1.002111 -0.869196  \n",
       "4               1.221061 -0.040631  "
      ]
     },
     "execution_count": 85,
     "metadata": {},
     "output_type": "execute_result"
    }
   ],
   "source": [
    "x_smt.head()"
   ]
  },
  {
   "cell_type": "code",
   "execution_count": 96,
   "id": "ac18b99b",
   "metadata": {},
   "outputs": [
    {
     "name": "stdout",
     "output_type": "stream",
     "text": [
      "(6626, 13)\n",
      "(2840, 13)\n",
      "(6626,)\n",
      "(2840,)\n"
     ]
    }
   ],
   "source": [
    "x=x_smt.drop(['avg_glucose_level','bmi','age'],axis=1)\n",
    "y=y_smt\n",
    "x_train,x_test,y_train,y_test=train_test_split(x,y,test_size=0.3,random_state=5,stratify=y)\n",
    "print(x_train.shape)\n",
    "print(x_test.shape)\n",
    "print(y_train.shape)\n",
    "print(y_test.shape)"
   ]
  },
  {
   "cell_type": "code",
   "execution_count": 97,
   "id": "02de92fe",
   "metadata": {},
   "outputs": [
    {
     "data": {
      "text/html": [
       "<style>#sk-container-id-3 {color: black;background-color: white;}#sk-container-id-3 pre{padding: 0;}#sk-container-id-3 div.sk-toggleable {background-color: white;}#sk-container-id-3 label.sk-toggleable__label {cursor: pointer;display: block;width: 100%;margin-bottom: 0;padding: 0.3em;box-sizing: border-box;text-align: center;}#sk-container-id-3 label.sk-toggleable__label-arrow:before {content: \"▸\";float: left;margin-right: 0.25em;color: #696969;}#sk-container-id-3 label.sk-toggleable__label-arrow:hover:before {color: black;}#sk-container-id-3 div.sk-estimator:hover label.sk-toggleable__label-arrow:before {color: black;}#sk-container-id-3 div.sk-toggleable__content {max-height: 0;max-width: 0;overflow: hidden;text-align: left;background-color: #f0f8ff;}#sk-container-id-3 div.sk-toggleable__content pre {margin: 0.2em;color: black;border-radius: 0.25em;background-color: #f0f8ff;}#sk-container-id-3 input.sk-toggleable__control:checked~div.sk-toggleable__content {max-height: 200px;max-width: 100%;overflow: auto;}#sk-container-id-3 input.sk-toggleable__control:checked~label.sk-toggleable__label-arrow:before {content: \"▾\";}#sk-container-id-3 div.sk-estimator input.sk-toggleable__control:checked~label.sk-toggleable__label {background-color: #d4ebff;}#sk-container-id-3 div.sk-label input.sk-toggleable__control:checked~label.sk-toggleable__label {background-color: #d4ebff;}#sk-container-id-3 input.sk-hidden--visually {border: 0;clip: rect(1px 1px 1px 1px);clip: rect(1px, 1px, 1px, 1px);height: 1px;margin: -1px;overflow: hidden;padding: 0;position: absolute;width: 1px;}#sk-container-id-3 div.sk-estimator {font-family: monospace;background-color: #f0f8ff;border: 1px dotted black;border-radius: 0.25em;box-sizing: border-box;margin-bottom: 0.5em;}#sk-container-id-3 div.sk-estimator:hover {background-color: #d4ebff;}#sk-container-id-3 div.sk-parallel-item::after {content: \"\";width: 100%;border-bottom: 1px solid gray;flex-grow: 1;}#sk-container-id-3 div.sk-label:hover label.sk-toggleable__label {background-color: #d4ebff;}#sk-container-id-3 div.sk-serial::before {content: \"\";position: absolute;border-left: 1px solid gray;box-sizing: border-box;top: 0;bottom: 0;left: 50%;z-index: 0;}#sk-container-id-3 div.sk-serial {display: flex;flex-direction: column;align-items: center;background-color: white;padding-right: 0.2em;padding-left: 0.2em;position: relative;}#sk-container-id-3 div.sk-item {position: relative;z-index: 1;}#sk-container-id-3 div.sk-parallel {display: flex;align-items: stretch;justify-content: center;background-color: white;position: relative;}#sk-container-id-3 div.sk-item::before, #sk-container-id-3 div.sk-parallel-item::before {content: \"\";position: absolute;border-left: 1px solid gray;box-sizing: border-box;top: 0;bottom: 0;left: 50%;z-index: -1;}#sk-container-id-3 div.sk-parallel-item {display: flex;flex-direction: column;z-index: 1;position: relative;background-color: white;}#sk-container-id-3 div.sk-parallel-item:first-child::after {align-self: flex-end;width: 50%;}#sk-container-id-3 div.sk-parallel-item:last-child::after {align-self: flex-start;width: 50%;}#sk-container-id-3 div.sk-parallel-item:only-child::after {width: 0;}#sk-container-id-3 div.sk-dashed-wrapped {border: 1px dashed gray;margin: 0 0.4em 0.5em 0.4em;box-sizing: border-box;padding-bottom: 0.4em;background-color: white;}#sk-container-id-3 div.sk-label label {font-family: monospace;font-weight: bold;display: inline-block;line-height: 1.2em;}#sk-container-id-3 div.sk-label-container {text-align: center;}#sk-container-id-3 div.sk-container {/* jupyter's `normalize.less` sets `[hidden] { display: none; }` but bootstrap.min.css set `[hidden] { display: none !important; }` so we also need the `!important` here to be able to override the default hidden behavior on the sphinx rendered scikit-learn.org. See: https://github.com/scikit-learn/scikit-learn/issues/21755 */display: inline-block !important;position: relative;}#sk-container-id-3 div.sk-text-repr-fallback {display: none;}</style><div id=\"sk-container-id-3\" class=\"sk-top-container\"><div class=\"sk-text-repr-fallback\"><pre>KNeighborsClassifier()</pre><b>In a Jupyter environment, please rerun this cell to show the HTML representation or trust the notebook. <br />On GitHub, the HTML representation is unable to render, please try loading this page with nbviewer.org.</b></div><div class=\"sk-container\" hidden><div class=\"sk-item\"><div class=\"sk-estimator sk-toggleable\"><input class=\"sk-toggleable__control sk-hidden--visually\" id=\"sk-estimator-id-3\" type=\"checkbox\" checked><label for=\"sk-estimator-id-3\" class=\"sk-toggleable__label sk-toggleable__label-arrow\">KNeighborsClassifier</label><div class=\"sk-toggleable__content\"><pre>KNeighborsClassifier()</pre></div></div></div></div></div>"
      ],
      "text/plain": [
       "KNeighborsClassifier()"
      ]
     },
     "execution_count": 97,
     "metadata": {},
     "output_type": "execute_result"
    }
   ],
   "source": [
    "# Model Traning\n",
    "knn=KNeighborsClassifier()\n",
    "knn.fit(x_train,y_train)"
   ]
  },
  {
   "cell_type": "code",
   "execution_count": 99,
   "id": "ea968f66",
   "metadata": {},
   "outputs": [
    {
     "name": "stdout",
     "output_type": "stream",
     "text": [
      "Accurancy score=0.8968309859154929\n",
      "**************************************************\n",
      "Confusion matrix=\n",
      "[[1197  223]\n",
      " [  70 1350]]\n",
      "**************************************************\n",
      "Classification Report=              precision    recall  f1-score   support\n",
      "\n",
      "           0       0.94      0.84      0.89      1420\n",
      "           1       0.86      0.95      0.90      1420\n",
      "\n",
      "    accuracy                           0.90      2840\n",
      "   macro avg       0.90      0.90      0.90      2840\n",
      "weighted avg       0.90      0.90      0.90      2840\n",
      "\n"
     ]
    }
   ],
   "source": [
    "#testing data evalution\n",
    "y_test_predict=knn.predict(x_test)\n",
    "mod_eval(y_test,y_test_predict)"
   ]
  },
  {
   "cell_type": "code",
   "execution_count": 98,
   "id": "09064ebf",
   "metadata": {},
   "outputs": [
    {
     "name": "stdout",
     "output_type": "stream",
     "text": [
      "Accurancy score=0.9316329610624812\n",
      "**************************************************\n",
      "Confusion matrix=\n",
      "[[2950  363]\n",
      " [  90 3223]]\n",
      "**************************************************\n",
      "Classification Report=              precision    recall  f1-score   support\n",
      "\n",
      "           0       0.97      0.89      0.93      3313\n",
      "           1       0.90      0.97      0.93      3313\n",
      "\n",
      "    accuracy                           0.93      6626\n",
      "   macro avg       0.93      0.93      0.93      6626\n",
      "weighted avg       0.93      0.93      0.93      6626\n",
      "\n"
     ]
    }
   ],
   "source": [
    "# Model Evalution\n",
    "#training data evalution\n",
    "y_train_predict=knn.predict(x_train)\n",
    "mod_eval(y_train,y_train_predict)"
   ]
  },
  {
   "cell_type": "code",
   "execution_count": null,
   "id": "2f0fded6",
   "metadata": {},
   "outputs": [],
   "source": [
    "#from above low bias & low varinace >>>> best model "
   ]
  },
  {
   "cell_type": "markdown",
   "id": "80e8a004",
   "metadata": {},
   "source": [
    "### Hypertune parameter"
   ]
  },
  {
   "cell_type": "code",
   "execution_count": 100,
   "id": "56cd97c5",
   "metadata": {},
   "outputs": [
    {
     "data": {
      "text/html": [
       "<style>#sk-container-id-4 {color: black;background-color: white;}#sk-container-id-4 pre{padding: 0;}#sk-container-id-4 div.sk-toggleable {background-color: white;}#sk-container-id-4 label.sk-toggleable__label {cursor: pointer;display: block;width: 100%;margin-bottom: 0;padding: 0.3em;box-sizing: border-box;text-align: center;}#sk-container-id-4 label.sk-toggleable__label-arrow:before {content: \"▸\";float: left;margin-right: 0.25em;color: #696969;}#sk-container-id-4 label.sk-toggleable__label-arrow:hover:before {color: black;}#sk-container-id-4 div.sk-estimator:hover label.sk-toggleable__label-arrow:before {color: black;}#sk-container-id-4 div.sk-toggleable__content {max-height: 0;max-width: 0;overflow: hidden;text-align: left;background-color: #f0f8ff;}#sk-container-id-4 div.sk-toggleable__content pre {margin: 0.2em;color: black;border-radius: 0.25em;background-color: #f0f8ff;}#sk-container-id-4 input.sk-toggleable__control:checked~div.sk-toggleable__content {max-height: 200px;max-width: 100%;overflow: auto;}#sk-container-id-4 input.sk-toggleable__control:checked~label.sk-toggleable__label-arrow:before {content: \"▾\";}#sk-container-id-4 div.sk-estimator input.sk-toggleable__control:checked~label.sk-toggleable__label {background-color: #d4ebff;}#sk-container-id-4 div.sk-label input.sk-toggleable__control:checked~label.sk-toggleable__label {background-color: #d4ebff;}#sk-container-id-4 input.sk-hidden--visually {border: 0;clip: rect(1px 1px 1px 1px);clip: rect(1px, 1px, 1px, 1px);height: 1px;margin: -1px;overflow: hidden;padding: 0;position: absolute;width: 1px;}#sk-container-id-4 div.sk-estimator {font-family: monospace;background-color: #f0f8ff;border: 1px dotted black;border-radius: 0.25em;box-sizing: border-box;margin-bottom: 0.5em;}#sk-container-id-4 div.sk-estimator:hover {background-color: #d4ebff;}#sk-container-id-4 div.sk-parallel-item::after {content: \"\";width: 100%;border-bottom: 1px solid gray;flex-grow: 1;}#sk-container-id-4 div.sk-label:hover label.sk-toggleable__label {background-color: #d4ebff;}#sk-container-id-4 div.sk-serial::before {content: \"\";position: absolute;border-left: 1px solid gray;box-sizing: border-box;top: 0;bottom: 0;left: 50%;z-index: 0;}#sk-container-id-4 div.sk-serial {display: flex;flex-direction: column;align-items: center;background-color: white;padding-right: 0.2em;padding-left: 0.2em;position: relative;}#sk-container-id-4 div.sk-item {position: relative;z-index: 1;}#sk-container-id-4 div.sk-parallel {display: flex;align-items: stretch;justify-content: center;background-color: white;position: relative;}#sk-container-id-4 div.sk-item::before, #sk-container-id-4 div.sk-parallel-item::before {content: \"\";position: absolute;border-left: 1px solid gray;box-sizing: border-box;top: 0;bottom: 0;left: 50%;z-index: -1;}#sk-container-id-4 div.sk-parallel-item {display: flex;flex-direction: column;z-index: 1;position: relative;background-color: white;}#sk-container-id-4 div.sk-parallel-item:first-child::after {align-self: flex-end;width: 50%;}#sk-container-id-4 div.sk-parallel-item:last-child::after {align-self: flex-start;width: 50%;}#sk-container-id-4 div.sk-parallel-item:only-child::after {width: 0;}#sk-container-id-4 div.sk-dashed-wrapped {border: 1px dashed gray;margin: 0 0.4em 0.5em 0.4em;box-sizing: border-box;padding-bottom: 0.4em;background-color: white;}#sk-container-id-4 div.sk-label label {font-family: monospace;font-weight: bold;display: inline-block;line-height: 1.2em;}#sk-container-id-4 div.sk-label-container {text-align: center;}#sk-container-id-4 div.sk-container {/* jupyter's `normalize.less` sets `[hidden] { display: none; }` but bootstrap.min.css set `[hidden] { display: none !important; }` so we also need the `!important` here to be able to override the default hidden behavior on the sphinx rendered scikit-learn.org. See: https://github.com/scikit-learn/scikit-learn/issues/21755 */display: inline-block !important;position: relative;}#sk-container-id-4 div.sk-text-repr-fallback {display: none;}</style><div id=\"sk-container-id-4\" class=\"sk-top-container\"><div class=\"sk-text-repr-fallback\"><pre>GridSearchCV(estimator=KNeighborsClassifier(),\n",
       "             param_grid={&#x27;n_neighbors&#x27;: array([ 5,  6,  7,  8,  9, 10, 11, 12, 13, 14]),\n",
       "                         &#x27;p&#x27;: [1, 2]})</pre><b>In a Jupyter environment, please rerun this cell to show the HTML representation or trust the notebook. <br />On GitHub, the HTML representation is unable to render, please try loading this page with nbviewer.org.</b></div><div class=\"sk-container\" hidden><div class=\"sk-item sk-dashed-wrapped\"><div class=\"sk-label-container\"><div class=\"sk-label sk-toggleable\"><input class=\"sk-toggleable__control sk-hidden--visually\" id=\"sk-estimator-id-4\" type=\"checkbox\" ><label for=\"sk-estimator-id-4\" class=\"sk-toggleable__label sk-toggleable__label-arrow\">GridSearchCV</label><div class=\"sk-toggleable__content\"><pre>GridSearchCV(estimator=KNeighborsClassifier(),\n",
       "             param_grid={&#x27;n_neighbors&#x27;: array([ 5,  6,  7,  8,  9, 10, 11, 12, 13, 14]),\n",
       "                         &#x27;p&#x27;: [1, 2]})</pre></div></div></div><div class=\"sk-parallel\"><div class=\"sk-parallel-item\"><div class=\"sk-item\"><div class=\"sk-label-container\"><div class=\"sk-label sk-toggleable\"><input class=\"sk-toggleable__control sk-hidden--visually\" id=\"sk-estimator-id-5\" type=\"checkbox\" ><label for=\"sk-estimator-id-5\" class=\"sk-toggleable__label sk-toggleable__label-arrow\">estimator: KNeighborsClassifier</label><div class=\"sk-toggleable__content\"><pre>KNeighborsClassifier()</pre></div></div></div><div class=\"sk-serial\"><div class=\"sk-item\"><div class=\"sk-estimator sk-toggleable\"><input class=\"sk-toggleable__control sk-hidden--visually\" id=\"sk-estimator-id-6\" type=\"checkbox\" ><label for=\"sk-estimator-id-6\" class=\"sk-toggleable__label sk-toggleable__label-arrow\">KNeighborsClassifier</label><div class=\"sk-toggleable__content\"><pre>KNeighborsClassifier()</pre></div></div></div></div></div></div></div></div></div></div>"
      ],
      "text/plain": [
       "GridSearchCV(estimator=KNeighborsClassifier(),\n",
       "             param_grid={'n_neighbors': array([ 5,  6,  7,  8,  9, 10, 11, 12, 13, 14]),\n",
       "                         'p': [1, 2]})"
      ]
     },
     "execution_count": 100,
     "metadata": {},
     "output_type": "execute_result"
    }
   ],
   "source": [
    "knn_model= KNeighborsClassifier()\n",
    "hyp={'n_neighbors':np.arange(5,15),'p':[1,2]}\n",
    "\n",
    "gscv= GridSearchCV(knn_model,hyp)\n",
    "gscv.fit(x_train,y_train)"
   ]
  },
  {
   "cell_type": "code",
   "execution_count": null,
   "id": "5a1d0b5b",
   "metadata": {},
   "outputs": [],
   "source": [
    "# KNeighborsClassifier(\n",
    "#     n_neighbors=5,\n",
    "#     *,\n",
    "#     weights='uniform',\n",
    "#     algorithm='auto',\n",
    "#     leaf_size=30,\n",
    "#     p=2,\n",
    "#     metric='minkowski',\n",
    "#     metric_params=None,\n",
    "#     n_jobs=None,"
   ]
  },
  {
   "cell_type": "code",
   "execution_count": 101,
   "id": "457a3275",
   "metadata": {},
   "outputs": [
    {
     "data": {
      "text/html": [
       "<style>#sk-container-id-5 {color: black;background-color: white;}#sk-container-id-5 pre{padding: 0;}#sk-container-id-5 div.sk-toggleable {background-color: white;}#sk-container-id-5 label.sk-toggleable__label {cursor: pointer;display: block;width: 100%;margin-bottom: 0;padding: 0.3em;box-sizing: border-box;text-align: center;}#sk-container-id-5 label.sk-toggleable__label-arrow:before {content: \"▸\";float: left;margin-right: 0.25em;color: #696969;}#sk-container-id-5 label.sk-toggleable__label-arrow:hover:before {color: black;}#sk-container-id-5 div.sk-estimator:hover label.sk-toggleable__label-arrow:before {color: black;}#sk-container-id-5 div.sk-toggleable__content {max-height: 0;max-width: 0;overflow: hidden;text-align: left;background-color: #f0f8ff;}#sk-container-id-5 div.sk-toggleable__content pre {margin: 0.2em;color: black;border-radius: 0.25em;background-color: #f0f8ff;}#sk-container-id-5 input.sk-toggleable__control:checked~div.sk-toggleable__content {max-height: 200px;max-width: 100%;overflow: auto;}#sk-container-id-5 input.sk-toggleable__control:checked~label.sk-toggleable__label-arrow:before {content: \"▾\";}#sk-container-id-5 div.sk-estimator input.sk-toggleable__control:checked~label.sk-toggleable__label {background-color: #d4ebff;}#sk-container-id-5 div.sk-label input.sk-toggleable__control:checked~label.sk-toggleable__label {background-color: #d4ebff;}#sk-container-id-5 input.sk-hidden--visually {border: 0;clip: rect(1px 1px 1px 1px);clip: rect(1px, 1px, 1px, 1px);height: 1px;margin: -1px;overflow: hidden;padding: 0;position: absolute;width: 1px;}#sk-container-id-5 div.sk-estimator {font-family: monospace;background-color: #f0f8ff;border: 1px dotted black;border-radius: 0.25em;box-sizing: border-box;margin-bottom: 0.5em;}#sk-container-id-5 div.sk-estimator:hover {background-color: #d4ebff;}#sk-container-id-5 div.sk-parallel-item::after {content: \"\";width: 100%;border-bottom: 1px solid gray;flex-grow: 1;}#sk-container-id-5 div.sk-label:hover label.sk-toggleable__label {background-color: #d4ebff;}#sk-container-id-5 div.sk-serial::before {content: \"\";position: absolute;border-left: 1px solid gray;box-sizing: border-box;top: 0;bottom: 0;left: 50%;z-index: 0;}#sk-container-id-5 div.sk-serial {display: flex;flex-direction: column;align-items: center;background-color: white;padding-right: 0.2em;padding-left: 0.2em;position: relative;}#sk-container-id-5 div.sk-item {position: relative;z-index: 1;}#sk-container-id-5 div.sk-parallel {display: flex;align-items: stretch;justify-content: center;background-color: white;position: relative;}#sk-container-id-5 div.sk-item::before, #sk-container-id-5 div.sk-parallel-item::before {content: \"\";position: absolute;border-left: 1px solid gray;box-sizing: border-box;top: 0;bottom: 0;left: 50%;z-index: -1;}#sk-container-id-5 div.sk-parallel-item {display: flex;flex-direction: column;z-index: 1;position: relative;background-color: white;}#sk-container-id-5 div.sk-parallel-item:first-child::after {align-self: flex-end;width: 50%;}#sk-container-id-5 div.sk-parallel-item:last-child::after {align-self: flex-start;width: 50%;}#sk-container-id-5 div.sk-parallel-item:only-child::after {width: 0;}#sk-container-id-5 div.sk-dashed-wrapped {border: 1px dashed gray;margin: 0 0.4em 0.5em 0.4em;box-sizing: border-box;padding-bottom: 0.4em;background-color: white;}#sk-container-id-5 div.sk-label label {font-family: monospace;font-weight: bold;display: inline-block;line-height: 1.2em;}#sk-container-id-5 div.sk-label-container {text-align: center;}#sk-container-id-5 div.sk-container {/* jupyter's `normalize.less` sets `[hidden] { display: none; }` but bootstrap.min.css set `[hidden] { display: none !important; }` so we also need the `!important` here to be able to override the default hidden behavior on the sphinx rendered scikit-learn.org. See: https://github.com/scikit-learn/scikit-learn/issues/21755 */display: inline-block !important;position: relative;}#sk-container-id-5 div.sk-text-repr-fallback {display: none;}</style><div id=\"sk-container-id-5\" class=\"sk-top-container\"><div class=\"sk-text-repr-fallback\"><pre>KNeighborsClassifier(n_neighbors=6, p=1)</pre><b>In a Jupyter environment, please rerun this cell to show the HTML representation or trust the notebook. <br />On GitHub, the HTML representation is unable to render, please try loading this page with nbviewer.org.</b></div><div class=\"sk-container\" hidden><div class=\"sk-item\"><div class=\"sk-estimator sk-toggleable\"><input class=\"sk-toggleable__control sk-hidden--visually\" id=\"sk-estimator-id-7\" type=\"checkbox\" checked><label for=\"sk-estimator-id-7\" class=\"sk-toggleable__label sk-toggleable__label-arrow\">KNeighborsClassifier</label><div class=\"sk-toggleable__content\"><pre>KNeighborsClassifier(n_neighbors=6, p=1)</pre></div></div></div></div></div>"
      ],
      "text/plain": [
       "KNeighborsClassifier(n_neighbors=6, p=1)"
      ]
     },
     "execution_count": 101,
     "metadata": {},
     "output_type": "execute_result"
    }
   ],
   "source": [
    "gscv.best_estimator_"
   ]
  },
  {
   "cell_type": "code",
   "execution_count": 102,
   "id": "0f5495ed",
   "metadata": {},
   "outputs": [
    {
     "data": {
      "text/html": [
       "<style>#sk-container-id-6 {color: black;background-color: white;}#sk-container-id-6 pre{padding: 0;}#sk-container-id-6 div.sk-toggleable {background-color: white;}#sk-container-id-6 label.sk-toggleable__label {cursor: pointer;display: block;width: 100%;margin-bottom: 0;padding: 0.3em;box-sizing: border-box;text-align: center;}#sk-container-id-6 label.sk-toggleable__label-arrow:before {content: \"▸\";float: left;margin-right: 0.25em;color: #696969;}#sk-container-id-6 label.sk-toggleable__label-arrow:hover:before {color: black;}#sk-container-id-6 div.sk-estimator:hover label.sk-toggleable__label-arrow:before {color: black;}#sk-container-id-6 div.sk-toggleable__content {max-height: 0;max-width: 0;overflow: hidden;text-align: left;background-color: #f0f8ff;}#sk-container-id-6 div.sk-toggleable__content pre {margin: 0.2em;color: black;border-radius: 0.25em;background-color: #f0f8ff;}#sk-container-id-6 input.sk-toggleable__control:checked~div.sk-toggleable__content {max-height: 200px;max-width: 100%;overflow: auto;}#sk-container-id-6 input.sk-toggleable__control:checked~label.sk-toggleable__label-arrow:before {content: \"▾\";}#sk-container-id-6 div.sk-estimator input.sk-toggleable__control:checked~label.sk-toggleable__label {background-color: #d4ebff;}#sk-container-id-6 div.sk-label input.sk-toggleable__control:checked~label.sk-toggleable__label {background-color: #d4ebff;}#sk-container-id-6 input.sk-hidden--visually {border: 0;clip: rect(1px 1px 1px 1px);clip: rect(1px, 1px, 1px, 1px);height: 1px;margin: -1px;overflow: hidden;padding: 0;position: absolute;width: 1px;}#sk-container-id-6 div.sk-estimator {font-family: monospace;background-color: #f0f8ff;border: 1px dotted black;border-radius: 0.25em;box-sizing: border-box;margin-bottom: 0.5em;}#sk-container-id-6 div.sk-estimator:hover {background-color: #d4ebff;}#sk-container-id-6 div.sk-parallel-item::after {content: \"\";width: 100%;border-bottom: 1px solid gray;flex-grow: 1;}#sk-container-id-6 div.sk-label:hover label.sk-toggleable__label {background-color: #d4ebff;}#sk-container-id-6 div.sk-serial::before {content: \"\";position: absolute;border-left: 1px solid gray;box-sizing: border-box;top: 0;bottom: 0;left: 50%;z-index: 0;}#sk-container-id-6 div.sk-serial {display: flex;flex-direction: column;align-items: center;background-color: white;padding-right: 0.2em;padding-left: 0.2em;position: relative;}#sk-container-id-6 div.sk-item {position: relative;z-index: 1;}#sk-container-id-6 div.sk-parallel {display: flex;align-items: stretch;justify-content: center;background-color: white;position: relative;}#sk-container-id-6 div.sk-item::before, #sk-container-id-6 div.sk-parallel-item::before {content: \"\";position: absolute;border-left: 1px solid gray;box-sizing: border-box;top: 0;bottom: 0;left: 50%;z-index: -1;}#sk-container-id-6 div.sk-parallel-item {display: flex;flex-direction: column;z-index: 1;position: relative;background-color: white;}#sk-container-id-6 div.sk-parallel-item:first-child::after {align-self: flex-end;width: 50%;}#sk-container-id-6 div.sk-parallel-item:last-child::after {align-self: flex-start;width: 50%;}#sk-container-id-6 div.sk-parallel-item:only-child::after {width: 0;}#sk-container-id-6 div.sk-dashed-wrapped {border: 1px dashed gray;margin: 0 0.4em 0.5em 0.4em;box-sizing: border-box;padding-bottom: 0.4em;background-color: white;}#sk-container-id-6 div.sk-label label {font-family: monospace;font-weight: bold;display: inline-block;line-height: 1.2em;}#sk-container-id-6 div.sk-label-container {text-align: center;}#sk-container-id-6 div.sk-container {/* jupyter's `normalize.less` sets `[hidden] { display: none; }` but bootstrap.min.css set `[hidden] { display: none !important; }` so we also need the `!important` here to be able to override the default hidden behavior on the sphinx rendered scikit-learn.org. See: https://github.com/scikit-learn/scikit-learn/issues/21755 */display: inline-block !important;position: relative;}#sk-container-id-6 div.sk-text-repr-fallback {display: none;}</style><div id=\"sk-container-id-6\" class=\"sk-top-container\"><div class=\"sk-text-repr-fallback\"><pre>KNeighborsClassifier(n_neighbors=6, p=1)</pre><b>In a Jupyter environment, please rerun this cell to show the HTML representation or trust the notebook. <br />On GitHub, the HTML representation is unable to render, please try loading this page with nbviewer.org.</b></div><div class=\"sk-container\" hidden><div class=\"sk-item\"><div class=\"sk-estimator sk-toggleable\"><input class=\"sk-toggleable__control sk-hidden--visually\" id=\"sk-estimator-id-8\" type=\"checkbox\" checked><label for=\"sk-estimator-id-8\" class=\"sk-toggleable__label sk-toggleable__label-arrow\">KNeighborsClassifier</label><div class=\"sk-toggleable__content\"><pre>KNeighborsClassifier(n_neighbors=6, p=1)</pre></div></div></div></div></div>"
      ],
      "text/plain": [
       "KNeighborsClassifier(n_neighbors=6, p=1)"
      ]
     },
     "execution_count": 102,
     "metadata": {},
     "output_type": "execute_result"
    }
   ],
   "source": [
    "knn_hyp_model=gscv.best_estimator_\n",
    "knn_hyp_model.fit(x_train,y_train)"
   ]
  },
  {
   "cell_type": "code",
   "execution_count": 103,
   "id": "1494d8e0",
   "metadata": {},
   "outputs": [
    {
     "name": "stdout",
     "output_type": "stream",
     "text": [
      "Accurancy score=0.9070422535211268\n",
      "**************************************************\n",
      "Confusion matrix=\n",
      "[[1233  187]\n",
      " [  77 1343]]\n",
      "**************************************************\n",
      "Classification Report=              precision    recall  f1-score   support\n",
      "\n",
      "           0       0.94      0.87      0.90      1420\n",
      "           1       0.88      0.95      0.91      1420\n",
      "\n",
      "    accuracy                           0.91      2840\n",
      "   macro avg       0.91      0.91      0.91      2840\n",
      "weighted avg       0.91      0.91      0.91      2840\n",
      "\n"
     ]
    }
   ],
   "source": [
    "#testing data evalution\n",
    "y_test_predict=knn_hyp_model.predict(x_test)\n",
    "mod_eval(y_test,y_test_predict)"
   ]
  },
  {
   "cell_type": "code",
   "execution_count": 104,
   "id": "3d6adf7f",
   "metadata": {},
   "outputs": [
    {
     "name": "stdout",
     "output_type": "stream",
     "text": [
      "Accurancy score=0.9403863567763356\n",
      "**************************************************\n",
      "Confusion matrix=\n",
      "[[3028  285]\n",
      " [ 110 3203]]\n",
      "**************************************************\n",
      "Classification Report=              precision    recall  f1-score   support\n",
      "\n",
      "           0       0.96      0.91      0.94      3313\n",
      "           1       0.92      0.97      0.94      3313\n",
      "\n",
      "    accuracy                           0.94      6626\n",
      "   macro avg       0.94      0.94      0.94      6626\n",
      "weighted avg       0.94      0.94      0.94      6626\n",
      "\n"
     ]
    }
   ],
   "source": [
    "# Model Evalution\n",
    "#training data evalution\n",
    "y_train_predict=knn_hyp_model.predict(x_train)\n",
    "mod_eval(y_train,y_train_predict)"
   ]
  },
  {
   "cell_type": "code",
   "execution_count": 130,
   "id": "3ba6f3ca",
   "metadata": {},
   "outputs": [
    {
     "data": {
      "text/html": [
       "<div>\n",
       "<style scoped>\n",
       "    .dataframe tbody tr th:only-of-type {\n",
       "        vertical-align: middle;\n",
       "    }\n",
       "\n",
       "    .dataframe tbody tr th {\n",
       "        vertical-align: top;\n",
       "    }\n",
       "\n",
       "    .dataframe thead th {\n",
       "        text-align: right;\n",
       "    }\n",
       "</style>\n",
       "<table border=\"1\" class=\"dataframe\">\n",
       "  <thead>\n",
       "    <tr style=\"text-align: right;\">\n",
       "      <th></th>\n",
       "      <th>gender</th>\n",
       "      <th>age</th>\n",
       "      <th>hypertension</th>\n",
       "      <th>heart_disease</th>\n",
       "      <th>ever_married</th>\n",
       "      <th>Residence_type</th>\n",
       "      <th>avg_glucose_level</th>\n",
       "      <th>bmi</th>\n",
       "      <th>smoking_status</th>\n",
       "      <th>work_type_Govt_job</th>\n",
       "      <th>work_type_Private</th>\n",
       "      <th>work_type_Self-employed</th>\n",
       "      <th>work_type_children</th>\n",
       "      <th>age_std</th>\n",
       "      <th>avg_glucose_level_std</th>\n",
       "      <th>bmi_std</th>\n",
       "    </tr>\n",
       "  </thead>\n",
       "  <tbody>\n",
       "    <tr>\n",
       "      <th>0</th>\n",
       "      <td>1</td>\n",
       "      <td>67.000000</td>\n",
       "      <td>0</td>\n",
       "      <td>1</td>\n",
       "      <td>1</td>\n",
       "      <td>1</td>\n",
       "      <td>228.690000</td>\n",
       "      <td>36.600000</td>\n",
       "      <td>3</td>\n",
       "      <td>0</td>\n",
       "      <td>1</td>\n",
       "      <td>0</td>\n",
       "      <td>0</td>\n",
       "      <td>0.538565</td>\n",
       "      <td>1.990376</td>\n",
       "      <td>1.218788</td>\n",
       "    </tr>\n",
       "    <tr>\n",
       "      <th>1</th>\n",
       "      <td>1</td>\n",
       "      <td>80.000000</td>\n",
       "      <td>0</td>\n",
       "      <td>1</td>\n",
       "      <td>1</td>\n",
       "      <td>0</td>\n",
       "      <td>105.920000</td>\n",
       "      <td>32.500000</td>\n",
       "      <td>0</td>\n",
       "      <td>0</td>\n",
       "      <td>1</td>\n",
       "      <td>0</td>\n",
       "      <td>0</td>\n",
       "      <td>1.126493</td>\n",
       "      <td>-0.232995</td>\n",
       "      <td>0.539364</td>\n",
       "    </tr>\n",
       "    <tr>\n",
       "      <th>2</th>\n",
       "      <td>0</td>\n",
       "      <td>49.000000</td>\n",
       "      <td>0</td>\n",
       "      <td>0</td>\n",
       "      <td>1</td>\n",
       "      <td>1</td>\n",
       "      <td>171.230000</td>\n",
       "      <td>34.400000</td>\n",
       "      <td>1</td>\n",
       "      <td>0</td>\n",
       "      <td>1</td>\n",
       "      <td>0</td>\n",
       "      <td>0</td>\n",
       "      <td>-0.275488</td>\n",
       "      <td>0.949773</td>\n",
       "      <td>0.854219</td>\n",
       "    </tr>\n",
       "    <tr>\n",
       "      <th>3</th>\n",
       "      <td>0</td>\n",
       "      <td>79.000000</td>\n",
       "      <td>1</td>\n",
       "      <td>0</td>\n",
       "      <td>1</td>\n",
       "      <td>0</td>\n",
       "      <td>174.120000</td>\n",
       "      <td>24.000000</td>\n",
       "      <td>0</td>\n",
       "      <td>0</td>\n",
       "      <td>0</td>\n",
       "      <td>1</td>\n",
       "      <td>0</td>\n",
       "      <td>1.081268</td>\n",
       "      <td>1.002111</td>\n",
       "      <td>-0.869196</td>\n",
       "    </tr>\n",
       "    <tr>\n",
       "      <th>4</th>\n",
       "      <td>1</td>\n",
       "      <td>81.000000</td>\n",
       "      <td>0</td>\n",
       "      <td>0</td>\n",
       "      <td>1</td>\n",
       "      <td>1</td>\n",
       "      <td>186.210000</td>\n",
       "      <td>29.000000</td>\n",
       "      <td>3</td>\n",
       "      <td>0</td>\n",
       "      <td>1</td>\n",
       "      <td>0</td>\n",
       "      <td>0</td>\n",
       "      <td>1.171718</td>\n",
       "      <td>1.221061</td>\n",
       "      <td>-0.040631</td>\n",
       "    </tr>\n",
       "    <tr>\n",
       "      <th>...</th>\n",
       "      <td>...</td>\n",
       "      <td>...</td>\n",
       "      <td>...</td>\n",
       "      <td>...</td>\n",
       "      <td>...</td>\n",
       "      <td>...</td>\n",
       "      <td>...</td>\n",
       "      <td>...</td>\n",
       "      <td>...</td>\n",
       "      <td>...</td>\n",
       "      <td>...</td>\n",
       "      <td>...</td>\n",
       "      <td>...</td>\n",
       "      <td>...</td>\n",
       "      <td>...</td>\n",
       "      <td>...</td>\n",
       "    </tr>\n",
       "    <tr>\n",
       "      <th>9461</th>\n",
       "      <td>0</td>\n",
       "      <td>75.821531</td>\n",
       "      <td>0</td>\n",
       "      <td>0</td>\n",
       "      <td>1</td>\n",
       "      <td>1</td>\n",
       "      <td>58.733819</td>\n",
       "      <td>27.935694</td>\n",
       "      <td>2</td>\n",
       "      <td>0</td>\n",
       "      <td>0</td>\n",
       "      <td>0</td>\n",
       "      <td>0</td>\n",
       "      <td>0.937521</td>\n",
       "      <td>-1.087539</td>\n",
       "      <td>-0.217001</td>\n",
       "    </tr>\n",
       "    <tr>\n",
       "      <th>9462</th>\n",
       "      <td>1</td>\n",
       "      <td>62.758852</td>\n",
       "      <td>0</td>\n",
       "      <td>0</td>\n",
       "      <td>1</td>\n",
       "      <td>0</td>\n",
       "      <td>111.746664</td>\n",
       "      <td>30.346105</td>\n",
       "      <td>3</td>\n",
       "      <td>0</td>\n",
       "      <td>0</td>\n",
       "      <td>0</td>\n",
       "      <td>0</td>\n",
       "      <td>0.346759</td>\n",
       "      <td>-0.127474</td>\n",
       "      <td>0.182436</td>\n",
       "    </tr>\n",
       "    <tr>\n",
       "      <th>9463</th>\n",
       "      <td>0</td>\n",
       "      <td>77.738334</td>\n",
       "      <td>0</td>\n",
       "      <td>0</td>\n",
       "      <td>1</td>\n",
       "      <td>0</td>\n",
       "      <td>78.097161</td>\n",
       "      <td>24.370999</td>\n",
       "      <td>3</td>\n",
       "      <td>0</td>\n",
       "      <td>0</td>\n",
       "      <td>0</td>\n",
       "      <td>0</td>\n",
       "      <td>1.024209</td>\n",
       "      <td>-0.736868</td>\n",
       "      <td>-0.807717</td>\n",
       "    </tr>\n",
       "    <tr>\n",
       "      <th>9464</th>\n",
       "      <td>0</td>\n",
       "      <td>80.517725</td>\n",
       "      <td>0</td>\n",
       "      <td>0</td>\n",
       "      <td>1</td>\n",
       "      <td>0</td>\n",
       "      <td>73.788508</td>\n",
       "      <td>24.517725</td>\n",
       "      <td>0</td>\n",
       "      <td>0</td>\n",
       "      <td>0</td>\n",
       "      <td>0</td>\n",
       "      <td>0</td>\n",
       "      <td>1.149907</td>\n",
       "      <td>-0.814898</td>\n",
       "      <td>-0.783402</td>\n",
       "    </tr>\n",
       "    <tr>\n",
       "      <th>9465</th>\n",
       "      <td>0</td>\n",
       "      <td>79.300108</td>\n",
       "      <td>0</td>\n",
       "      <td>0</td>\n",
       "      <td>1</td>\n",
       "      <td>0</td>\n",
       "      <td>80.170780</td>\n",
       "      <td>18.429903</td>\n",
       "      <td>1</td>\n",
       "      <td>0</td>\n",
       "      <td>0</td>\n",
       "      <td>0</td>\n",
       "      <td>0</td>\n",
       "      <td>1.094840</td>\n",
       "      <td>-0.699314</td>\n",
       "      <td>-1.792234</td>\n",
       "    </tr>\n",
       "  </tbody>\n",
       "</table>\n",
       "<p>9466 rows × 16 columns</p>\n",
       "</div>"
      ],
      "text/plain": [
       "      gender        age  hypertension  heart_disease  ever_married  \\\n",
       "0          1  67.000000             0              1             1   \n",
       "1          1  80.000000             0              1             1   \n",
       "2          0  49.000000             0              0             1   \n",
       "3          0  79.000000             1              0             1   \n",
       "4          1  81.000000             0              0             1   \n",
       "...      ...        ...           ...            ...           ...   \n",
       "9461       0  75.821531             0              0             1   \n",
       "9462       1  62.758852             0              0             1   \n",
       "9463       0  77.738334             0              0             1   \n",
       "9464       0  80.517725             0              0             1   \n",
       "9465       0  79.300108             0              0             1   \n",
       "\n",
       "      Residence_type  avg_glucose_level        bmi  smoking_status  \\\n",
       "0                  1         228.690000  36.600000               3   \n",
       "1                  0         105.920000  32.500000               0   \n",
       "2                  1         171.230000  34.400000               1   \n",
       "3                  0         174.120000  24.000000               0   \n",
       "4                  1         186.210000  29.000000               3   \n",
       "...              ...                ...        ...             ...   \n",
       "9461               1          58.733819  27.935694               2   \n",
       "9462               0         111.746664  30.346105               3   \n",
       "9463               0          78.097161  24.370999               3   \n",
       "9464               0          73.788508  24.517725               0   \n",
       "9465               0          80.170780  18.429903               1   \n",
       "\n",
       "      work_type_Govt_job  work_type_Private  work_type_Self-employed  \\\n",
       "0                      0                  1                        0   \n",
       "1                      0                  1                        0   \n",
       "2                      0                  1                        0   \n",
       "3                      0                  0                        1   \n",
       "4                      0                  1                        0   \n",
       "...                  ...                ...                      ...   \n",
       "9461                   0                  0                        0   \n",
       "9462                   0                  0                        0   \n",
       "9463                   0                  0                        0   \n",
       "9464                   0                  0                        0   \n",
       "9465                   0                  0                        0   \n",
       "\n",
       "      work_type_children   age_std  avg_glucose_level_std   bmi_std  \n",
       "0                      0  0.538565               1.990376  1.218788  \n",
       "1                      0  1.126493              -0.232995  0.539364  \n",
       "2                      0 -0.275488               0.949773  0.854219  \n",
       "3                      0  1.081268               1.002111 -0.869196  \n",
       "4                      0  1.171718               1.221061 -0.040631  \n",
       "...                  ...       ...                    ...       ...  \n",
       "9461                   0  0.937521              -1.087539 -0.217001  \n",
       "9462                   0  0.346759              -0.127474  0.182436  \n",
       "9463                   0  1.024209              -0.736868 -0.807717  \n",
       "9464                   0  1.149907              -0.814898 -0.783402  \n",
       "9465                   0  1.094840              -0.699314 -1.792234  \n",
       "\n",
       "[9466 rows x 16 columns]"
      ]
     },
     "execution_count": 130,
     "metadata": {},
     "output_type": "execute_result"
    }
   ],
   "source": [
    "# from above training=94 & tesing=90\n",
    "x_smt"
   ]
  },
  {
   "cell_type": "markdown",
   "id": "55a3b48c",
   "metadata": {},
   "source": [
    "### By using Decision Tree:-"
   ]
  },
  {
   "cell_type": "code",
   "execution_count": 131,
   "id": "d5c63db8",
   "metadata": {},
   "outputs": [
    {
     "name": "stdout",
     "output_type": "stream",
     "text": [
      "(6626, 13)\n",
      "(2840, 13)\n",
      "(6626,)\n",
      "(2840,)\n"
     ]
    }
   ],
   "source": [
    "x=x_smt.drop(['age_std','avg_glucose_level_std','bmi_std'],axis=1)\n",
    "y=y_smt\n",
    "x_train,x_test,y_train,y_test=train_test_split(x,y,test_size=0.3,random_state=10,stratify=y)\n",
    "print(x_train.shape)\n",
    "print(x_test.shape)\n",
    "print(y_train.shape)\n",
    "print(y_test.shape)"
   ]
  },
  {
   "cell_type": "code",
   "execution_count": 132,
   "id": "54f27cb7",
   "metadata": {},
   "outputs": [
    {
     "data": {
      "text/html": [
       "<style>#sk-container-id-15 {color: black;background-color: white;}#sk-container-id-15 pre{padding: 0;}#sk-container-id-15 div.sk-toggleable {background-color: white;}#sk-container-id-15 label.sk-toggleable__label {cursor: pointer;display: block;width: 100%;margin-bottom: 0;padding: 0.3em;box-sizing: border-box;text-align: center;}#sk-container-id-15 label.sk-toggleable__label-arrow:before {content: \"▸\";float: left;margin-right: 0.25em;color: #696969;}#sk-container-id-15 label.sk-toggleable__label-arrow:hover:before {color: black;}#sk-container-id-15 div.sk-estimator:hover label.sk-toggleable__label-arrow:before {color: black;}#sk-container-id-15 div.sk-toggleable__content {max-height: 0;max-width: 0;overflow: hidden;text-align: left;background-color: #f0f8ff;}#sk-container-id-15 div.sk-toggleable__content pre {margin: 0.2em;color: black;border-radius: 0.25em;background-color: #f0f8ff;}#sk-container-id-15 input.sk-toggleable__control:checked~div.sk-toggleable__content {max-height: 200px;max-width: 100%;overflow: auto;}#sk-container-id-15 input.sk-toggleable__control:checked~label.sk-toggleable__label-arrow:before {content: \"▾\";}#sk-container-id-15 div.sk-estimator input.sk-toggleable__control:checked~label.sk-toggleable__label {background-color: #d4ebff;}#sk-container-id-15 div.sk-label input.sk-toggleable__control:checked~label.sk-toggleable__label {background-color: #d4ebff;}#sk-container-id-15 input.sk-hidden--visually {border: 0;clip: rect(1px 1px 1px 1px);clip: rect(1px, 1px, 1px, 1px);height: 1px;margin: -1px;overflow: hidden;padding: 0;position: absolute;width: 1px;}#sk-container-id-15 div.sk-estimator {font-family: monospace;background-color: #f0f8ff;border: 1px dotted black;border-radius: 0.25em;box-sizing: border-box;margin-bottom: 0.5em;}#sk-container-id-15 div.sk-estimator:hover {background-color: #d4ebff;}#sk-container-id-15 div.sk-parallel-item::after {content: \"\";width: 100%;border-bottom: 1px solid gray;flex-grow: 1;}#sk-container-id-15 div.sk-label:hover label.sk-toggleable__label {background-color: #d4ebff;}#sk-container-id-15 div.sk-serial::before {content: \"\";position: absolute;border-left: 1px solid gray;box-sizing: border-box;top: 0;bottom: 0;left: 50%;z-index: 0;}#sk-container-id-15 div.sk-serial {display: flex;flex-direction: column;align-items: center;background-color: white;padding-right: 0.2em;padding-left: 0.2em;position: relative;}#sk-container-id-15 div.sk-item {position: relative;z-index: 1;}#sk-container-id-15 div.sk-parallel {display: flex;align-items: stretch;justify-content: center;background-color: white;position: relative;}#sk-container-id-15 div.sk-item::before, #sk-container-id-15 div.sk-parallel-item::before {content: \"\";position: absolute;border-left: 1px solid gray;box-sizing: border-box;top: 0;bottom: 0;left: 50%;z-index: -1;}#sk-container-id-15 div.sk-parallel-item {display: flex;flex-direction: column;z-index: 1;position: relative;background-color: white;}#sk-container-id-15 div.sk-parallel-item:first-child::after {align-self: flex-end;width: 50%;}#sk-container-id-15 div.sk-parallel-item:last-child::after {align-self: flex-start;width: 50%;}#sk-container-id-15 div.sk-parallel-item:only-child::after {width: 0;}#sk-container-id-15 div.sk-dashed-wrapped {border: 1px dashed gray;margin: 0 0.4em 0.5em 0.4em;box-sizing: border-box;padding-bottom: 0.4em;background-color: white;}#sk-container-id-15 div.sk-label label {font-family: monospace;font-weight: bold;display: inline-block;line-height: 1.2em;}#sk-container-id-15 div.sk-label-container {text-align: center;}#sk-container-id-15 div.sk-container {/* jupyter's `normalize.less` sets `[hidden] { display: none; }` but bootstrap.min.css set `[hidden] { display: none !important; }` so we also need the `!important` here to be able to override the default hidden behavior on the sphinx rendered scikit-learn.org. See: https://github.com/scikit-learn/scikit-learn/issues/21755 */display: inline-block !important;position: relative;}#sk-container-id-15 div.sk-text-repr-fallback {display: none;}</style><div id=\"sk-container-id-15\" class=\"sk-top-container\"><div class=\"sk-text-repr-fallback\"><pre>DecisionTreeClassifier(random_state=3)</pre><b>In a Jupyter environment, please rerun this cell to show the HTML representation or trust the notebook. <br />On GitHub, the HTML representation is unable to render, please try loading this page with nbviewer.org.</b></div><div class=\"sk-container\" hidden><div class=\"sk-item\"><div class=\"sk-estimator sk-toggleable\"><input class=\"sk-toggleable__control sk-hidden--visually\" id=\"sk-estimator-id-21\" type=\"checkbox\" checked><label for=\"sk-estimator-id-21\" class=\"sk-toggleable__label sk-toggleable__label-arrow\">DecisionTreeClassifier</label><div class=\"sk-toggleable__content\"><pre>DecisionTreeClassifier(random_state=3)</pre></div></div></div></div></div>"
      ],
      "text/plain": [
       "DecisionTreeClassifier(random_state=3)"
      ]
     },
     "execution_count": 132,
     "metadata": {},
     "output_type": "execute_result"
    }
   ],
   "source": [
    "dt_model= DecisionTreeClassifier(random_state=3)\n",
    "dt_model.fit(x_train,y_train)"
   ]
  },
  {
   "cell_type": "code",
   "execution_count": 133,
   "id": "5921c0ba",
   "metadata": {},
   "outputs": [
    {
     "name": "stdout",
     "output_type": "stream",
     "text": [
      "Accurancy score=0.923943661971831\n",
      "**************************************************\n",
      "Confusion matrix=\n",
      "[[1292  128]\n",
      " [  88 1332]]\n",
      "**************************************************\n",
      "Classification Report=              precision    recall  f1-score   support\n",
      "\n",
      "           0       0.94      0.91      0.92      1420\n",
      "           1       0.91      0.94      0.93      1420\n",
      "\n",
      "    accuracy                           0.92      2840\n",
      "   macro avg       0.92      0.92      0.92      2840\n",
      "weighted avg       0.92      0.92      0.92      2840\n",
      "\n"
     ]
    }
   ],
   "source": [
    "#Model Evalution\n",
    "#testing data evalution\n",
    "y_test_predict=dt_model.predict(x_test)\n",
    "mod_eval(y_test,y_test_predict)"
   ]
  },
  {
   "cell_type": "code",
   "execution_count": 134,
   "id": "112dcac0",
   "metadata": {},
   "outputs": [
    {
     "name": "stdout",
     "output_type": "stream",
     "text": [
      "Accurancy score=1.0\n",
      "**************************************************\n",
      "Confusion matrix=\n",
      "[[3313    0]\n",
      " [   0 3313]]\n",
      "**************************************************\n",
      "Classification Report=              precision    recall  f1-score   support\n",
      "\n",
      "           0       1.00      1.00      1.00      3313\n",
      "           1       1.00      1.00      1.00      3313\n",
      "\n",
      "    accuracy                           1.00      6626\n",
      "   macro avg       1.00      1.00      1.00      6626\n",
      "weighted avg       1.00      1.00      1.00      6626\n",
      "\n"
     ]
    }
   ],
   "source": [
    "#training data evalution\n",
    "y_train_predict=dt_model.predict(x_train)\n",
    "mod_eval(y_train,y_train_predict)"
   ]
  },
  {
   "cell_type": "code",
   "execution_count": null,
   "id": "9c9936da",
   "metadata": {},
   "outputs": [],
   "source": [
    "# from training-100% & testing-92% >>>>low bias & high Varinace"
   ]
  },
  {
   "cell_type": "markdown",
   "id": "2e9c35fd",
   "metadata": {},
   "source": [
    "### hypertune of Decision Tree"
   ]
  },
  {
   "cell_type": "code",
   "execution_count": null,
   "id": "70c6b4ff",
   "metadata": {},
   "outputs": [],
   "source": [
    "\n",
    "#  criterion='gini',\n",
    "#     splitter='best',\n",
    "#     max_depth=None,\n",
    "#     min_samples_split=2,\n",
    "#     min_samples_leaf=1,\n",
    "#     min_weight_fraction_leaf=0.0,\n",
    "#     max_features=None,\n",
    "#     random_state=None,\n",
    "#     max_leaf_nodes=None,\n",
    "#     min_impurity_decrease=0.0,\n",
    "#     class_weight=None,\n",
    "#     ccp_alpha=0.0,\n",
    "# )"
   ]
  },
  {
   "cell_type": "code",
   "execution_count": 135,
   "id": "9c52d19c",
   "metadata": {},
   "outputs": [
    {
     "data": {
      "text/html": [
       "<style>#sk-container-id-16 {color: black;background-color: white;}#sk-container-id-16 pre{padding: 0;}#sk-container-id-16 div.sk-toggleable {background-color: white;}#sk-container-id-16 label.sk-toggleable__label {cursor: pointer;display: block;width: 100%;margin-bottom: 0;padding: 0.3em;box-sizing: border-box;text-align: center;}#sk-container-id-16 label.sk-toggleable__label-arrow:before {content: \"▸\";float: left;margin-right: 0.25em;color: #696969;}#sk-container-id-16 label.sk-toggleable__label-arrow:hover:before {color: black;}#sk-container-id-16 div.sk-estimator:hover label.sk-toggleable__label-arrow:before {color: black;}#sk-container-id-16 div.sk-toggleable__content {max-height: 0;max-width: 0;overflow: hidden;text-align: left;background-color: #f0f8ff;}#sk-container-id-16 div.sk-toggleable__content pre {margin: 0.2em;color: black;border-radius: 0.25em;background-color: #f0f8ff;}#sk-container-id-16 input.sk-toggleable__control:checked~div.sk-toggleable__content {max-height: 200px;max-width: 100%;overflow: auto;}#sk-container-id-16 input.sk-toggleable__control:checked~label.sk-toggleable__label-arrow:before {content: \"▾\";}#sk-container-id-16 div.sk-estimator input.sk-toggleable__control:checked~label.sk-toggleable__label {background-color: #d4ebff;}#sk-container-id-16 div.sk-label input.sk-toggleable__control:checked~label.sk-toggleable__label {background-color: #d4ebff;}#sk-container-id-16 input.sk-hidden--visually {border: 0;clip: rect(1px 1px 1px 1px);clip: rect(1px, 1px, 1px, 1px);height: 1px;margin: -1px;overflow: hidden;padding: 0;position: absolute;width: 1px;}#sk-container-id-16 div.sk-estimator {font-family: monospace;background-color: #f0f8ff;border: 1px dotted black;border-radius: 0.25em;box-sizing: border-box;margin-bottom: 0.5em;}#sk-container-id-16 div.sk-estimator:hover {background-color: #d4ebff;}#sk-container-id-16 div.sk-parallel-item::after {content: \"\";width: 100%;border-bottom: 1px solid gray;flex-grow: 1;}#sk-container-id-16 div.sk-label:hover label.sk-toggleable__label {background-color: #d4ebff;}#sk-container-id-16 div.sk-serial::before {content: \"\";position: absolute;border-left: 1px solid gray;box-sizing: border-box;top: 0;bottom: 0;left: 50%;z-index: 0;}#sk-container-id-16 div.sk-serial {display: flex;flex-direction: column;align-items: center;background-color: white;padding-right: 0.2em;padding-left: 0.2em;position: relative;}#sk-container-id-16 div.sk-item {position: relative;z-index: 1;}#sk-container-id-16 div.sk-parallel {display: flex;align-items: stretch;justify-content: center;background-color: white;position: relative;}#sk-container-id-16 div.sk-item::before, #sk-container-id-16 div.sk-parallel-item::before {content: \"\";position: absolute;border-left: 1px solid gray;box-sizing: border-box;top: 0;bottom: 0;left: 50%;z-index: -1;}#sk-container-id-16 div.sk-parallel-item {display: flex;flex-direction: column;z-index: 1;position: relative;background-color: white;}#sk-container-id-16 div.sk-parallel-item:first-child::after {align-self: flex-end;width: 50%;}#sk-container-id-16 div.sk-parallel-item:last-child::after {align-self: flex-start;width: 50%;}#sk-container-id-16 div.sk-parallel-item:only-child::after {width: 0;}#sk-container-id-16 div.sk-dashed-wrapped {border: 1px dashed gray;margin: 0 0.4em 0.5em 0.4em;box-sizing: border-box;padding-bottom: 0.4em;background-color: white;}#sk-container-id-16 div.sk-label label {font-family: monospace;font-weight: bold;display: inline-block;line-height: 1.2em;}#sk-container-id-16 div.sk-label-container {text-align: center;}#sk-container-id-16 div.sk-container {/* jupyter's `normalize.less` sets `[hidden] { display: none; }` but bootstrap.min.css set `[hidden] { display: none !important; }` so we also need the `!important` here to be able to override the default hidden behavior on the sphinx rendered scikit-learn.org. See: https://github.com/scikit-learn/scikit-learn/issues/21755 */display: inline-block !important;position: relative;}#sk-container-id-16 div.sk-text-repr-fallback {display: none;}</style><div id=\"sk-container-id-16\" class=\"sk-top-container\"><div class=\"sk-text-repr-fallback\"><pre>RandomizedSearchCV(cv=5, estimator=DecisionTreeClassifier(random_state=10),\n",
       "                   param_distributions={&#x27;criterion&#x27;: [&#x27;gini&#x27;, &#x27;entropy&#x27;],\n",
       "                                        &#x27;max_depth&#x27;: array([5, 6, 7, 8, 9]),\n",
       "                                        &#x27;min_samples_leaf&#x27;: array([5, 6, 7, 8, 9]),\n",
       "                                        &#x27;min_samples_split&#x27;: array([ 5,  6,  7,  8,  9, 10, 11, 12, 13, 14])})</pre><b>In a Jupyter environment, please rerun this cell to show the HTML representation or trust the notebook. <br />On GitHub, the HTML representation is unable to render, please try loading this page with nbviewer.org.</b></div><div class=\"sk-container\" hidden><div class=\"sk-item sk-dashed-wrapped\"><div class=\"sk-label-container\"><div class=\"sk-label sk-toggleable\"><input class=\"sk-toggleable__control sk-hidden--visually\" id=\"sk-estimator-id-22\" type=\"checkbox\" ><label for=\"sk-estimator-id-22\" class=\"sk-toggleable__label sk-toggleable__label-arrow\">RandomizedSearchCV</label><div class=\"sk-toggleable__content\"><pre>RandomizedSearchCV(cv=5, estimator=DecisionTreeClassifier(random_state=10),\n",
       "                   param_distributions={&#x27;criterion&#x27;: [&#x27;gini&#x27;, &#x27;entropy&#x27;],\n",
       "                                        &#x27;max_depth&#x27;: array([5, 6, 7, 8, 9]),\n",
       "                                        &#x27;min_samples_leaf&#x27;: array([5, 6, 7, 8, 9]),\n",
       "                                        &#x27;min_samples_split&#x27;: array([ 5,  6,  7,  8,  9, 10, 11, 12, 13, 14])})</pre></div></div></div><div class=\"sk-parallel\"><div class=\"sk-parallel-item\"><div class=\"sk-item\"><div class=\"sk-label-container\"><div class=\"sk-label sk-toggleable\"><input class=\"sk-toggleable__control sk-hidden--visually\" id=\"sk-estimator-id-23\" type=\"checkbox\" ><label for=\"sk-estimator-id-23\" class=\"sk-toggleable__label sk-toggleable__label-arrow\">estimator: DecisionTreeClassifier</label><div class=\"sk-toggleable__content\"><pre>DecisionTreeClassifier(random_state=10)</pre></div></div></div><div class=\"sk-serial\"><div class=\"sk-item\"><div class=\"sk-estimator sk-toggleable\"><input class=\"sk-toggleable__control sk-hidden--visually\" id=\"sk-estimator-id-24\" type=\"checkbox\" ><label for=\"sk-estimator-id-24\" class=\"sk-toggleable__label sk-toggleable__label-arrow\">DecisionTreeClassifier</label><div class=\"sk-toggleable__content\"><pre>DecisionTreeClassifier(random_state=10)</pre></div></div></div></div></div></div></div></div></div></div>"
      ],
      "text/plain": [
       "RandomizedSearchCV(cv=5, estimator=DecisionTreeClassifier(random_state=10),\n",
       "                   param_distributions={'criterion': ['gini', 'entropy'],\n",
       "                                        'max_depth': array([5, 6, 7, 8, 9]),\n",
       "                                        'min_samples_leaf': array([5, 6, 7, 8, 9]),\n",
       "                                        'min_samples_split': array([ 5,  6,  7,  8,  9, 10, 11, 12, 13, 14])})"
      ]
     },
     "execution_count": 135,
     "metadata": {},
     "output_type": "execute_result"
    }
   ],
   "source": [
    "dt=DecisionTreeClassifier(random_state=10)\n",
    "hyp={'criterion':['gini','entropy'],'max_depth':np.arange(5,10),'min_samples_split':np.arange(5,15),\n",
    "    'min_samples_leaf':np.arange(5,10)}\n",
    "rscv=RandomizedSearchCV(dt,hyp,cv=5)\n",
    "rscv.fit(x_train,y_train)"
   ]
  },
  {
   "cell_type": "code",
   "execution_count": 136,
   "id": "76fd0bb5",
   "metadata": {},
   "outputs": [
    {
     "data": {
      "text/html": [
       "<style>#sk-container-id-17 {color: black;background-color: white;}#sk-container-id-17 pre{padding: 0;}#sk-container-id-17 div.sk-toggleable {background-color: white;}#sk-container-id-17 label.sk-toggleable__label {cursor: pointer;display: block;width: 100%;margin-bottom: 0;padding: 0.3em;box-sizing: border-box;text-align: center;}#sk-container-id-17 label.sk-toggleable__label-arrow:before {content: \"▸\";float: left;margin-right: 0.25em;color: #696969;}#sk-container-id-17 label.sk-toggleable__label-arrow:hover:before {color: black;}#sk-container-id-17 div.sk-estimator:hover label.sk-toggleable__label-arrow:before {color: black;}#sk-container-id-17 div.sk-toggleable__content {max-height: 0;max-width: 0;overflow: hidden;text-align: left;background-color: #f0f8ff;}#sk-container-id-17 div.sk-toggleable__content pre {margin: 0.2em;color: black;border-radius: 0.25em;background-color: #f0f8ff;}#sk-container-id-17 input.sk-toggleable__control:checked~div.sk-toggleable__content {max-height: 200px;max-width: 100%;overflow: auto;}#sk-container-id-17 input.sk-toggleable__control:checked~label.sk-toggleable__label-arrow:before {content: \"▾\";}#sk-container-id-17 div.sk-estimator input.sk-toggleable__control:checked~label.sk-toggleable__label {background-color: #d4ebff;}#sk-container-id-17 div.sk-label input.sk-toggleable__control:checked~label.sk-toggleable__label {background-color: #d4ebff;}#sk-container-id-17 input.sk-hidden--visually {border: 0;clip: rect(1px 1px 1px 1px);clip: rect(1px, 1px, 1px, 1px);height: 1px;margin: -1px;overflow: hidden;padding: 0;position: absolute;width: 1px;}#sk-container-id-17 div.sk-estimator {font-family: monospace;background-color: #f0f8ff;border: 1px dotted black;border-radius: 0.25em;box-sizing: border-box;margin-bottom: 0.5em;}#sk-container-id-17 div.sk-estimator:hover {background-color: #d4ebff;}#sk-container-id-17 div.sk-parallel-item::after {content: \"\";width: 100%;border-bottom: 1px solid gray;flex-grow: 1;}#sk-container-id-17 div.sk-label:hover label.sk-toggleable__label {background-color: #d4ebff;}#sk-container-id-17 div.sk-serial::before {content: \"\";position: absolute;border-left: 1px solid gray;box-sizing: border-box;top: 0;bottom: 0;left: 50%;z-index: 0;}#sk-container-id-17 div.sk-serial {display: flex;flex-direction: column;align-items: center;background-color: white;padding-right: 0.2em;padding-left: 0.2em;position: relative;}#sk-container-id-17 div.sk-item {position: relative;z-index: 1;}#sk-container-id-17 div.sk-parallel {display: flex;align-items: stretch;justify-content: center;background-color: white;position: relative;}#sk-container-id-17 div.sk-item::before, #sk-container-id-17 div.sk-parallel-item::before {content: \"\";position: absolute;border-left: 1px solid gray;box-sizing: border-box;top: 0;bottom: 0;left: 50%;z-index: -1;}#sk-container-id-17 div.sk-parallel-item {display: flex;flex-direction: column;z-index: 1;position: relative;background-color: white;}#sk-container-id-17 div.sk-parallel-item:first-child::after {align-self: flex-end;width: 50%;}#sk-container-id-17 div.sk-parallel-item:last-child::after {align-self: flex-start;width: 50%;}#sk-container-id-17 div.sk-parallel-item:only-child::after {width: 0;}#sk-container-id-17 div.sk-dashed-wrapped {border: 1px dashed gray;margin: 0 0.4em 0.5em 0.4em;box-sizing: border-box;padding-bottom: 0.4em;background-color: white;}#sk-container-id-17 div.sk-label label {font-family: monospace;font-weight: bold;display: inline-block;line-height: 1.2em;}#sk-container-id-17 div.sk-label-container {text-align: center;}#sk-container-id-17 div.sk-container {/* jupyter's `normalize.less` sets `[hidden] { display: none; }` but bootstrap.min.css set `[hidden] { display: none !important; }` so we also need the `!important` here to be able to override the default hidden behavior on the sphinx rendered scikit-learn.org. See: https://github.com/scikit-learn/scikit-learn/issues/21755 */display: inline-block !important;position: relative;}#sk-container-id-17 div.sk-text-repr-fallback {display: none;}</style><div id=\"sk-container-id-17\" class=\"sk-top-container\"><div class=\"sk-text-repr-fallback\"><pre>DecisionTreeClassifier(criterion=&#x27;entropy&#x27;, max_depth=9, min_samples_leaf=5,\n",
       "                       min_samples_split=13, random_state=10)</pre><b>In a Jupyter environment, please rerun this cell to show the HTML representation or trust the notebook. <br />On GitHub, the HTML representation is unable to render, please try loading this page with nbviewer.org.</b></div><div class=\"sk-container\" hidden><div class=\"sk-item\"><div class=\"sk-estimator sk-toggleable\"><input class=\"sk-toggleable__control sk-hidden--visually\" id=\"sk-estimator-id-25\" type=\"checkbox\" checked><label for=\"sk-estimator-id-25\" class=\"sk-toggleable__label sk-toggleable__label-arrow\">DecisionTreeClassifier</label><div class=\"sk-toggleable__content\"><pre>DecisionTreeClassifier(criterion=&#x27;entropy&#x27;, max_depth=9, min_samples_leaf=5,\n",
       "                       min_samples_split=13, random_state=10)</pre></div></div></div></div></div>"
      ],
      "text/plain": [
       "DecisionTreeClassifier(criterion='entropy', max_depth=9, min_samples_leaf=5,\n",
       "                       min_samples_split=13, random_state=10)"
      ]
     },
     "execution_count": 136,
     "metadata": {},
     "output_type": "execute_result"
    }
   ],
   "source": [
    "rscv.best_estimator_"
   ]
  },
  {
   "cell_type": "code",
   "execution_count": 137,
   "id": "894bb405",
   "metadata": {},
   "outputs": [
    {
     "data": {
      "text/html": [
       "<style>#sk-container-id-18 {color: black;background-color: white;}#sk-container-id-18 pre{padding: 0;}#sk-container-id-18 div.sk-toggleable {background-color: white;}#sk-container-id-18 label.sk-toggleable__label {cursor: pointer;display: block;width: 100%;margin-bottom: 0;padding: 0.3em;box-sizing: border-box;text-align: center;}#sk-container-id-18 label.sk-toggleable__label-arrow:before {content: \"▸\";float: left;margin-right: 0.25em;color: #696969;}#sk-container-id-18 label.sk-toggleable__label-arrow:hover:before {color: black;}#sk-container-id-18 div.sk-estimator:hover label.sk-toggleable__label-arrow:before {color: black;}#sk-container-id-18 div.sk-toggleable__content {max-height: 0;max-width: 0;overflow: hidden;text-align: left;background-color: #f0f8ff;}#sk-container-id-18 div.sk-toggleable__content pre {margin: 0.2em;color: black;border-radius: 0.25em;background-color: #f0f8ff;}#sk-container-id-18 input.sk-toggleable__control:checked~div.sk-toggleable__content {max-height: 200px;max-width: 100%;overflow: auto;}#sk-container-id-18 input.sk-toggleable__control:checked~label.sk-toggleable__label-arrow:before {content: \"▾\";}#sk-container-id-18 div.sk-estimator input.sk-toggleable__control:checked~label.sk-toggleable__label {background-color: #d4ebff;}#sk-container-id-18 div.sk-label input.sk-toggleable__control:checked~label.sk-toggleable__label {background-color: #d4ebff;}#sk-container-id-18 input.sk-hidden--visually {border: 0;clip: rect(1px 1px 1px 1px);clip: rect(1px, 1px, 1px, 1px);height: 1px;margin: -1px;overflow: hidden;padding: 0;position: absolute;width: 1px;}#sk-container-id-18 div.sk-estimator {font-family: monospace;background-color: #f0f8ff;border: 1px dotted black;border-radius: 0.25em;box-sizing: border-box;margin-bottom: 0.5em;}#sk-container-id-18 div.sk-estimator:hover {background-color: #d4ebff;}#sk-container-id-18 div.sk-parallel-item::after {content: \"\";width: 100%;border-bottom: 1px solid gray;flex-grow: 1;}#sk-container-id-18 div.sk-label:hover label.sk-toggleable__label {background-color: #d4ebff;}#sk-container-id-18 div.sk-serial::before {content: \"\";position: absolute;border-left: 1px solid gray;box-sizing: border-box;top: 0;bottom: 0;left: 50%;z-index: 0;}#sk-container-id-18 div.sk-serial {display: flex;flex-direction: column;align-items: center;background-color: white;padding-right: 0.2em;padding-left: 0.2em;position: relative;}#sk-container-id-18 div.sk-item {position: relative;z-index: 1;}#sk-container-id-18 div.sk-parallel {display: flex;align-items: stretch;justify-content: center;background-color: white;position: relative;}#sk-container-id-18 div.sk-item::before, #sk-container-id-18 div.sk-parallel-item::before {content: \"\";position: absolute;border-left: 1px solid gray;box-sizing: border-box;top: 0;bottom: 0;left: 50%;z-index: -1;}#sk-container-id-18 div.sk-parallel-item {display: flex;flex-direction: column;z-index: 1;position: relative;background-color: white;}#sk-container-id-18 div.sk-parallel-item:first-child::after {align-self: flex-end;width: 50%;}#sk-container-id-18 div.sk-parallel-item:last-child::after {align-self: flex-start;width: 50%;}#sk-container-id-18 div.sk-parallel-item:only-child::after {width: 0;}#sk-container-id-18 div.sk-dashed-wrapped {border: 1px dashed gray;margin: 0 0.4em 0.5em 0.4em;box-sizing: border-box;padding-bottom: 0.4em;background-color: white;}#sk-container-id-18 div.sk-label label {font-family: monospace;font-weight: bold;display: inline-block;line-height: 1.2em;}#sk-container-id-18 div.sk-label-container {text-align: center;}#sk-container-id-18 div.sk-container {/* jupyter's `normalize.less` sets `[hidden] { display: none; }` but bootstrap.min.css set `[hidden] { display: none !important; }` so we also need the `!important` here to be able to override the default hidden behavior on the sphinx rendered scikit-learn.org. See: https://github.com/scikit-learn/scikit-learn/issues/21755 */display: inline-block !important;position: relative;}#sk-container-id-18 div.sk-text-repr-fallback {display: none;}</style><div id=\"sk-container-id-18\" class=\"sk-top-container\"><div class=\"sk-text-repr-fallback\"><pre>DecisionTreeClassifier(criterion=&#x27;entropy&#x27;, max_depth=9, min_samples_leaf=5,\n",
       "                       min_samples_split=13, random_state=10)</pre><b>In a Jupyter environment, please rerun this cell to show the HTML representation or trust the notebook. <br />On GitHub, the HTML representation is unable to render, please try loading this page with nbviewer.org.</b></div><div class=\"sk-container\" hidden><div class=\"sk-item\"><div class=\"sk-estimator sk-toggleable\"><input class=\"sk-toggleable__control sk-hidden--visually\" id=\"sk-estimator-id-26\" type=\"checkbox\" checked><label for=\"sk-estimator-id-26\" class=\"sk-toggleable__label sk-toggleable__label-arrow\">DecisionTreeClassifier</label><div class=\"sk-toggleable__content\"><pre>DecisionTreeClassifier(criterion=&#x27;entropy&#x27;, max_depth=9, min_samples_leaf=5,\n",
       "                       min_samples_split=13, random_state=10)</pre></div></div></div></div></div>"
      ],
      "text/plain": [
       "DecisionTreeClassifier(criterion='entropy', max_depth=9, min_samples_leaf=5,\n",
       "                       min_samples_split=13, random_state=10)"
      ]
     },
     "execution_count": 137,
     "metadata": {},
     "output_type": "execute_result"
    }
   ],
   "source": [
    "dt_hyp_model=rscv.best_estimator_\n",
    "dt_hyp_model.fit(x_train,y_train)"
   ]
  },
  {
   "cell_type": "code",
   "execution_count": 138,
   "id": "1190ce51",
   "metadata": {},
   "outputs": [
    {
     "name": "stdout",
     "output_type": "stream",
     "text": [
      "Accurancy score=0.8647887323943662\n",
      "**************************************************\n",
      "Confusion matrix=\n",
      "[[1133  287]\n",
      " [  97 1323]]\n",
      "**************************************************\n",
      "Classification Report=              precision    recall  f1-score   support\n",
      "\n",
      "           0       0.92      0.80      0.86      1420\n",
      "           1       0.82      0.93      0.87      1420\n",
      "\n",
      "    accuracy                           0.86      2840\n",
      "   macro avg       0.87      0.86      0.86      2840\n",
      "weighted avg       0.87      0.86      0.86      2840\n",
      "\n"
     ]
    }
   ],
   "source": [
    "#Model Evalution\n",
    "#testing data evalution\n",
    "y_test_predict=dt_hyp_model.predict(x_test)\n",
    "mod_eval(y_test,y_test_predict)"
   ]
  },
  {
   "cell_type": "code",
   "execution_count": 139,
   "id": "4cda00ca",
   "metadata": {},
   "outputs": [
    {
     "name": "stdout",
     "output_type": "stream",
     "text": [
      "Accurancy score=0.897826743133112\n",
      "**************************************************\n",
      "Confusion matrix=\n",
      "[[2778  535]\n",
      " [ 142 3171]]\n",
      "**************************************************\n",
      "Classification Report=              precision    recall  f1-score   support\n",
      "\n",
      "           0       0.95      0.84      0.89      3313\n",
      "           1       0.86      0.96      0.90      3313\n",
      "\n",
      "    accuracy                           0.90      6626\n",
      "   macro avg       0.90      0.90      0.90      6626\n",
      "weighted avg       0.90      0.90      0.90      6626\n",
      "\n"
     ]
    }
   ],
   "source": [
    "#training data evalution\n",
    "y_train_predict=dt_hyp_model.predict(x_train)\n",
    "mod_eval(y_train,y_train_predict)"
   ]
  },
  {
   "cell_type": "code",
   "execution_count": null,
   "id": "168ca2a9",
   "metadata": {},
   "outputs": [],
   "source": [
    "# trainig-89% & testing-86% >>>>low bias & low variance"
   ]
  },
  {
   "cell_type": "markdown",
   "id": "63fb0a33",
   "metadata": {},
   "source": [
    "### By using Random Forest:-"
   ]
  },
  {
   "cell_type": "code",
   "execution_count": 140,
   "id": "7d3c0bf8",
   "metadata": {},
   "outputs": [
    {
     "data": {
      "text/html": [
       "<style>#sk-container-id-19 {color: black;background-color: white;}#sk-container-id-19 pre{padding: 0;}#sk-container-id-19 div.sk-toggleable {background-color: white;}#sk-container-id-19 label.sk-toggleable__label {cursor: pointer;display: block;width: 100%;margin-bottom: 0;padding: 0.3em;box-sizing: border-box;text-align: center;}#sk-container-id-19 label.sk-toggleable__label-arrow:before {content: \"▸\";float: left;margin-right: 0.25em;color: #696969;}#sk-container-id-19 label.sk-toggleable__label-arrow:hover:before {color: black;}#sk-container-id-19 div.sk-estimator:hover label.sk-toggleable__label-arrow:before {color: black;}#sk-container-id-19 div.sk-toggleable__content {max-height: 0;max-width: 0;overflow: hidden;text-align: left;background-color: #f0f8ff;}#sk-container-id-19 div.sk-toggleable__content pre {margin: 0.2em;color: black;border-radius: 0.25em;background-color: #f0f8ff;}#sk-container-id-19 input.sk-toggleable__control:checked~div.sk-toggleable__content {max-height: 200px;max-width: 100%;overflow: auto;}#sk-container-id-19 input.sk-toggleable__control:checked~label.sk-toggleable__label-arrow:before {content: \"▾\";}#sk-container-id-19 div.sk-estimator input.sk-toggleable__control:checked~label.sk-toggleable__label {background-color: #d4ebff;}#sk-container-id-19 div.sk-label input.sk-toggleable__control:checked~label.sk-toggleable__label {background-color: #d4ebff;}#sk-container-id-19 input.sk-hidden--visually {border: 0;clip: rect(1px 1px 1px 1px);clip: rect(1px, 1px, 1px, 1px);height: 1px;margin: -1px;overflow: hidden;padding: 0;position: absolute;width: 1px;}#sk-container-id-19 div.sk-estimator {font-family: monospace;background-color: #f0f8ff;border: 1px dotted black;border-radius: 0.25em;box-sizing: border-box;margin-bottom: 0.5em;}#sk-container-id-19 div.sk-estimator:hover {background-color: #d4ebff;}#sk-container-id-19 div.sk-parallel-item::after {content: \"\";width: 100%;border-bottom: 1px solid gray;flex-grow: 1;}#sk-container-id-19 div.sk-label:hover label.sk-toggleable__label {background-color: #d4ebff;}#sk-container-id-19 div.sk-serial::before {content: \"\";position: absolute;border-left: 1px solid gray;box-sizing: border-box;top: 0;bottom: 0;left: 50%;z-index: 0;}#sk-container-id-19 div.sk-serial {display: flex;flex-direction: column;align-items: center;background-color: white;padding-right: 0.2em;padding-left: 0.2em;position: relative;}#sk-container-id-19 div.sk-item {position: relative;z-index: 1;}#sk-container-id-19 div.sk-parallel {display: flex;align-items: stretch;justify-content: center;background-color: white;position: relative;}#sk-container-id-19 div.sk-item::before, #sk-container-id-19 div.sk-parallel-item::before {content: \"\";position: absolute;border-left: 1px solid gray;box-sizing: border-box;top: 0;bottom: 0;left: 50%;z-index: -1;}#sk-container-id-19 div.sk-parallel-item {display: flex;flex-direction: column;z-index: 1;position: relative;background-color: white;}#sk-container-id-19 div.sk-parallel-item:first-child::after {align-self: flex-end;width: 50%;}#sk-container-id-19 div.sk-parallel-item:last-child::after {align-self: flex-start;width: 50%;}#sk-container-id-19 div.sk-parallel-item:only-child::after {width: 0;}#sk-container-id-19 div.sk-dashed-wrapped {border: 1px dashed gray;margin: 0 0.4em 0.5em 0.4em;box-sizing: border-box;padding-bottom: 0.4em;background-color: white;}#sk-container-id-19 div.sk-label label {font-family: monospace;font-weight: bold;display: inline-block;line-height: 1.2em;}#sk-container-id-19 div.sk-label-container {text-align: center;}#sk-container-id-19 div.sk-container {/* jupyter's `normalize.less` sets `[hidden] { display: none; }` but bootstrap.min.css set `[hidden] { display: none !important; }` so we also need the `!important` here to be able to override the default hidden behavior on the sphinx rendered scikit-learn.org. See: https://github.com/scikit-learn/scikit-learn/issues/21755 */display: inline-block !important;position: relative;}#sk-container-id-19 div.sk-text-repr-fallback {display: none;}</style><div id=\"sk-container-id-19\" class=\"sk-top-container\"><div class=\"sk-text-repr-fallback\"><pre>RandomForestClassifier(random_state=3)</pre><b>In a Jupyter environment, please rerun this cell to show the HTML representation or trust the notebook. <br />On GitHub, the HTML representation is unable to render, please try loading this page with nbviewer.org.</b></div><div class=\"sk-container\" hidden><div class=\"sk-item\"><div class=\"sk-estimator sk-toggleable\"><input class=\"sk-toggleable__control sk-hidden--visually\" id=\"sk-estimator-id-27\" type=\"checkbox\" checked><label for=\"sk-estimator-id-27\" class=\"sk-toggleable__label sk-toggleable__label-arrow\">RandomForestClassifier</label><div class=\"sk-toggleable__content\"><pre>RandomForestClassifier(random_state=3)</pre></div></div></div></div></div>"
      ],
      "text/plain": [
       "RandomForestClassifier(random_state=3)"
      ]
     },
     "execution_count": 140,
     "metadata": {},
     "output_type": "execute_result"
    }
   ],
   "source": [
    "rf_model=RandomForestClassifier(random_state=3)\n",
    "rf_model.fit(x_train,y_train)\n"
   ]
  },
  {
   "cell_type": "code",
   "execution_count": 141,
   "id": "5ba63b2e",
   "metadata": {},
   "outputs": [
    {
     "name": "stdout",
     "output_type": "stream",
     "text": [
      "Accurancy score=0.9552816901408451\n",
      "**************************************************\n",
      "Confusion matrix=\n",
      "[[1358   62]\n",
      " [  65 1355]]\n",
      "**************************************************\n",
      "Classification Report=              precision    recall  f1-score   support\n",
      "\n",
      "           0       0.95      0.96      0.96      1420\n",
      "           1       0.96      0.95      0.96      1420\n",
      "\n",
      "    accuracy                           0.96      2840\n",
      "   macro avg       0.96      0.96      0.96      2840\n",
      "weighted avg       0.96      0.96      0.96      2840\n",
      "\n"
     ]
    }
   ],
   "source": [
    "#Model Evalution\n",
    "#testing data evalution\n",
    "y_test_predict=rf_model.predict(x_test)\n",
    "mod_eval(y_test,y_test_predict)"
   ]
  },
  {
   "cell_type": "code",
   "execution_count": 142,
   "id": "1ab4c127",
   "metadata": {},
   "outputs": [
    {
     "name": "stdout",
     "output_type": "stream",
     "text": [
      "Accurancy score=1.0\n",
      "**************************************************\n",
      "Confusion matrix=\n",
      "[[3313    0]\n",
      " [   0 3313]]\n",
      "**************************************************\n",
      "Classification Report=              precision    recall  f1-score   support\n",
      "\n",
      "           0       1.00      1.00      1.00      3313\n",
      "           1       1.00      1.00      1.00      3313\n",
      "\n",
      "    accuracy                           1.00      6626\n",
      "   macro avg       1.00      1.00      1.00      6626\n",
      "weighted avg       1.00      1.00      1.00      6626\n",
      "\n"
     ]
    }
   ],
   "source": [
    "#training data evalution\n",
    "y_train_predict=rf_model.predict(x_train)\n",
    "mod_eval(y_train,y_train_predict)"
   ]
  },
  {
   "cell_type": "code",
   "execution_count": null,
   "id": "8599b831",
   "metadata": {},
   "outputs": [],
   "source": [
    "#traning-100% & testing-95%\n",
    "#    n_estimators=100,\n",
    "#     *,\n",
    "#     criterion='gini',\n",
    "#     max_depth=None,\n",
    "#     min_samples_split=2,\n",
    "#     min_samples_leaf=1,\n",
    "#     min_weight_fraction_leaf=0.0,\n",
    "#     max_features='sqrt',\n",
    "#     max_leaf_nodes=None,\n",
    "#     min_impurity_decrease=0.0,\n",
    "#     bootstrap=True,\n",
    "#     oob_score=False,\n",
    "#     n_jobs=None,\n",
    "#     random_state=None,\n",
    "#     verbose=0,\n",
    "#     warm_start=False,\n",
    "#     class_weight=None,\n",
    "#     ccp_alpha=0.0,\n",
    "#     max_samples=None,\n",
    "# )"
   ]
  },
  {
   "cell_type": "markdown",
   "id": "aa0a3ba9",
   "metadata": {},
   "source": [
    "### hypertune of random forest"
   ]
  },
  {
   "cell_type": "code",
   "execution_count": 143,
   "id": "0aa3ad53",
   "metadata": {},
   "outputs": [
    {
     "data": {
      "text/html": [
       "<style>#sk-container-id-20 {color: black;background-color: white;}#sk-container-id-20 pre{padding: 0;}#sk-container-id-20 div.sk-toggleable {background-color: white;}#sk-container-id-20 label.sk-toggleable__label {cursor: pointer;display: block;width: 100%;margin-bottom: 0;padding: 0.3em;box-sizing: border-box;text-align: center;}#sk-container-id-20 label.sk-toggleable__label-arrow:before {content: \"▸\";float: left;margin-right: 0.25em;color: #696969;}#sk-container-id-20 label.sk-toggleable__label-arrow:hover:before {color: black;}#sk-container-id-20 div.sk-estimator:hover label.sk-toggleable__label-arrow:before {color: black;}#sk-container-id-20 div.sk-toggleable__content {max-height: 0;max-width: 0;overflow: hidden;text-align: left;background-color: #f0f8ff;}#sk-container-id-20 div.sk-toggleable__content pre {margin: 0.2em;color: black;border-radius: 0.25em;background-color: #f0f8ff;}#sk-container-id-20 input.sk-toggleable__control:checked~div.sk-toggleable__content {max-height: 200px;max-width: 100%;overflow: auto;}#sk-container-id-20 input.sk-toggleable__control:checked~label.sk-toggleable__label-arrow:before {content: \"▾\";}#sk-container-id-20 div.sk-estimator input.sk-toggleable__control:checked~label.sk-toggleable__label {background-color: #d4ebff;}#sk-container-id-20 div.sk-label input.sk-toggleable__control:checked~label.sk-toggleable__label {background-color: #d4ebff;}#sk-container-id-20 input.sk-hidden--visually {border: 0;clip: rect(1px 1px 1px 1px);clip: rect(1px, 1px, 1px, 1px);height: 1px;margin: -1px;overflow: hidden;padding: 0;position: absolute;width: 1px;}#sk-container-id-20 div.sk-estimator {font-family: monospace;background-color: #f0f8ff;border: 1px dotted black;border-radius: 0.25em;box-sizing: border-box;margin-bottom: 0.5em;}#sk-container-id-20 div.sk-estimator:hover {background-color: #d4ebff;}#sk-container-id-20 div.sk-parallel-item::after {content: \"\";width: 100%;border-bottom: 1px solid gray;flex-grow: 1;}#sk-container-id-20 div.sk-label:hover label.sk-toggleable__label {background-color: #d4ebff;}#sk-container-id-20 div.sk-serial::before {content: \"\";position: absolute;border-left: 1px solid gray;box-sizing: border-box;top: 0;bottom: 0;left: 50%;z-index: 0;}#sk-container-id-20 div.sk-serial {display: flex;flex-direction: column;align-items: center;background-color: white;padding-right: 0.2em;padding-left: 0.2em;position: relative;}#sk-container-id-20 div.sk-item {position: relative;z-index: 1;}#sk-container-id-20 div.sk-parallel {display: flex;align-items: stretch;justify-content: center;background-color: white;position: relative;}#sk-container-id-20 div.sk-item::before, #sk-container-id-20 div.sk-parallel-item::before {content: \"\";position: absolute;border-left: 1px solid gray;box-sizing: border-box;top: 0;bottom: 0;left: 50%;z-index: -1;}#sk-container-id-20 div.sk-parallel-item {display: flex;flex-direction: column;z-index: 1;position: relative;background-color: white;}#sk-container-id-20 div.sk-parallel-item:first-child::after {align-self: flex-end;width: 50%;}#sk-container-id-20 div.sk-parallel-item:last-child::after {align-self: flex-start;width: 50%;}#sk-container-id-20 div.sk-parallel-item:only-child::after {width: 0;}#sk-container-id-20 div.sk-dashed-wrapped {border: 1px dashed gray;margin: 0 0.4em 0.5em 0.4em;box-sizing: border-box;padding-bottom: 0.4em;background-color: white;}#sk-container-id-20 div.sk-label label {font-family: monospace;font-weight: bold;display: inline-block;line-height: 1.2em;}#sk-container-id-20 div.sk-label-container {text-align: center;}#sk-container-id-20 div.sk-container {/* jupyter's `normalize.less` sets `[hidden] { display: none; }` but bootstrap.min.css set `[hidden] { display: none !important; }` so we also need the `!important` here to be able to override the default hidden behavior on the sphinx rendered scikit-learn.org. See: https://github.com/scikit-learn/scikit-learn/issues/21755 */display: inline-block !important;position: relative;}#sk-container-id-20 div.sk-text-repr-fallback {display: none;}</style><div id=\"sk-container-id-20\" class=\"sk-top-container\"><div class=\"sk-text-repr-fallback\"><pre>RandomizedSearchCV(cv=5, estimator=RandomForestClassifier(random_state=10),\n",
       "                   param_distributions={&#x27;bootstrap&#x27;: [&#x27;True&#x27;, &#x27;False&#x27;],\n",
       "                                        &#x27;criterion&#x27;: [&#x27;gini&#x27;, &#x27;entropy&#x27;],\n",
       "                                        &#x27;max_depth&#x27;: array([ 5,  6,  7,  8,  9, 10, 11, 12, 13, 14, 15, 16, 17, 18, 19]),\n",
       "                                        &#x27;min_samples_leaf&#x27;: array([ 7,  8,  9, 10, 11, 12, 13, 14, 15, 16, 17, 18, 19]),\n",
       "                                        &#x27;min_samples_split&#x27;: array([ 3,  4,  5,  6,  7,  8,  9, 10, 11, 12, 13, 14]),\n",
       "                                        &#x27;n_estimators&#x27;: array([ 50,  60,  70,  80,  90, 100, 110, 120, 130, 140, 150, 160, 170,\n",
       "       180, 190, 200, 210, 220, 230, 240, 250, 260, 270, 280, 290, 300,\n",
       "       310, 320, 330, 340, 350, 360, 370, 380, 390, 400, 410, 420, 430,\n",
       "       440, 450, 460, 470, 480, 490]),\n",
       "                                        &#x27;oob_score&#x27;: [&#x27;True&#x27;, &#x27;False&#x27;]})</pre><b>In a Jupyter environment, please rerun this cell to show the HTML representation or trust the notebook. <br />On GitHub, the HTML representation is unable to render, please try loading this page with nbviewer.org.</b></div><div class=\"sk-container\" hidden><div class=\"sk-item sk-dashed-wrapped\"><div class=\"sk-label-container\"><div class=\"sk-label sk-toggleable\"><input class=\"sk-toggleable__control sk-hidden--visually\" id=\"sk-estimator-id-28\" type=\"checkbox\" ><label for=\"sk-estimator-id-28\" class=\"sk-toggleable__label sk-toggleable__label-arrow\">RandomizedSearchCV</label><div class=\"sk-toggleable__content\"><pre>RandomizedSearchCV(cv=5, estimator=RandomForestClassifier(random_state=10),\n",
       "                   param_distributions={&#x27;bootstrap&#x27;: [&#x27;True&#x27;, &#x27;False&#x27;],\n",
       "                                        &#x27;criterion&#x27;: [&#x27;gini&#x27;, &#x27;entropy&#x27;],\n",
       "                                        &#x27;max_depth&#x27;: array([ 5,  6,  7,  8,  9, 10, 11, 12, 13, 14, 15, 16, 17, 18, 19]),\n",
       "                                        &#x27;min_samples_leaf&#x27;: array([ 7,  8,  9, 10, 11, 12, 13, 14, 15, 16, 17, 18, 19]),\n",
       "                                        &#x27;min_samples_split&#x27;: array([ 3,  4,  5,  6,  7,  8,  9, 10, 11, 12, 13, 14]),\n",
       "                                        &#x27;n_estimators&#x27;: array([ 50,  60,  70,  80,  90, 100, 110, 120, 130, 140, 150, 160, 170,\n",
       "       180, 190, 200, 210, 220, 230, 240, 250, 260, 270, 280, 290, 300,\n",
       "       310, 320, 330, 340, 350, 360, 370, 380, 390, 400, 410, 420, 430,\n",
       "       440, 450, 460, 470, 480, 490]),\n",
       "                                        &#x27;oob_score&#x27;: [&#x27;True&#x27;, &#x27;False&#x27;]})</pre></div></div></div><div class=\"sk-parallel\"><div class=\"sk-parallel-item\"><div class=\"sk-item\"><div class=\"sk-label-container\"><div class=\"sk-label sk-toggleable\"><input class=\"sk-toggleable__control sk-hidden--visually\" id=\"sk-estimator-id-29\" type=\"checkbox\" ><label for=\"sk-estimator-id-29\" class=\"sk-toggleable__label sk-toggleable__label-arrow\">estimator: RandomForestClassifier</label><div class=\"sk-toggleable__content\"><pre>RandomForestClassifier(random_state=10)</pre></div></div></div><div class=\"sk-serial\"><div class=\"sk-item\"><div class=\"sk-estimator sk-toggleable\"><input class=\"sk-toggleable__control sk-hidden--visually\" id=\"sk-estimator-id-30\" type=\"checkbox\" ><label for=\"sk-estimator-id-30\" class=\"sk-toggleable__label sk-toggleable__label-arrow\">RandomForestClassifier</label><div class=\"sk-toggleable__content\"><pre>RandomForestClassifier(random_state=10)</pre></div></div></div></div></div></div></div></div></div></div>"
      ],
      "text/plain": [
       "RandomizedSearchCV(cv=5, estimator=RandomForestClassifier(random_state=10),\n",
       "                   param_distributions={'bootstrap': ['True', 'False'],\n",
       "                                        'criterion': ['gini', 'entropy'],\n",
       "                                        'max_depth': array([ 5,  6,  7,  8,  9, 10, 11, 12, 13, 14, 15, 16, 17, 18, 19]),\n",
       "                                        'min_samples_leaf': array([ 7,  8,  9, 10, 11, 12, 13, 14, 15, 16, 17, 18, 19]),\n",
       "                                        'min_samples_split': array([ 3,  4,  5,  6,  7,  8,  9, 10, 11, 12, 13, 14]),\n",
       "                                        'n_estimators': array([ 50,  60,  70,  80,  90, 100, 110, 120, 130, 140, 150, 160, 170,\n",
       "       180, 190, 200, 210, 220, 230, 240, 250, 260, 270, 280, 290, 300,\n",
       "       310, 320, 330, 340, 350, 360, 370, 380, 390, 400, 410, 420, 430,\n",
       "       440, 450, 460, 470, 480, 490]),\n",
       "                                        'oob_score': ['True', 'False']})"
      ]
     },
     "execution_count": 143,
     "metadata": {},
     "output_type": "execute_result"
    }
   ],
   "source": [
    "rf=RandomForestClassifier(random_state=10)\n",
    "hyp={'n_estimators':np.arange(50,500,10),'criterion':['gini','entropy'],'max_depth':np.arange(5,20),\n",
    "    'min_samples_split':np.arange(3,15),'min_samples_leaf':np.arange(7,20),\n",
    "    'bootstrap':['True',\"False\"],'oob_score':['True','False']}\n",
    "rscv=RandomizedSearchCV(rf,hyp,cv=5)\n",
    "rscv.fit(x_train,y_train)"
   ]
  },
  {
   "cell_type": "code",
   "execution_count": 144,
   "id": "e62c870f",
   "metadata": {},
   "outputs": [
    {
     "data": {
      "text/html": [
       "<style>#sk-container-id-21 {color: black;background-color: white;}#sk-container-id-21 pre{padding: 0;}#sk-container-id-21 div.sk-toggleable {background-color: white;}#sk-container-id-21 label.sk-toggleable__label {cursor: pointer;display: block;width: 100%;margin-bottom: 0;padding: 0.3em;box-sizing: border-box;text-align: center;}#sk-container-id-21 label.sk-toggleable__label-arrow:before {content: \"▸\";float: left;margin-right: 0.25em;color: #696969;}#sk-container-id-21 label.sk-toggleable__label-arrow:hover:before {color: black;}#sk-container-id-21 div.sk-estimator:hover label.sk-toggleable__label-arrow:before {color: black;}#sk-container-id-21 div.sk-toggleable__content {max-height: 0;max-width: 0;overflow: hidden;text-align: left;background-color: #f0f8ff;}#sk-container-id-21 div.sk-toggleable__content pre {margin: 0.2em;color: black;border-radius: 0.25em;background-color: #f0f8ff;}#sk-container-id-21 input.sk-toggleable__control:checked~div.sk-toggleable__content {max-height: 200px;max-width: 100%;overflow: auto;}#sk-container-id-21 input.sk-toggleable__control:checked~label.sk-toggleable__label-arrow:before {content: \"▾\";}#sk-container-id-21 div.sk-estimator input.sk-toggleable__control:checked~label.sk-toggleable__label {background-color: #d4ebff;}#sk-container-id-21 div.sk-label input.sk-toggleable__control:checked~label.sk-toggleable__label {background-color: #d4ebff;}#sk-container-id-21 input.sk-hidden--visually {border: 0;clip: rect(1px 1px 1px 1px);clip: rect(1px, 1px, 1px, 1px);height: 1px;margin: -1px;overflow: hidden;padding: 0;position: absolute;width: 1px;}#sk-container-id-21 div.sk-estimator {font-family: monospace;background-color: #f0f8ff;border: 1px dotted black;border-radius: 0.25em;box-sizing: border-box;margin-bottom: 0.5em;}#sk-container-id-21 div.sk-estimator:hover {background-color: #d4ebff;}#sk-container-id-21 div.sk-parallel-item::after {content: \"\";width: 100%;border-bottom: 1px solid gray;flex-grow: 1;}#sk-container-id-21 div.sk-label:hover label.sk-toggleable__label {background-color: #d4ebff;}#sk-container-id-21 div.sk-serial::before {content: \"\";position: absolute;border-left: 1px solid gray;box-sizing: border-box;top: 0;bottom: 0;left: 50%;z-index: 0;}#sk-container-id-21 div.sk-serial {display: flex;flex-direction: column;align-items: center;background-color: white;padding-right: 0.2em;padding-left: 0.2em;position: relative;}#sk-container-id-21 div.sk-item {position: relative;z-index: 1;}#sk-container-id-21 div.sk-parallel {display: flex;align-items: stretch;justify-content: center;background-color: white;position: relative;}#sk-container-id-21 div.sk-item::before, #sk-container-id-21 div.sk-parallel-item::before {content: \"\";position: absolute;border-left: 1px solid gray;box-sizing: border-box;top: 0;bottom: 0;left: 50%;z-index: -1;}#sk-container-id-21 div.sk-parallel-item {display: flex;flex-direction: column;z-index: 1;position: relative;background-color: white;}#sk-container-id-21 div.sk-parallel-item:first-child::after {align-self: flex-end;width: 50%;}#sk-container-id-21 div.sk-parallel-item:last-child::after {align-self: flex-start;width: 50%;}#sk-container-id-21 div.sk-parallel-item:only-child::after {width: 0;}#sk-container-id-21 div.sk-dashed-wrapped {border: 1px dashed gray;margin: 0 0.4em 0.5em 0.4em;box-sizing: border-box;padding-bottom: 0.4em;background-color: white;}#sk-container-id-21 div.sk-label label {font-family: monospace;font-weight: bold;display: inline-block;line-height: 1.2em;}#sk-container-id-21 div.sk-label-container {text-align: center;}#sk-container-id-21 div.sk-container {/* jupyter's `normalize.less` sets `[hidden] { display: none; }` but bootstrap.min.css set `[hidden] { display: none !important; }` so we also need the `!important` here to be able to override the default hidden behavior on the sphinx rendered scikit-learn.org. See: https://github.com/scikit-learn/scikit-learn/issues/21755 */display: inline-block !important;position: relative;}#sk-container-id-21 div.sk-text-repr-fallback {display: none;}</style><div id=\"sk-container-id-21\" class=\"sk-top-container\"><div class=\"sk-text-repr-fallback\"><pre>RandomForestClassifier(bootstrap=&#x27;False&#x27;, max_depth=18, min_samples_leaf=10,\n",
       "                       min_samples_split=6, n_estimators=390, oob_score=&#x27;False&#x27;,\n",
       "                       random_state=10)</pre><b>In a Jupyter environment, please rerun this cell to show the HTML representation or trust the notebook. <br />On GitHub, the HTML representation is unable to render, please try loading this page with nbviewer.org.</b></div><div class=\"sk-container\" hidden><div class=\"sk-item\"><div class=\"sk-estimator sk-toggleable\"><input class=\"sk-toggleable__control sk-hidden--visually\" id=\"sk-estimator-id-31\" type=\"checkbox\" checked><label for=\"sk-estimator-id-31\" class=\"sk-toggleable__label sk-toggleable__label-arrow\">RandomForestClassifier</label><div class=\"sk-toggleable__content\"><pre>RandomForestClassifier(bootstrap=&#x27;False&#x27;, max_depth=18, min_samples_leaf=10,\n",
       "                       min_samples_split=6, n_estimators=390, oob_score=&#x27;False&#x27;,\n",
       "                       random_state=10)</pre></div></div></div></div></div>"
      ],
      "text/plain": [
       "RandomForestClassifier(bootstrap='False', max_depth=18, min_samples_leaf=10,\n",
       "                       min_samples_split=6, n_estimators=390, oob_score='False',\n",
       "                       random_state=10)"
      ]
     },
     "execution_count": 144,
     "metadata": {},
     "output_type": "execute_result"
    }
   ],
   "source": [
    "rscv.best_estimator_"
   ]
  },
  {
   "cell_type": "code",
   "execution_count": 145,
   "id": "6bdbc0fb",
   "metadata": {},
   "outputs": [
    {
     "data": {
      "text/html": [
       "<style>#sk-container-id-22 {color: black;background-color: white;}#sk-container-id-22 pre{padding: 0;}#sk-container-id-22 div.sk-toggleable {background-color: white;}#sk-container-id-22 label.sk-toggleable__label {cursor: pointer;display: block;width: 100%;margin-bottom: 0;padding: 0.3em;box-sizing: border-box;text-align: center;}#sk-container-id-22 label.sk-toggleable__label-arrow:before {content: \"▸\";float: left;margin-right: 0.25em;color: #696969;}#sk-container-id-22 label.sk-toggleable__label-arrow:hover:before {color: black;}#sk-container-id-22 div.sk-estimator:hover label.sk-toggleable__label-arrow:before {color: black;}#sk-container-id-22 div.sk-toggleable__content {max-height: 0;max-width: 0;overflow: hidden;text-align: left;background-color: #f0f8ff;}#sk-container-id-22 div.sk-toggleable__content pre {margin: 0.2em;color: black;border-radius: 0.25em;background-color: #f0f8ff;}#sk-container-id-22 input.sk-toggleable__control:checked~div.sk-toggleable__content {max-height: 200px;max-width: 100%;overflow: auto;}#sk-container-id-22 input.sk-toggleable__control:checked~label.sk-toggleable__label-arrow:before {content: \"▾\";}#sk-container-id-22 div.sk-estimator input.sk-toggleable__control:checked~label.sk-toggleable__label {background-color: #d4ebff;}#sk-container-id-22 div.sk-label input.sk-toggleable__control:checked~label.sk-toggleable__label {background-color: #d4ebff;}#sk-container-id-22 input.sk-hidden--visually {border: 0;clip: rect(1px 1px 1px 1px);clip: rect(1px, 1px, 1px, 1px);height: 1px;margin: -1px;overflow: hidden;padding: 0;position: absolute;width: 1px;}#sk-container-id-22 div.sk-estimator {font-family: monospace;background-color: #f0f8ff;border: 1px dotted black;border-radius: 0.25em;box-sizing: border-box;margin-bottom: 0.5em;}#sk-container-id-22 div.sk-estimator:hover {background-color: #d4ebff;}#sk-container-id-22 div.sk-parallel-item::after {content: \"\";width: 100%;border-bottom: 1px solid gray;flex-grow: 1;}#sk-container-id-22 div.sk-label:hover label.sk-toggleable__label {background-color: #d4ebff;}#sk-container-id-22 div.sk-serial::before {content: \"\";position: absolute;border-left: 1px solid gray;box-sizing: border-box;top: 0;bottom: 0;left: 50%;z-index: 0;}#sk-container-id-22 div.sk-serial {display: flex;flex-direction: column;align-items: center;background-color: white;padding-right: 0.2em;padding-left: 0.2em;position: relative;}#sk-container-id-22 div.sk-item {position: relative;z-index: 1;}#sk-container-id-22 div.sk-parallel {display: flex;align-items: stretch;justify-content: center;background-color: white;position: relative;}#sk-container-id-22 div.sk-item::before, #sk-container-id-22 div.sk-parallel-item::before {content: \"\";position: absolute;border-left: 1px solid gray;box-sizing: border-box;top: 0;bottom: 0;left: 50%;z-index: -1;}#sk-container-id-22 div.sk-parallel-item {display: flex;flex-direction: column;z-index: 1;position: relative;background-color: white;}#sk-container-id-22 div.sk-parallel-item:first-child::after {align-self: flex-end;width: 50%;}#sk-container-id-22 div.sk-parallel-item:last-child::after {align-self: flex-start;width: 50%;}#sk-container-id-22 div.sk-parallel-item:only-child::after {width: 0;}#sk-container-id-22 div.sk-dashed-wrapped {border: 1px dashed gray;margin: 0 0.4em 0.5em 0.4em;box-sizing: border-box;padding-bottom: 0.4em;background-color: white;}#sk-container-id-22 div.sk-label label {font-family: monospace;font-weight: bold;display: inline-block;line-height: 1.2em;}#sk-container-id-22 div.sk-label-container {text-align: center;}#sk-container-id-22 div.sk-container {/* jupyter's `normalize.less` sets `[hidden] { display: none; }` but bootstrap.min.css set `[hidden] { display: none !important; }` so we also need the `!important` here to be able to override the default hidden behavior on the sphinx rendered scikit-learn.org. See: https://github.com/scikit-learn/scikit-learn/issues/21755 */display: inline-block !important;position: relative;}#sk-container-id-22 div.sk-text-repr-fallback {display: none;}</style><div id=\"sk-container-id-22\" class=\"sk-top-container\"><div class=\"sk-text-repr-fallback\"><pre>RandomForestClassifier(bootstrap=&#x27;False&#x27;, max_depth=18, min_samples_leaf=10,\n",
       "                       min_samples_split=6, n_estimators=390, oob_score=&#x27;False&#x27;,\n",
       "                       random_state=10)</pre><b>In a Jupyter environment, please rerun this cell to show the HTML representation or trust the notebook. <br />On GitHub, the HTML representation is unable to render, please try loading this page with nbviewer.org.</b></div><div class=\"sk-container\" hidden><div class=\"sk-item\"><div class=\"sk-estimator sk-toggleable\"><input class=\"sk-toggleable__control sk-hidden--visually\" id=\"sk-estimator-id-32\" type=\"checkbox\" checked><label for=\"sk-estimator-id-32\" class=\"sk-toggleable__label sk-toggleable__label-arrow\">RandomForestClassifier</label><div class=\"sk-toggleable__content\"><pre>RandomForestClassifier(bootstrap=&#x27;False&#x27;, max_depth=18, min_samples_leaf=10,\n",
       "                       min_samples_split=6, n_estimators=390, oob_score=&#x27;False&#x27;,\n",
       "                       random_state=10)</pre></div></div></div></div></div>"
      ],
      "text/plain": [
       "RandomForestClassifier(bootstrap='False', max_depth=18, min_samples_leaf=10,\n",
       "                       min_samples_split=6, n_estimators=390, oob_score='False',\n",
       "                       random_state=10)"
      ]
     },
     "execution_count": 145,
     "metadata": {},
     "output_type": "execute_result"
    }
   ],
   "source": [
    "rf_hyp_model=rscv.best_estimator_\n",
    "rf_hyp_model.fit(x_train,y_train)"
   ]
  },
  {
   "cell_type": "code",
   "execution_count": 146,
   "id": "4859ee84",
   "metadata": {},
   "outputs": [
    {
     "name": "stdout",
     "output_type": "stream",
     "text": [
      "Accurancy score=0.9126760563380282\n",
      "**************************************************\n",
      "Confusion matrix=\n",
      "[[1286  134]\n",
      " [ 114 1306]]\n",
      "**************************************************\n",
      "Classification Report=              precision    recall  f1-score   support\n",
      "\n",
      "           0       0.92      0.91      0.91      1420\n",
      "           1       0.91      0.92      0.91      1420\n",
      "\n",
      "    accuracy                           0.91      2840\n",
      "   macro avg       0.91      0.91      0.91      2840\n",
      "weighted avg       0.91      0.91      0.91      2840\n",
      "\n"
     ]
    }
   ],
   "source": [
    "#Model Evalution\n",
    "#testing data evalution\n",
    "y_test_predict=rf_hyp_model.predict(x_test)\n",
    "mod_eval(y_test,y_test_predict)"
   ]
  },
  {
   "cell_type": "code",
   "execution_count": 147,
   "id": "0c74b9e6",
   "metadata": {},
   "outputs": [
    {
     "name": "stdout",
     "output_type": "stream",
     "text": [
      "Accurancy score=0.9332930878357983\n",
      "**************************************************\n",
      "Confusion matrix=\n",
      "[[3083  230]\n",
      " [ 212 3101]]\n",
      "**************************************************\n",
      "Classification Report=              precision    recall  f1-score   support\n",
      "\n",
      "           0       0.94      0.93      0.93      3313\n",
      "           1       0.93      0.94      0.93      3313\n",
      "\n",
      "    accuracy                           0.93      6626\n",
      "   macro avg       0.93      0.93      0.93      6626\n",
      "weighted avg       0.93      0.93      0.93      6626\n",
      "\n"
     ]
    }
   ],
   "source": [
    "#training data evalution\n",
    "y_train_predict=rf_hyp_model.predict(x_train)\n",
    "mod_eval(y_train,y_train_predict)"
   ]
  },
  {
   "cell_type": "raw",
   "id": "e272bb51",
   "metadata": {},
   "source": [
    "All Model Data\n",
    "model         training acc testing acc\n",
    "logistic >>>>85 & 84\n",
    "knn_>>>>>>>>>93 & 89\n",
    "knn_hyp >>>>>94 & 90\n",
    "dt tree >>>>>100 & 91\n",
    "dt_hyp_model>>89 & 86\n",
    "rf_model >>>>100 & 95\n",
    "rf_hyp_model >>93 & 91"
   ]
  },
  {
   "cell_type": "code",
   "execution_count": null,
   "id": "6c5caf3b",
   "metadata": {},
   "outputs": [],
   "source": [
    "# from above we select >>>>rf_model"
   ]
  },
  {
   "cell_type": "code",
   "execution_count": 148,
   "id": "5cb115c7",
   "metadata": {},
   "outputs": [
    {
     "data": {
      "text/html": [
       "<div>\n",
       "<style scoped>\n",
       "    .dataframe tbody tr th:only-of-type {\n",
       "        vertical-align: middle;\n",
       "    }\n",
       "\n",
       "    .dataframe tbody tr th {\n",
       "        vertical-align: top;\n",
       "    }\n",
       "\n",
       "    .dataframe thead th {\n",
       "        text-align: right;\n",
       "    }\n",
       "</style>\n",
       "<table border=\"1\" class=\"dataframe\">\n",
       "  <thead>\n",
       "    <tr style=\"text-align: right;\">\n",
       "      <th></th>\n",
       "      <th>gender</th>\n",
       "      <th>age</th>\n",
       "      <th>hypertension</th>\n",
       "      <th>heart_disease</th>\n",
       "      <th>ever_married</th>\n",
       "      <th>Residence_type</th>\n",
       "      <th>avg_glucose_level</th>\n",
       "      <th>bmi</th>\n",
       "      <th>smoking_status</th>\n",
       "      <th>work_type_Govt_job</th>\n",
       "      <th>work_type_Private</th>\n",
       "      <th>work_type_Self-employed</th>\n",
       "      <th>work_type_children</th>\n",
       "    </tr>\n",
       "  </thead>\n",
       "  <tbody>\n",
       "    <tr>\n",
       "      <th>0</th>\n",
       "      <td>1</td>\n",
       "      <td>67.000000</td>\n",
       "      <td>0</td>\n",
       "      <td>1</td>\n",
       "      <td>1</td>\n",
       "      <td>1</td>\n",
       "      <td>228.690000</td>\n",
       "      <td>36.600000</td>\n",
       "      <td>3</td>\n",
       "      <td>0</td>\n",
       "      <td>1</td>\n",
       "      <td>0</td>\n",
       "      <td>0</td>\n",
       "    </tr>\n",
       "    <tr>\n",
       "      <th>1</th>\n",
       "      <td>1</td>\n",
       "      <td>80.000000</td>\n",
       "      <td>0</td>\n",
       "      <td>1</td>\n",
       "      <td>1</td>\n",
       "      <td>0</td>\n",
       "      <td>105.920000</td>\n",
       "      <td>32.500000</td>\n",
       "      <td>0</td>\n",
       "      <td>0</td>\n",
       "      <td>1</td>\n",
       "      <td>0</td>\n",
       "      <td>0</td>\n",
       "    </tr>\n",
       "    <tr>\n",
       "      <th>2</th>\n",
       "      <td>0</td>\n",
       "      <td>49.000000</td>\n",
       "      <td>0</td>\n",
       "      <td>0</td>\n",
       "      <td>1</td>\n",
       "      <td>1</td>\n",
       "      <td>171.230000</td>\n",
       "      <td>34.400000</td>\n",
       "      <td>1</td>\n",
       "      <td>0</td>\n",
       "      <td>1</td>\n",
       "      <td>0</td>\n",
       "      <td>0</td>\n",
       "    </tr>\n",
       "    <tr>\n",
       "      <th>3</th>\n",
       "      <td>0</td>\n",
       "      <td>79.000000</td>\n",
       "      <td>1</td>\n",
       "      <td>0</td>\n",
       "      <td>1</td>\n",
       "      <td>0</td>\n",
       "      <td>174.120000</td>\n",
       "      <td>24.000000</td>\n",
       "      <td>0</td>\n",
       "      <td>0</td>\n",
       "      <td>0</td>\n",
       "      <td>1</td>\n",
       "      <td>0</td>\n",
       "    </tr>\n",
       "    <tr>\n",
       "      <th>4</th>\n",
       "      <td>1</td>\n",
       "      <td>81.000000</td>\n",
       "      <td>0</td>\n",
       "      <td>0</td>\n",
       "      <td>1</td>\n",
       "      <td>1</td>\n",
       "      <td>186.210000</td>\n",
       "      <td>29.000000</td>\n",
       "      <td>3</td>\n",
       "      <td>0</td>\n",
       "      <td>1</td>\n",
       "      <td>0</td>\n",
       "      <td>0</td>\n",
       "    </tr>\n",
       "    <tr>\n",
       "      <th>...</th>\n",
       "      <td>...</td>\n",
       "      <td>...</td>\n",
       "      <td>...</td>\n",
       "      <td>...</td>\n",
       "      <td>...</td>\n",
       "      <td>...</td>\n",
       "      <td>...</td>\n",
       "      <td>...</td>\n",
       "      <td>...</td>\n",
       "      <td>...</td>\n",
       "      <td>...</td>\n",
       "      <td>...</td>\n",
       "      <td>...</td>\n",
       "    </tr>\n",
       "    <tr>\n",
       "      <th>9461</th>\n",
       "      <td>0</td>\n",
       "      <td>75.821531</td>\n",
       "      <td>0</td>\n",
       "      <td>0</td>\n",
       "      <td>1</td>\n",
       "      <td>1</td>\n",
       "      <td>58.733819</td>\n",
       "      <td>27.935694</td>\n",
       "      <td>2</td>\n",
       "      <td>0</td>\n",
       "      <td>0</td>\n",
       "      <td>0</td>\n",
       "      <td>0</td>\n",
       "    </tr>\n",
       "    <tr>\n",
       "      <th>9462</th>\n",
       "      <td>1</td>\n",
       "      <td>62.758852</td>\n",
       "      <td>0</td>\n",
       "      <td>0</td>\n",
       "      <td>1</td>\n",
       "      <td>0</td>\n",
       "      <td>111.746664</td>\n",
       "      <td>30.346105</td>\n",
       "      <td>3</td>\n",
       "      <td>0</td>\n",
       "      <td>0</td>\n",
       "      <td>0</td>\n",
       "      <td>0</td>\n",
       "    </tr>\n",
       "    <tr>\n",
       "      <th>9463</th>\n",
       "      <td>0</td>\n",
       "      <td>77.738334</td>\n",
       "      <td>0</td>\n",
       "      <td>0</td>\n",
       "      <td>1</td>\n",
       "      <td>0</td>\n",
       "      <td>78.097161</td>\n",
       "      <td>24.370999</td>\n",
       "      <td>3</td>\n",
       "      <td>0</td>\n",
       "      <td>0</td>\n",
       "      <td>0</td>\n",
       "      <td>0</td>\n",
       "    </tr>\n",
       "    <tr>\n",
       "      <th>9464</th>\n",
       "      <td>0</td>\n",
       "      <td>80.517725</td>\n",
       "      <td>0</td>\n",
       "      <td>0</td>\n",
       "      <td>1</td>\n",
       "      <td>0</td>\n",
       "      <td>73.788508</td>\n",
       "      <td>24.517725</td>\n",
       "      <td>0</td>\n",
       "      <td>0</td>\n",
       "      <td>0</td>\n",
       "      <td>0</td>\n",
       "      <td>0</td>\n",
       "    </tr>\n",
       "    <tr>\n",
       "      <th>9465</th>\n",
       "      <td>0</td>\n",
       "      <td>79.300108</td>\n",
       "      <td>0</td>\n",
       "      <td>0</td>\n",
       "      <td>1</td>\n",
       "      <td>0</td>\n",
       "      <td>80.170780</td>\n",
       "      <td>18.429903</td>\n",
       "      <td>1</td>\n",
       "      <td>0</td>\n",
       "      <td>0</td>\n",
       "      <td>0</td>\n",
       "      <td>0</td>\n",
       "    </tr>\n",
       "  </tbody>\n",
       "</table>\n",
       "<p>9466 rows × 13 columns</p>\n",
       "</div>"
      ],
      "text/plain": [
       "      gender        age  hypertension  heart_disease  ever_married  \\\n",
       "0          1  67.000000             0              1             1   \n",
       "1          1  80.000000             0              1             1   \n",
       "2          0  49.000000             0              0             1   \n",
       "3          0  79.000000             1              0             1   \n",
       "4          1  81.000000             0              0             1   \n",
       "...      ...        ...           ...            ...           ...   \n",
       "9461       0  75.821531             0              0             1   \n",
       "9462       1  62.758852             0              0             1   \n",
       "9463       0  77.738334             0              0             1   \n",
       "9464       0  80.517725             0              0             1   \n",
       "9465       0  79.300108             0              0             1   \n",
       "\n",
       "      Residence_type  avg_glucose_level        bmi  smoking_status  \\\n",
       "0                  1         228.690000  36.600000               3   \n",
       "1                  0         105.920000  32.500000               0   \n",
       "2                  1         171.230000  34.400000               1   \n",
       "3                  0         174.120000  24.000000               0   \n",
       "4                  1         186.210000  29.000000               3   \n",
       "...              ...                ...        ...             ...   \n",
       "9461               1          58.733819  27.935694               2   \n",
       "9462               0         111.746664  30.346105               3   \n",
       "9463               0          78.097161  24.370999               3   \n",
       "9464               0          73.788508  24.517725               0   \n",
       "9465               0          80.170780  18.429903               1   \n",
       "\n",
       "      work_type_Govt_job  work_type_Private  work_type_Self-employed  \\\n",
       "0                      0                  1                        0   \n",
       "1                      0                  1                        0   \n",
       "2                      0                  1                        0   \n",
       "3                      0                  0                        1   \n",
       "4                      0                  1                        0   \n",
       "...                  ...                ...                      ...   \n",
       "9461                   0                  0                        0   \n",
       "9462                   0                  0                        0   \n",
       "9463                   0                  0                        0   \n",
       "9464                   0                  0                        0   \n",
       "9465                   0                  0                        0   \n",
       "\n",
       "      work_type_children  \n",
       "0                      0  \n",
       "1                      0  \n",
       "2                      0  \n",
       "3                      0  \n",
       "4                      0  \n",
       "...                  ...  \n",
       "9461                   0  \n",
       "9462                   0  \n",
       "9463                   0  \n",
       "9464                   0  \n",
       "9465                   0  \n",
       "\n",
       "[9466 rows x 13 columns]"
      ]
     },
     "execution_count": 148,
     "metadata": {},
     "output_type": "execute_result"
    }
   ],
   "source": [
    "x"
   ]
  },
  {
   "cell_type": "code",
   "execution_count": 150,
   "id": "7f78a532",
   "metadata": {},
   "outputs": [
    {
     "data": {
      "text/plain": [
       "{'column': ['gender',\n",
       "  'age',\n",
       "  'hypertension',\n",
       "  'heart_disease',\n",
       "  'ever_married',\n",
       "  'Residence_type',\n",
       "  'avg_glucose_level',\n",
       "  'bmi',\n",
       "  'smoking_status',\n",
       "  'work_type_Govt_job',\n",
       "  'work_type_Private',\n",
       "  'work_type_Self-employed',\n",
       "  'work_type_children']}"
      ]
     },
     "execution_count": 150,
     "metadata": {},
     "output_type": "execute_result"
    }
   ],
   "source": [
    "col_list=x_train.columns\n",
    "col_list=list(col_list)\n",
    "col_dict={'column':col_list}\n",
    "col_dict"
   ]
  },
  {
   "cell_type": "code",
   "execution_count": 154,
   "id": "adeb59a6",
   "metadata": {},
   "outputs": [
    {
     "data": {
      "text/plain": [
       "Index(['gender', 'age', 'hypertension', 'heart_disease', 'ever_married',\n",
       "       'Residence_type', 'avg_glucose_level', 'bmi', 'smoking_status',\n",
       "       'stroke', 'work_type_Govt_job', 'work_type_Private',\n",
       "       'work_type_Self-employed', 'work_type_children'],\n",
       "      dtype='object')"
      ]
     },
     "execution_count": 154,
     "metadata": {},
     "output_type": "execute_result"
    }
   ],
   "source": [
    "df.columns"
   ]
  },
  {
   "cell_type": "code",
   "execution_count": 151,
   "id": "e00e2773",
   "metadata": {},
   "outputs": [],
   "source": [
    "import json\n",
    "with open('col_dict.json','w') as file:\n",
    "    json.dump(col_dict,file)"
   ]
  },
  {
   "cell_type": "code",
   "execution_count": 153,
   "id": "c2446b43",
   "metadata": {},
   "outputs": [],
   "source": [
    "import pickle\n",
    "with open('best_model.pkl','wb') as file:\n",
    "    pickle.dump(rf_model,file)"
   ]
  },
  {
   "cell_type": "code",
   "execution_count": null,
   "id": "48c0e51c",
   "metadata": {},
   "outputs": [],
   "source": []
  }
 ],
 "metadata": {
  "kernelspec": {
   "display_name": "cancer_kernel",
   "language": "python",
   "name": "cancer_kernel"
  },
  "language_info": {
   "codemirror_mode": {
    "name": "ipython",
    "version": 3
   },
   "file_extension": ".py",
   "mimetype": "text/x-python",
   "name": "python",
   "nbconvert_exporter": "python",
   "pygments_lexer": "ipython3",
   "version": "3.8.10"
  },
  "varInspector": {
   "cols": {
    "lenName": 16,
    "lenType": 16,
    "lenVar": 40
   },
   "kernels_config": {
    "python": {
     "delete_cmd_postfix": "",
     "delete_cmd_prefix": "del ",
     "library": "var_list.py",
     "varRefreshCmd": "print(var_dic_list())"
    },
    "r": {
     "delete_cmd_postfix": ") ",
     "delete_cmd_prefix": "rm(",
     "library": "var_list.r",
     "varRefreshCmd": "cat(var_dic_list()) "
    }
   },
   "types_to_exclude": [
    "module",
    "function",
    "builtin_function_or_method",
    "instance",
    "_Feature"
   ],
   "window_display": false
  }
 },
 "nbformat": 4,
 "nbformat_minor": 5
}
